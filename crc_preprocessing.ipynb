{
 "cells": [
  {
   "cell_type": "markdown",
   "id": "d4650d0b-4f20-45c2-a225-f317ebe74af1",
   "metadata": {},
   "source": [
    "# defautling"
   ]
  },
  {
   "cell_type": "code",
   "execution_count": 2,
   "id": "a4439c08-1538-4cd3-954a-9dc4a6bf9fa2",
   "metadata": {},
   "outputs": [],
   "source": [
    "import scanpy as sc\n",
    "import pandas as pd\n",
    "import numpy as np\n",
    "import scvi\n",
    "import scanpy as sc\n",
    "import anndata\n",
    "\n"
   ]
  },
  {
   "cell_type": "code",
   "execution_count": null,
   "id": "bf822673-6d3f-4062-97d6-41144d669275",
   "metadata": {},
   "outputs": [],
   "source": [
    "scale_factor=1e4"
   ]
  },
  {
   "cell_type": "code",
   "execution_count": 4,
   "id": "0e719bca-2241-47f4-8c7a-954f248e4236",
   "metadata": {},
   "outputs": [],
   "source": [
    "sc_data=sc.read_h5ad(\"/data/kjc2/projects/P330.CSA/rds/core_atlas-adata.h5ad\")"
   ]
  },
  {
   "cell_type": "markdown",
   "id": "b4a6d845-42ad-4948-a6a9-eda25f2efcea",
   "metadata": {},
   "source": [
    "# subsampling"
   ]
  },
  {
   "cell_type": "code",
   "execution_count": 7,
   "id": "8edd6f3b-1c47-467d-9c3c-491fae4f8325",
   "metadata": {},
   "outputs": [],
   "source": [
    "down_size = 10  # 희석 배수\n",
    "random_idx = np.random.choice(sc_data.n_obs, int(sc_data.n_obs/down_size), replace=False)\n",
    "sc_data_sub = sc_data[random_idx].copy()\n",
    "sc_data_sub.write_h5ad(\"/data/kjc2/projects/P330.CSA/rds/core_atlas-adata_down_10.h5ad\")\n",
    "\n",
    "down_size=100\n",
    "random_idx = np.random.choice(sc_data.n_obs, int(sc_data.n_obs/down_size), replace=False)\n",
    "sc_data_sub = sc_data[random_idx].copy()\n",
    "sc_data_sub.write_h5ad(\"/data/kjc2/projects/P330.CSA/rds/core_atlas-adata_down_100.h5ad\")\n",
    "\n",
    "#del(sc_data)"
   ]
  },
  {
   "cell_type": "markdown",
   "id": "38739c4e-f101-4a8a-84d6-bf49bb58afba",
   "metadata": {},
   "source": [
    "# loading"
   ]
  },
  {
   "cell_type": "code",
   "execution_count": 3,
   "id": "f2718457-3949-4d27-8d5c-13eadab05667",
   "metadata": {},
   "outputs": [],
   "source": [
    "sc_data_sub=sc.read_h5ad(\"/data/kjc2/projects/P330.CSA/rds/core_atlas-adata_down_100.h5ad\")"
   ]
  },
  {
   "cell_type": "markdown",
   "id": "7c94d377-2a76-4cff-af86-88c7f031474e",
   "metadata": {},
   "source": [
    "# scVI"
   ]
  },
  {
   "cell_type": "code",
   "execution_count": null,
   "id": "c14c8cb6-be26-4fe3-ad3d-e6e439f2e59f",
   "metadata": {},
   "outputs": [
    {
     "name": "stderr",
     "output_type": "stream",
     "text": [
      "/home/jaecheon/anaconda3/envs/scenvi/lib/python3.10/site-packages/scvi/data/fields/_dataframe_field.py:187: UserWarning: Category 1 in adata.obs['_scvi_batch'] has fewer than 3 cells. Models may not train properly.\n",
      "  categorical_mapping = _make_column_categorical(\n",
      "GPU available: True (cuda), used: True\n",
      "TPU available: False, using: 0 TPU cores\n",
      "HPU available: False, using: 0 HPUs\n",
      "LOCAL_RANK: 0 - CUDA_VISIBLE_DEVICES: [0]\n",
      "/home/jaecheon/anaconda3/envs/scenvi/lib/python3.10/site-packages/lightning/pytorch/trainer/connectors/data_connector.py:425: The 'train_dataloader' does not have many workers which may be a bottleneck. Consider increasing the value of the `num_workers` argument` to `num_workers=111` in the `DataLoader` to improve performance.\n"
     ]
    },
    {
     "data": {
      "application/vnd.jupyter.widget-view+json": {
       "model_id": "a25f16195f9a431dac9bd79653ee13d6",
       "version_major": 2,
       "version_minor": 0
      },
      "text/plain": [
       "Training:   0%|          | 0/188 [00:00<?, ?it/s]"
      ]
     },
     "metadata": {},
     "output_type": "display_data"
    }
   ],
   "source": [
    "scvi.model.SCVI.setup_anndata(sc_data_sub, batch_key=\"dataset\",layer=\"counts\")\n",
    "# 모델 생성\n",
    "model = scvi.model.SCVI(sc_data_sub)\n",
    "\n",
    "# 모델 훈련 (GPU 사용 가능시 자동으로 활용)\n",
    "model.train()\n",
    "# Error displaying widget: model not found 무시해도 되는 오류라고 함.\n",
    "# /home/jaecheon/anaconda3/envs/scenvi/lib/python3.10/site-packages/scvi/module/_vae.py:569: UserWarning: The value argument must be within the support of the distribution\n",
    "# reconst_loss = -generative_outputs[MODULE_KEYS.PX_KEY].log_prob(x).sum(-1)\n",
    "# 이 오류는 raw counts(음이아닌정수)가 아닌 데이터가 들어온 것을 암시하며, 문제가 있다는 의미임.\n",
    "\n",
    "# 잠재 공간 표현 얻기 (기본적으로 10차원)\n",
    "adata.obsm[\"X_scVI_kjc\"] = model.get_latent_representation()\n",
    "\n",
    "# 정규화된 발현 값 얻기\n",
    "# library_size='auto'는 각 세포의 라이브러리 크기를 고려하여 스케일링합니다.\n",
    "# n_samples=1은 각 세포 및 유전자에 대해 하나의 값을 샘플링합니다 (기본값).\n",
    "# 더 안정적인 값을 원하면 n_samples를 늘릴 수 있지만 계산량이 증가합니다.\n",
    "sc_data_sub.layers[\"scvi_normalized\"] = model.get_normalized_expression(\n",
    "    library_size=\"auto\",\n",
    "    n_samples=1 # 필요에 따라 조절\n",
    ")\n",
    "\n",
    "# 결과 확인 (예: 특정 유전자 확인)\n",
    "# print(adata.layers[\"scvi_normalized\"][:5, :5])"
   ]
  },
  {
   "cell_type": "code",
   "execution_count": 18,
   "id": "f30bda21-42d8-424a-9790-da4606b4b5e3",
   "metadata": {
    "collapsed": true,
    "jupyter": {
     "outputs_hidden": true
    }
   },
   "outputs": [
    {
     "data": {
      "text/plain": [
       "AnnData object with n_obs × n_vars = 42649 × 28476\n",
       "    obs: 'dataset', 'medical_condition', 'cancer_type', 'sample_id', 'sample_type', 'tumor_source', 'replicate', 'sample_tissue', 'anatomic_region', 'anatomic_location', 'tumor_stage', 'tumor_stage_TNM', 'tumor_stage_TNM_T', 'tumor_stage_TNM_N', 'tumor_stage_TNM_M', 'tumor_size', 'tumor_dimensions', 'tumor_grade', 'histological_type', 'microsatellite_status', 'mismatch_repair_deficiency_status', 'MLH1_promoter_methylation_status', 'MLH1_status', 'KRAS_status', 'BRAF_status', 'APC_status', 'TP53_status', 'PIK3CA_status', 'SMAD4_status', 'NRAS_status', 'MSH6_status', 'FBXW7_status', 'NOTCH1_status', 'MSH2_status', 'PMS2_status', 'POLE_status', 'ERBB2_status', 'STK11_status', 'HER2_status', 'CTNNB1_status', 'BRAS_status', 'patient_id', 'sex', 'age', 'treatment_status_before_resection', 'treatment_drug', 'treatment_response', 'RECIST', 'platform', 'platform_fine', 'cellranger_version', 'reference_genome', 'matrix_type', 'enrichment_cell_types', 'tissue_cell_state', 'tissue_processing_lab', 'hospital_location', 'country', 'NCBI_BioProject_accession', 'SRA_sample_accession', 'GEO_sample_accession', 'ENA_sample_accession', 'synapse_sample_accession', 'study_id', 'study_doi', 'study_pmid', 'original_obs_names', 'cell_type_coarse_study', 'cell_type_middle_study', 'cell_type_study', 'n_counts', 'n_genes', 'n_genes_by_counts', 'total_counts', 'pct_counts_in_top_20_genes', 'pct_counts_mito', 'S_score', 'G2M_score', 'phase', 'SOLO_doublet_prob', 'SOLO_singlet_prob', 'SOLO_doublet_status', 'cell_type_predicted', 'cell_type_coarse', 'cell_type_middle', 'cell_type_fine', 'CMS_type', 'immune_infiltration_type', 'is_primary_data', 'suspension_type', 'tissue_type', 'donor_id', 'disease', 'disease_ontology_term_id', 'assay', 'assay_ontology_term_id', 'tissue', 'tissue_ontology_term_id', 'sex_ontology_term_id', 'self_reported_ethnicity', 'self_reported_ethnicity_ontology_term_id', 'organism', 'organism_ontology_term_id', 'development_stage', 'development_stage_ontology_term_id', 'cell_type', 'cell_type_ontology_term_id', '_scvi_batch', '_scvi_labels'\n",
       "    var: 'var_names', 'ensembl', 'Geneid', 'GeneSymbol', 'Chromosome', 'Start', 'End', 'Class', 'Strand', 'Length', 'Version', 'Dataset_25pct_Overlap', 'n_cells', 'n_counts', 'n_cells_by_counts', 'mean_counts', 'total_counts', 'highly_variable'\n",
       "    uns: '_scvi_uuid', '_scvi_manager_uuid'\n",
       "    obsm: 'X_scANVI', 'X_scVI', 'X_umap'\n",
       "    layers: 'counts'"
      ]
     },
     "execution_count": 18,
     "metadata": {},
     "output_type": "execute_result"
    }
   ],
   "source": [
    "sc_data_sub"
   ]
  },
  {
   "cell_type": "code",
   "execution_count": null,
   "id": "884d1882-0b0c-457c-b9d3-a4cda17b03e0",
   "metadata": {},
   "outputs": [],
   "source": [
    "sc_data_sub"
   ]
  },
  {
   "cell_type": "code",
   "execution_count": null,
   "id": "b86008ed-deaf-48b4-9070-df7827418b94",
   "metadata": {},
   "outputs": [],
   "source": [
    "sc_data_sub.write_h5ad(\"/data/kjc2/projects/P330.CSA/rds/core_atlas-adata_down_100_scVIed.h5ad\")"
   ]
  },
  {
   "cell_type": "code",
   "execution_count": null,
   "id": "bcc479d2-52b7-404d-9c7e-7a5464b2721b",
   "metadata": {},
   "outputs": [],
   "source": []
  }
 ],
 "metadata": {
  "kernelspec": {
   "display_name": "Python 3 (ipykernel)",
   "language": "python",
   "name": "python3"
  },
  "language_info": {
   "codemirror_mode": {
    "name": "ipython",
    "version": 3
   },
   "file_extension": ".py",
   "mimetype": "text/x-python",
   "name": "python",
   "nbconvert_exporter": "python",
   "pygments_lexer": "ipython3",
   "version": "3.10.4"
  }
 },
 "nbformat": 4,
 "nbformat_minor": 5
}
