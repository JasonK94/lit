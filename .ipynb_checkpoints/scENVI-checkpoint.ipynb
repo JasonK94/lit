{
 "cells": [
  {
   "cell_type": "markdown",
   "id": "55833ba5-0438-4e8f-a5ae-6e9ee7ae1160",
   "metadata": {},
   "source": [
    "# defaulting, installation"
   ]
  },
  {
   "cell_type": "code",
   "execution_count": 1,
   "id": "5b6ae05d-8f50-403b-957a-92164f602819",
   "metadata": {
    "jupyter": {
     "source_hidden": true
    }
   },
   "outputs": [
    {
     "name": "stderr",
     "output_type": "stream",
     "text": [
      "An NVIDIA GPU may be present on this machine, but a CUDA-enabled jaxlib is not installed. Falling back to cpu.\n"
     ]
    }
   ],
   "source": [
    "%load_ext autoreload\n",
    "%autoreload 2\n",
    "\n",
    "import os\n",
    "\n",
    "os.environ[\"CUDA_DEVICE_ORDER\"]=\"PCI_BUS_ID\"\n",
    "os.environ[\"CUDA_VISIBLE_DEVICES\"]=\"-1\" # Change to -1 if you want to use CPU!\n",
    "\n",
    "import warnings\n",
    "warnings.filterwarnings('ignore')\n",
    "\n",
    "import scenvi\n",
    "\n",
    "%matplotlib inline\n",
    "import matplotlib\n",
    "import matplotlib.pyplot as plt\n",
    "import seaborn as sns\n",
    "\n",
    "import numpy as np\n",
    "import pandas as pd\n",
    "import scanpy as sc\n",
    "import colorcet\n",
    "import umap.umap_ as umap\n",
    "\n",
    "import rpy2.robjects as robjects\n",
    "from rpy2.robjects import r"
   ]
  },
  {
   "cell_type": "code",
   "execution_count": 3,
   "id": "1fefba91-ac46-4a63-bfcd-20c18aa26809",
   "metadata": {
    "jupyter": {
     "source_hidden": true
    }
   },
   "outputs": [],
   "source": [
    "cell_type_palette = {'Astro': (0.843137, 0.0, 0.0, 1.0),\n",
    "                     'Endo': (0.54902, 0.235294, 1.0, 1.0),\n",
    "                     'L23_IT': (0.007843, 0.533333, 0.0, 1.0),\n",
    "                     'L45_IT': (0.0, 0.67451, 0.780392, 1.0),\n",
    "                     'L56_NP': (0.596078, 1.0, 0.0, 1.0),\n",
    "                     'L5_ET': (1.0, 0.498039, 0.819608, 1.0),\n",
    "                     'L5_IT': (0.423529, 0.0, 0.309804, 1.0),\n",
    "                     'L5_PT': (1.0, 0.647059, 0.188235, 1.0),\n",
    "                     'L6_CT': (0.345098, 0.231373, 0.0, 1.0),\n",
    "                     'L6_IT': (0.0, 0.341176, 0.34902, 1.0),\n",
    "                     'L6_IT_Car3': (0.0, 0.0, 0.866667, 1.0),\n",
    "                     'L6b': (0.0, 0.992157, 0.811765, 1.0),\n",
    "                     'Lamp5': (0.631373, 0.458824, 0.415686, 1.0),\n",
    "                     'Microglia': (0.737255, 0.717647, 1.0, 1.0),\n",
    "                     'OPC': (0.584314, 0.709804, 0.470588, 1.0),\n",
    "                     'Oligo': (0.752941, 0.015686, 0.72549, 1.0),\n",
    "                     'Pericytes': (0.392157, 0.329412, 0.454902, 1.0),\n",
    "                     'Pvalb': (0.47451, 0.0, 0.0, 1.0),\n",
    "                     'SMC': (0.027451, 0.454902, 0.847059, 1.0),\n",
    "                     'Sncg': (0.996078, 0.960784, 0.564706, 1.0),\n",
    "                     'Sst': (0.0, 0.294118, 0.0, 1.0),\n",
    "                     'VLMC': (0.560784, 0.478431, 0.0, 1.0),\n",
    "                     'Vip': (1.0, 0.447059, 0.4, 1.0)}\n",
    "\n",
    "cell_label_palette = {'GABAergic': (0.843137, 0.0, 0.0, 1.0),\n",
    "                      'Glutamatergic': (0.54902, 0.235294, 1.0, 1.0),\n",
    "                      'Non-Neuronal': (0.007843, 0.533333, 0.0, 1.0)}"
   ]
  },
  {
   "cell_type": "markdown",
   "id": "a2eb1cf2-481d-4e76-88c7-9d0e638dd61d",
   "metadata": {},
   "source": [
    "# File loading"
   ]
  },
  {
   "cell_type": "code",
   "execution_count": 4,
   "id": "c624381e-63a1-4a8d-821f-088209505a29",
   "metadata": {},
   "outputs": [],
   "source": [
    "crc_sc = sc.read_h5ad(\"/data/kjc2/rds/downsampled.h5ad\")"
   ]
  },
  {
   "cell_type": "code",
   "execution_count": 6,
   "id": "6fbc318f-596e-4d06-a805-e7dcbca97d97",
   "metadata": {},
   "outputs": [
    {
     "data": {
      "text/plain": [
       "2"
      ]
     },
     "execution_count": 6,
     "metadata": {},
     "output_type": "execute_result"
    }
   ],
   "source": [
    "1+1"
   ]
  },
  {
   "cell_type": "code",
   "execution_count": null,
   "id": "0f0ba689-75b1-48cb-9a56-cf8a79b264e4",
   "metadata": {},
   "outputs": [],
   "source": []
  },
  {
   "cell_type": "code",
   "execution_count": null,
   "id": "00714d35-01fd-495d-b715-9facf018d78d",
   "metadata": {},
   "outputs": [],
   "source": []
  },
  {
   "cell_type": "code",
   "execution_count": null,
   "id": "8548402e-2a02-4dee-876a-d50ca3ff8f04",
   "metadata": {},
   "outputs": [],
   "source": []
  },
  {
   "cell_type": "code",
   "execution_count": null,
   "id": "d4f66d49-247e-46eb-9906-2da36deec61f",
   "metadata": {},
   "outputs": [],
   "source": []
  },
  {
   "cell_type": "code",
   "execution_count": null,
   "id": "027da1b3-f57d-4497-b742-e0e2a2aa4122",
   "metadata": {},
   "outputs": [],
   "source": []
  },
  {
   "cell_type": "code",
   "execution_count": null,
   "id": "f24fa83a-71d6-4f6a-89d2-ef4438cd95a6",
   "metadata": {},
   "outputs": [],
   "source": []
  },
  {
   "cell_type": "code",
   "execution_count": null,
   "id": "a0d10e42-2863-4447-b833-c83f87136bf8",
   "metadata": {},
   "outputs": [],
   "source": []
  }
 ],
 "metadata": {
  "kernelspec": {
   "display_name": "Python 3 (ipykernel)",
   "language": "python",
   "name": "python3"
  },
  "language_info": {
   "codemirror_mode": {
    "name": "ipython",
    "version": 3
   },
   "file_extension": ".py",
   "mimetype": "text/x-python",
   "name": "python",
   "nbconvert_exporter": "python",
   "pygments_lexer": "ipython3",
   "version": "3.9.21"
  }
 },
 "nbformat": 4,
 "nbformat_minor": 5
}
