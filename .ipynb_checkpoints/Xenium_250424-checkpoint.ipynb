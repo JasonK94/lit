{
 "cells": [
  {
   "cell_type": "markdown",
   "id": "50d69460-967b-44c0-9ee9-7ced6d5fcdd4",
   "metadata": {},
   "source": [
    "# defaulting"
   ]
  },
  {
   "cell_type": "code",
   "execution_count": 1,
   "id": "d3071ba3-4d8e-4b4e-acaf-98d9af45b3ab",
   "metadata": {},
   "outputs": [
    {
     "name": "stderr",
     "output_type": "stream",
     "text": [
      "An NVIDIA GPU may be present on this machine, but a CUDA-enabled jaxlib is not installed. Falling back to cpu.\n"
     ]
    }
   ],
   "source": [
    "import os\n",
    "\n",
    "os.environ[\"CUDA_DEVICE_ORDER\"]=\"PCI_BUS_ID\"\n",
    "os.environ[\"CUDA_VISIBLE_DEVICES\"]=\"0\" # Change to -1 if you want to use CPU!\n",
    "\n",
    "import warnings\n",
    "warnings.filterwarnings('ignore')\n",
    "\n",
    "import scenvi\n",
    "%matplotlib inline\n",
    "import matplotlib\n",
    "import matplotlib.pyplot as plt\n",
    "import seaborn as sns\n",
    "\n",
    "import numpy as np\n",
    "import pandas as pd\n",
    "import scanpy as sc\n",
    "import colorcet\n",
    "import umap.umap_ as umap\n"
   ]
  },
  {
   "cell_type": "code",
   "execution_count": 9,
   "id": "d87f96dc-32fb-47db-b05b-43914fb1064b",
   "metadata": {},
   "outputs": [
    {
     "data": {
      "text/plain": [
       "'/data/kjc2/projects/P330.CSA/rds'"
      ]
     },
     "execution_count": 9,
     "metadata": {},
     "output_type": "execute_result"
    }
   ],
   "source": [
    "os.chdir(\"/data/kjc2/projects/P330.CSA/rds\")\n",
    "os.getcwd()"
   ]
  },
  {
   "cell_type": "code",
   "execution_count": null,
   "id": "c0f8a4a2-a2eb-4127-840b-2c04ef4dcc01",
   "metadata": {
    "editable": true,
    "jupyter": {
     "source_hidden": true
    },
    "slideshow": {
     "slide_type": ""
    },
    "tags": []
   },
   "outputs": [],
   "source": [
    "cell_type_palette = {'Astro': (0.843137, 0.0, 0.0, 1.0),\n",
    "                     'Endo': (0.54902, 0.235294, 1.0, 1.0),\n",
    "                     'L23_IT': (0.007843, 0.533333, 0.0, 1.0),\n",
    "                     'L45_IT': (0.0, 0.67451, 0.780392, 1.0),\n",
    "                     'L56_NP': (0.596078, 1.0, 0.0, 1.0),\n",
    "                     'L5_ET': (1.0, 0.498039, 0.819608, 1.0),\n",
    "                     'L5_IT': (0.423529, 0.0, 0.309804, 1.0),\n",
    "                     'L5_PT': (1.0, 0.647059, 0.188235, 1.0),\n",
    "                     'L6_CT': (0.345098, 0.231373, 0.0, 1.0),\n",
    "                     'L6_IT': (0.0, 0.341176, 0.34902, 1.0),\n",
    "                     'L6_IT_Car3': (0.0, 0.0, 0.866667, 1.0),\n",
    "                     'L6b': (0.0, 0.992157, 0.811765, 1.0),\n",
    "                     'Lamp5': (0.631373, 0.458824, 0.415686, 1.0),\n",
    "                     'Microglia': (0.737255, 0.717647, 1.0, 1.0),\n",
    "                     'OPC': (0.584314, 0.709804, 0.470588, 1.0),\n",
    "                     'Oligo': (0.752941, 0.015686, 0.72549, 1.0),\n",
    "                     'Pericytes': (0.392157, 0.329412, 0.454902, 1.0),\n",
    "                     'Pvalb': (0.47451, 0.0, 0.0, 1.0),\n",
    "                     'SMC': (0.027451, 0.454902, 0.847059, 1.0),\n",
    "                     'Sncg': (0.996078, 0.960784, 0.564706, 1.0),\n",
    "                     'Sst': (0.0, 0.294118, 0.0, 1.0),\n",
    "                     'VLMC': (0.560784, 0.478431, 0.0, 1.0),\n",
    "                     'Vip': (1.0, 0.447059, 0.4, 1.0)}\n",
    "\n",
    "cell_label_palette = {'GABAergic': (0.843137, 0.0, 0.0, 1.0),\n",
    "                      'Glutamatergic': (0.54902, 0.235294, 1.0, 1.0),\n",
    "                      'Non-Neuronal': (0.007843, 0.533333, 0.0, 1.0)}"
   ]
  },
  {
   "cell_type": "code",
   "execution_count": 3,
   "id": "d1328884-32b8-4f74-9b55-3e1e21cd4bec",
   "metadata": {},
   "outputs": [],
   "source": [
    "cell_type_palette = {'0': (0.843137, 0.0, 0.0, 1.0),\n",
    "                     '1': (0.54902, 0.235294, 1.0, 1.0),\n",
    "                     '2': (0.007843, 0.533333, 0.0, 1.0),\n",
    "                     '3': (0.0, 0.67451, 0.780392, 1.0),\n",
    "                     '4': (0.596078, 1.0, 0.0, 1.0),\n",
    "                     '5': (1.0, 0.498039, 0.819608, 1.0),\n",
    "                     '6': (0.423529, 0.0, 0.309804, 1.0),\n",
    "                     '7': (1.0, 0.647059, 0.188235, 1.0),\n",
    "                     '8': (0.345098, 0.231373, 0.0, 1.0),\n",
    "                     '9': (0.0, 0.341176, 0.34902, 1.0),\n",
    "                     '10': (0.0, 0.0, 0.866667, 1.0),\n",
    "                     '11': (0.0, 0.992157, 0.811765, 1.0),\n",
    "                     '12': (0.631373, 0.458824, 0.415686, 1.0),\n",
    "                     '13': (0.737255, 0.717647, 1.0, 1.0),\n",
    "                     '14': (0.584314, 0.709804, 0.470588, 1.0),\n",
    "                     '15': (0.752941, 0.015686, 0.72549, 1.0),\n",
    "                     '16': (0.392157, 0.329412, 0.454902, 1.0),\n",
    "                     '17': (0.47451, 0.0, 0.0, 1.0),\n",
    "                     '18': (0.027451, 0.454902, 0.847059, 1.0),\n",
    "                     'Sncg': (0.996078, 0.960784, 0.564706, 1.0),\n",
    "                     'Sst': (0.0, 0.294118, 0.0, 1.0),\n",
    "                     'VLMC': (0.560784, 0.478431, 0.0, 1.0),\n",
    "                     'Vip': (1.0, 0.447059, 0.4, 1.0)}\n",
    "\n",
    "cell_label_palette = {'GABAergic': (0.843137, 0.0, 0.0, 1.0),\n",
    "                      'Glutamatergic': (0.54902, 0.235294, 1.0, 1.0),\n",
    "                      'Non-Neuronal': (0.007843, 0.533333, 0.0, 1.0)}"
   ]
  },
  {
   "cell_type": "markdown",
   "id": "97f89e61-20c6-468e-b9dd-6be5b95846c8",
   "metadata": {},
   "source": [
    "# Scanpy Pipeline "
   ]
  },
  {
   "cell_type": "markdown",
   "id": "85f32795-624c-4fb7-aa23-18ebd746dcf6",
   "metadata": {},
   "source": [
    "# gemini 2.5; basic pipeline for xenium data"
   ]
  },
  {
   "cell_type": "markdown",
   "id": "dbb1a287-ffc3-4cf3-9768-4f7721f3e7a7",
   "metadata": {},
   "source": [
    "## standard preprocessing of Xenium"
   ]
  },
  {
   "cell_type": "markdown",
   "id": "80f78774-3d49-4205-92f2-12c813e5842c",
   "metadata": {},
   "source": [
    "### using log nmz"
   ]
  },
  {
   "cell_type": "code",
   "execution_count": null,
   "id": "cc8cac0f-d3b6-4f6c-825b-9ed96a576d19",
   "metadata": {
    "jupyter": {
     "source_hidden": true
    }
   },
   "outputs": [],
   "source": [
    "import scanpy as sc\n",
    "import pandas as pd\n",
    "import numpy as np\n",
    "\n",
    "# --- 1. 데이터 로딩 및 메타데이터 추가 ---\n",
    "# Xenium 출력 폴더 경로\n",
    "xenium_folder = '/data/ARPAH/250210_CRC_BJM/output-XETG00274__0050585__Region_1__20250205__113422/'\n",
    "\n",
    "# Cell-feature matrix 로딩\n",
    "adata = sc.read_10x_h5(f'{xenium_folder}/cell_feature_matrix.h5')\n",
    "adata.var_names_make_unique() # 유전자 이름 고유하게 만들기\n",
    "\n",
    "# 세포 메타데이터 및 공간 좌표 로딩 (Parquet 기준)\n",
    "cells_df = pd.read_parquet(f'{xenium_folder}/cells.parquet')\n",
    "\n",
    "# AnnData의 obs 인덱스와 cells_df의 cell_id가 일치하는지 확인 필요\n",
    "# 만약 다르다면, cells_df의 인덱스를 cell_id로 설정\n",
    "if 'cell_id' in cells_df.columns:\n",
    "    cells_df = cells_df.set_index('cell_id')\n",
    "\n",
    "# AnnData의 obs 인덱스와 정렬하여 메타데이터 추가\n",
    "adata.obs = adata.obs.join(cells_df, how='left',lsuffix=\"_adata\",rsuffix=\"_cells_df\")\n",
    "\n",
    "# 공간 좌표 추가 (x_centroid, y_centroid 컬럼 이름 확인 필요)\n",
    "if 'x_centroid' in adata.obs.columns and 'y_centroid' in adata.obs.columns:\n",
    "    adata.obsm['spatial'] = adata.obs[['x_centroid', 'y_centroid']].to_numpy()\n",
    "else:\n",
    "    print(\"Warning: Could not find 'x_centroid' or 'y_centroid' in adata.obs to populate adata.obsm['spatial']\")\n",
    "    # 필요시 다른 좌표 컬럼 사용 (예: fov_x, fov_y - 이는 FOV 내 상대좌표일 수 있음)\n",
    "\n",
    "# 원하는 obs 컬럼 추가 (cells.parquet에 있는 정보 활용)\n",
    "# 예시: fovID -> fov, center_x -> x_centroid, center_y -> y_centroid 등 이름 매핑\n",
    "# 예시: adata.obs['fovID'] = adata.obs['fov']\n",
    "# 다른 정보(slice_id, sample_id, label 등)는 실험 설계에 따라 수동으로 추가하거나 다른 파일에서 로드 필요\n",
    "\n",
    "print(\"Initial AnnData object:\")\n",
    "print(adata)\n",
    "\n",
    "# --- 2. 품질 관리 (QC) ---\n",
    "# QC 지표 계산 (필요시 미토콘드리아 유전자 리스트 제공)\n",
    "# mt_genes = adata.var_names.str.startswith('MT-') # 예시, 패널에 따라 다름\n",
    "# sc.pp.calculate_qc_metrics(adata, qc_vars=['mt'] if np.any(mt_genes) else None, percent_top=None, log1p=False, inplace=True)\n",
    "sc.pp.calculate_qc_metrics(adata, percent_top=None, log1p=False, inplace=True)\n",
    "\n",
    "\n",
    "# QC 시각화 (예시)\n",
    "# sc.pl.violin(adata, ['n_genes_by_counts', 'total_counts'], jitter=0.4, multi_panel=True)\n",
    "# sc.pl.scatter(adata, x='total_counts', y='n_genes_by_counts')\n",
    "\n",
    "# QC 필터링 (값은 데이터에 맞게 조정 필요)\n",
    "min_genes = 20  # 예시: 최소 유전자 수\n",
    "min_counts = 50 # 예시: 최소 전사체 수\n",
    "print(f\"Cells before filtering: {adata.n_obs}\")\n",
    "sc.pp.filter_cells(adata, min_genes=min_genes)\n",
    "sc.pp.filter_cells(adata, min_counts=min_counts)\n",
    "\n",
    "min_cells = 5 # 예시: 최소 세포 수\n",
    "print(f\"Genes before filtering: {adata.n_vars}\")\n",
    "sc.pp.filter_genes(adata, min_cells=min_cells)\n",
    "print(f\"Cells after filtering: {adata.n_obs}\")\n",
    "print(f\"Genes after filtering: {adata.n_vars}\")\n",
    "\n",
    "\n",
    "# --- 3. 정규화 ---\n",
    "# 총 count에 대해 정규화 (target_sum=1e4는 일반적)\n",
    "sc.pp.normalize_total(adata, target_sum=1e4)\n",
    "\n",
    "# 로그 변환\n",
    "sc.pp.log1p(adata)\n",
    "\n",
    "\n",
    "# --- 4. 고변동 유전자 식별 ---\n",
    "# HVG 식별 (flavor='seurat_v3'가 많이 사용됨)\n",
    "sc.pp.highly_variable_genes(adata, min_mean=0.0125, max_mean=3, min_disp=0.5, flavor='seurat_v3')\n",
    "# HVG 결과 시각화\n",
    "# sc.pl.highly_variable_genes(adata)\n",
    "\n",
    "# HVG만 남기려면 (선택 사항, 원본 보존하려면 복사 후 수행)\n",
    "# adata.raw = adata # 원본 데이터를 adata.raw에 저장\n",
    "# adata = adata[:, adata.var.highly_variable]\n",
    "\n",
    "\n",
    "# --- 5. 스케일링 ---\n",
    "# 데이터 스케일링 (주로 HVG에 대해 수행)\n",
    "sc.pp.scale(adata, max_value=10) # max_value로 값 제한 가능\n",
    "\n",
    "\n",
    "# --- 최종 AnnData 객체 확인 ---\n",
    "print(\"\\nProcessed AnnData object:\")\n",
    "print(adata)\n",
    "\n",
    "# 원하는 obs, var 필드가 생성되었는지 확인\n",
    "print(\"\\nAvailable obs columns:\")\n",
    "print(list(adata.obs.columns))\n",
    "print(\"\\nAvailable var columns:\")\n",
    "print(list(adata.var.columns))\n",
    "print(\"\\nAvailable obsm keys:\")\n",
    "print(list(adata.obsm.keys()))\n",
    "\n",
    "\n",
    "# Initial AnnData object:\n",
    "# AnnData object with n_obs × n_vars = 67645 × 5001\n",
    "#     obs: 'x_centroid', 'y_centroid', 'transcript_counts', 'control_probe_counts', 'genomic_control_counts', 'control_codeword_counts', 'unassigned_codeword_counts', 'deprecated_codeword_counts', 'total_counts', 'cell_area', 'nucleus_area', 'nucleus_count', 'segmentation_method'\n",
    "#     var: 'gene_ids', 'feature_types', 'genome'\n",
    "#     obsm: 'spatial'\n",
    "# Cells before filtering: 67645\n",
    "# Genes before filtering: 5001\n",
    "# Cells after filtering: 62941\n",
    "# Genes after filtering: 4999\n",
    "# /home/jaecheon/anaconda3/envs/kjc3.9/lib/python3.9/site-packages/scanpy/preprocessing/_highly_variable_genes.py:75: UserWarning: `flavor='seurat_v3'` expects raw count data, but non-integers were found.\n",
    "#   warnings.warn(\n",
    "\n",
    "# Processed AnnData object:\n",
    "# AnnData object with n_obs × n_vars = 62941 × 4999\n",
    "#     obs: 'x_centroid', 'y_centroid', 'transcript_counts', 'control_probe_counts', 'genomic_control_counts', 'control_codeword_counts', 'unassigned_codeword_counts', 'deprecated_codeword_counts', 'total_counts', 'cell_area', 'nucleus_area', 'nucleus_count', 'segmentation_method', 'n_genes_by_counts', 'n_genes', 'n_counts'\n",
    "#     var: 'gene_ids', 'feature_types', 'genome', 'n_cells_by_counts', 'mean_counts', 'pct_dropout_by_counts', 'total_counts', 'n_cells', 'highly_variable', 'highly_variable_rank', 'means', 'variances', 'variances_norm', 'mean', 'std'\n",
    "#     uns: 'log1p', 'hvg'\n",
    "#     obsm: 'spatial'\n",
    "\n",
    "# Available obs columns:\n",
    "# ['x_centroid', 'y_centroid', 'transcript_counts', 'control_probe_counts', 'genomic_control_counts', 'control_codeword_counts', 'unassigned_codeword_counts', 'deprecated_codeword_counts', 'total_counts', 'cell_area', 'nucleus_area', 'nucleus_count', 'segmentation_method', 'n_genes_by_counts', 'n_genes', 'n_counts']\n",
    "\n",
    "# Available var columns:\n",
    "# ['gene_ids', 'feature_types', 'genome', 'n_cells_by_counts', 'mean_counts', 'pct_dropout_by_counts', 'total_counts', 'n_cells', 'highly_variable', 'highly_variable_rank', 'means', 'variances', 'variances_norm', 'mean', 'std']\n",
    "\n",
    "# Available obsm keys:\n",
    "# ['spatial']"
   ]
  },
  {
   "cell_type": "markdown",
   "id": "e8b4d1c0-47c5-47b5-907c-7f505f2bf8b3",
   "metadata": {},
   "source": [
    "### SCTransform after QC"
   ]
  },
  {
   "cell_type": "code",
   "execution_count": null,
   "id": "2ffaa8ff-8d38-4468-9eb2-956c8919895f",
   "metadata": {
    "jupyter": {
     "source_hidden": true
    }
   },
   "outputs": [],
   "source": [
    "import scanpy as sc\n",
    "import pandas as pd\n",
    "import numpy as np\n",
    "# sctransform 패키지 설치 필요: pip install sctransform\n",
    "import sctransform\n",
    "\n",
    "# --- 가정: adata는 초기 로딩 및 QC 필터링(세포/유전자 제거)까지만 완료됨 ---\n",
    "# --- 즉, adata.X는 필터링된 raw count 상태여야 함 ---\n",
    "\n",
    "# 예시 QC 완료 상태의 adata\n",
    "# (이전 답변의 1. 데이터 로딩 및 메타데이터 추가, 2. 품질 관리 부분 실행 완료 가정)\n",
    "# print(\"AnnData object after QC filtering:\")\n",
    "# print(adata) # 이 시점의 adata.X는 raw counts\n",
    "\n",
    "# --- SCTransform 적용 ---\n",
    "# SCTransform은 scipy sparse matrix를 입력으로 받음\n",
    "counts_matrix = adata.X.copy()\n",
    "\n",
    "# SCTransform 실행 (vst: variance stabilizing transformation)\n",
    "# cell_attr, gene_attr로 obs, var 데이터프레임 전달 가능\n",
    "vst_out = sctransform.vst(\n",
    "    counts_matrix,\n",
    "    gene_names=adata.var_names.tolist(),\n",
    "    cell_names=adata.obs_names.tolist(),\n",
    "    method='poisson', # 또는 'nb'\n",
    "    n_genes=3000,     # 식별할 HVG 수 (조정 가능)\n",
    "    min_cells=5,      # 유전자가 최소 이 수의 세포에서 발현되어야 고려\n",
    "    residual_type='pearson', # pearson 잔차를 주로 사용\n",
    "    verbosity=1\n",
    ")\n",
    "\n",
    "# SCTransform 결과는 딕셔너리 형태\n",
    "# print(vst_out.keys())\n",
    "# dict_keys(['residuals', 'corrected_counts', 'model_pars', 'model_pars_fit', 'gene_attr', 'cell_attr'])\n",
    "\n",
    "# 결과를 AnnData 객체에 저장\n",
    "# 1. 잔차(Residuals): PCA 등 다운스트림 분석에 주로 사용됨\n",
    "adata.layers['sct_residuals'] = vst_out['residuals']\n",
    "\n",
    "# 2. 보정된 Count (선택적): 시각화 등에 사용 가능\n",
    "# adata.layers['sct_corrected_counts'] = vst_out['corrected_counts']\n",
    "\n",
    "# 3. 식별된 고변동 유전자 정보 저장\n",
    "# vst_out['gene_attr'] 데이터프레임에 HVG 정보가 있음 ('highly_variable' 컬럼)\n",
    "adata.var = adata.var.join(vst_out['gene_attr'].set_index('gene_name'), how='left')\n",
    "adata.var.rename(columns={'residual_variance': 'sct_residual_variance'}, inplace=True) # 이름 충돌 방지\n",
    "\n",
    "# HVG로 플래그 지정 (sctransform > 0.1.0 기준, highly_variable 컬럼 존재)\n",
    "if 'highly_variable' in adata.var.columns:\n",
    "     adata.var['highly_variable'] = adata.var['highly_variable'].fillna(False)\n",
    "     print(f\"Identified {adata.var['highly_variable'].sum()} HVGs using SCTransform.\")\n",
    "else:\n",
    "    # 이전 버전 호환성 또는 다른 기준 적용 필요시:\n",
    "    # 예: 상위 N개 유전자를 HVG로 설정 (n_genes 파라미터 기준)\n",
    "    hvg_genes = vst_out['gene_attr'].sort_values('residual_variance', ascending=False).head(3000)['gene_name'].tolist() # 예시\n",
    "    adata.var['highly_variable'] = adata.var_names.isin(hvg_genes)\n",
    "    print(f\"Flagged top {len(hvg_genes)} genes as HVGs based on SCTransform residual variance.\")\n",
    "\n",
    "\n",
    "# --- SCTransform 이후의 다운스트림 분석 ---\n",
    "# 중요: SCTransform 후에는 일반적으로 sc.pp.scale()을 적용하지 않습니다.\n",
    "# PCA는 SCTransform 잔차(residuals)를 사용하여 수행합니다.\n",
    "\n",
    "# 1. PCA (SCTransform 잔차 사용)\n",
    "# SCTransform으로 식별된 HVG 사용\n",
    "sc.tl.pca(adata, use_highly_variable=True, layer='sct_residuals', n_comps=n_pcs, svd_solver='arpack') # layer 지정! n_pcs는 이전과 동일하게 설정\n",
    "\n",
    "# 2. 이웃 그래프 계산 (PCA 결과 사용)\n",
    "sc.pp.neighbors(adata, n_neighbors=15, n_pcs=n_pcs) # PCA 결과를 사용하므로 layer 지정 불필요\n",
    "\n",
    "# 3. Leiden 클러스터링\n",
    "sc.tl.leiden(adata, resolution=0.8, key_added='leiden_res0.8_sct') # 결과 키 이름 변경\n",
    "\n",
    "# 4. UMAP 계산\n",
    "sc.tl.umap(adata)\n",
    "\n",
    "# 5. 시각화\n",
    "sc.pl.umap(adata, color=['leiden_res0.8_sct'], legend_loc='on data', title='Leiden Clusters (SCTransform, res=0.8)')\n",
    "\n",
    "print(\"\\nAnnData object after SCTransform and clustering:\")\n",
    "print(adata)\n",
    "print(\"\\nSCTransform Cluster counts:\")\n",
    "print(adata.obs['leiden_res0.8_sct'].value_counts())"
   ]
  },
  {
   "cell_type": "markdown",
   "id": "97f26000-3b92-4d7e-ba1a-28f1a9241473",
   "metadata": {},
   "source": [
    "## clustering"
   ]
  },
  {
   "cell_type": "code",
   "execution_count": null,
   "id": "37097ebb-8921-422b-bc40-d4538ea1cc13",
   "metadata": {},
   "outputs": [],
   "source": [
    "import scanpy as sc\n",
    "\n",
    "# --- 가정: adata는 이전 단계에서 QC, 정규화, HVG 식별, 스케일링 완료됨 ---\n",
    "# print(adata)\n",
    "\n",
    "# 1. PCA\n",
    "# Elbow plot으로 적절한 n_pcs 결정 (예: 30개 사용 가정)\n",
    "sc.tl.pca(adata, svd_solver='arpack', use_highly_variable=True)\n",
    "# sc.pl.pca_variance_ratio(adata, log=True, n_pcs=50) # n_pcs 결정에 도움\n",
    "n_pcs = 30\n",
    "\n",
    "# 2. 이웃 그래프 계산\n",
    "sc.pp.neighbors(adata, n_neighbors=15, n_pcs=n_pcs)\n",
    "\n",
    "# 3. Leiden 클러스터링\n",
    "# 여러 resolution 값 시도 가능 (예: 0.5, 0.8, 1.0)\n",
    "sc.tl.leiden(adata, resolution=0.8, key_added='leiden_res0.8')\n",
    "\n",
    "# 4. UMAP 계산\n",
    "sc.tl.umap(adata)\n",
    "\n",
    "# 5. 시각화\n",
    "sc.pl.umap(adata, color=['leiden_res0.8'], legend_loc='on data', title='Leiden Clusters (res=0.8)')\n",
    "\n",
    "# 필요시 다른 메타데이터(예: cell_type, fovID)와 함께 시각화\n",
    "# sc.pl.umap(adata, color=['leiden_res0.8', 'fovID', 'total_counts'])\n",
    "\n",
    "print(\"\\nClustering results added:\")\n",
    "print(adata)\n",
    "print(\"\\nCluster counts:\")\n",
    "print(adata.obs['leiden_res0.8'].value_counts())"
   ]
  },
  {
   "cell_type": "code",
   "execution_count": null,
   "id": "ddb7ad5b-f261-4aa6-9011-74522000dcd9",
   "metadata": {
    "scrolled": true
   },
   "outputs": [],
   "source": [
    "plt.figure(figsize=(10,10))\n",
    "\n",
    "sns.scatterplot(x = adata.obsm['spatial'][:, 1],\n",
    "                y = -adata.obsm['spatial'][:, 0], legend = True,\n",
    "                hue = adata.obs['leiden_res0.8'],\n",
    "                s = 12, palette = cell_type_palette)\n",
    "plt.axis('equal')\n",
    "plt.axis('off')\n",
    "plt.title(\"MERFISH Data\")\n",
    "plt.show()"
   ]
  },
  {
   "cell_type": "markdown",
   "id": "e77242df-35e5-461f-b289-492361683f7d",
   "metadata": {},
   "source": [
    "## save data"
   ]
  },
  {
   "cell_type": "code",
   "execution_count": null,
   "id": "433ab3e3-2822-4e79-a044-3f6bcd0ab09c",
   "metadata": {
    "editable": true,
    "slideshow": {
     "slide_type": ""
    },
    "tags": []
   },
   "outputs": [],
   "source": [
    "from datetime import datetime\n",
    "\n",
    "# 현재 시각 가져오기\n",
    "now = datetime.now()\n",
    "\n",
    "# 원하는 형식으로 포맷팅: yy-mm-dd-hh-mm\n",
    "formatted_time = now.strftime(\"%y-%m-%d-%H-%M\")\n",
    "\n",
    "print(formatted_time)\n",
    "\n",
    "adata.write_h5ad('/data/kjc2/projects/P330.CSA/rds/250210_CRC_BJM_0050585_Region1_'+formatted_time+'.h5ad')"
   ]
  },
  {
   "cell_type": "markdown",
   "id": "8e756611-0ebc-4a7f-a2e4-d4cb03cbba3e",
   "metadata": {},
   "source": [
    "# loading"
   ]
  },
  {
   "cell_type": "code",
   "execution_count": null,
   "id": "dd652cf1-4396-4a2a-9377-bc1bad79c2c8",
   "metadata": {},
   "outputs": [],
   "source": []
  },
  {
   "cell_type": "code",
   "execution_count": null,
   "id": "e795d58b-6528-42cd-ae00-6c39667a5aef",
   "metadata": {},
   "outputs": [],
   "source": []
  },
  {
   "cell_type": "code",
   "execution_count": null,
   "id": "778f0e71-ec8d-4806-8ac5-2ef04b9073f9",
   "metadata": {},
   "outputs": [],
   "source": []
  },
  {
   "cell_type": "markdown",
   "id": "8ae3fc93-625b-48aa-a12e-c6931f6a9752",
   "metadata": {},
   "source": [
    "# gene name 바꾸기"
   ]
  },
  {
   "cell_type": "code",
   "execution_count": null,
   "id": "8f1511fa-adf4-471e-99a4-cde96bf2bf38",
   "metadata": {},
   "outputs": [],
   "source": [
    "# debugging for non shared gene problem\n",
    "\n",
    "print(\"ST Data Gene Names (first 5):\", st_data.var_names[:5].tolist())\n",
    "print(\"SC Data Gene Names (first 5):\", sc_data.var_names[:5].tolist())\n",
    "\n",
    "print(\"\\nST Data Number of Genes:\", st_data.n_vars)\n",
    "print(\"SC Data Number of Genes:\", sc_data.n_vars)"
   ]
  },
  {
   "cell_type": "code",
   "execution_count": null,
   "id": "9b609e90-f018-49cd-8dd6-896b750f0075",
   "metadata": {},
   "outputs": [],
   "source": [
    "import scanpy as sc\n",
    "import mygene\n",
    "import pandas as pd\n",
    "import numpy as np\n",
    "\n",
    "# --- 1. 데이터 로드 (가정) ---\n",
    "# sc_data = sc.read_h5ad(\"/path/to/your/scRNAseq_data.h5ad\")\n",
    "# st_data = sc.read_h5ad(\"/path/to/your/spatial_data.h5ad\")\n",
    "\n",
    "print(\"Original SC Data Gene Names (first 5):\", sc_data.var_names[:5].tolist())\n",
    "print(f\"Original SC Data index is unique: {sc_data.var.index.is_unique}\")\n",
    "\n",
    "# --- 2. 원본 Ensembl ID 백업 및 버전 정보 제거 ---\n",
    "sc_data.var['original_ensembl_id_with_version'] = sc_data.var_names # 원본 ID 백업\n",
    "\n",
    "# 버전 정보 제거 (.숫자 제거)\n",
    "sc_data.var['base_ensembl_id'] = sc_data.var_names.str.split('.').str[0]\n",
    "print(\"Base Ensembl IDs (first 5):\", sc_data.var['base_ensembl_id'][:5].tolist())\n",
    "\n",
    "# --- 3. 고유한 Base Ensembl ID 목록 생성 ---\n",
    "unique_base_ids = sc_data.var['base_ensembl_id'].unique().tolist()\n",
    "print(f\"Number of unique base Ensembl IDs to query: {len(unique_base_ids)}\")\n",
    "\n",
    "# --- 4. mygene을 사용하여 고유 ID 변환 ---\n",
    "mg = mygene.MyGeneInfo()\n",
    "print(f\"Querying {len(unique_base_ids)} unique Ensembl IDs using mygene.info...\")\n",
    "\n",
    "gene_info = mg.querymany(unique_base_ids, scopes='ensembl.gene', fields='symbol', species='human', as_dataframe=True, returnall=True)\n",
    "\n",
    "print(\"Query finished.\")\n",
    "# print(gene_info.head()) # 결과 확인용 (필요시 주석 해제)\n",
    "\n",
    "# --- 5. Ensembl ID -> Symbol 매핑 사전 생성 ---\n",
    "# 'out' 키 아래의 'symbol' 사용 및 NaN 값 제거\n",
    "symbol_map = gene_info['out']['symbol'].dropna().to_dict()\n",
    "print(f\"Created map for {len(symbol_map)} Ensembl IDs to symbols.\")\n",
    "\n",
    "# --- 6. 결과를 sc_data.var에 매핑하여 'gene_symbol' 컬럼 생성 ---\n",
    "# 'base_ensembl_id' 컬럼을 기준으로 symbol_map을 적용\n",
    "sc_data.var['gene_symbol'] = sc_data.var['base_ensembl_id'].map(symbol_map)\n",
    "\n",
    "# --- 7. 매핑 실패(NaN) 처리 ---\n",
    "# 심볼을 찾지 못한 경우 (NaN): 'base_ensembl_id' 값을 사용\n",
    "missing_symbols_mask = sc_data.var['gene_symbol'].isna()\n",
    "n_missing = missing_symbols_mask.sum()\n",
    "print(f\"Number of genes with missing symbols (will use base Ensembl ID): {n_missing}\")\n",
    "if n_missing > 0:\n",
    "    sc_data.var.loc[missing_symbols_mask, 'gene_symbol'] = sc_data.var.loc[missing_symbols_mask, 'base_ensembl_id']\n",
    "\n",
    "# --- 8. sc_data의 var_names 업데이트 (Gene Symbol 사용 및 고유화) ---\n",
    "print(\"Updating sc_data.var_names with gene symbols...\")\n",
    "# 새로운 유전자 심볼로 인덱스 업데이트 (문자열로 확실히 변환)\n",
    "sc_data.var_names = sc_data.var['gene_symbol'].astype(str)\n",
    "\n",
    "# 유전자 심볼 자체도 중복될 수 있으므로, 최종적으로 var_names를 고유하게 만듦\n",
    "if not sc_data.var_names.is_unique:\n",
    "    print(\"Duplicate gene symbols found. Making var_names unique...\")\n",
    "    sc_data.var_names_make_unique()\n",
    "else:\n",
    "    print(\"Gene symbols are unique.\")\n",
    "\n",
    "\n",
    "print(\"Updated SC Data Gene Names (first 5):\", sc_data.var_names[:5].tolist())\n",
    "print(f\"Final SC Data index is unique: {sc_data.var.index.is_unique}\")\n",
    "\n",
    "# --- 9. 변환 후 공유 유전자 재확인 ---\n",
    "shared_genes = st_data.var_names.intersection(sc_data.var_names)\n",
    "print(f\"\\nNumber of shared genes after conversion: {len(shared_genes)}\")\n",
    "\n",
    "if len(shared_genes) > 0:\n",
    "    print(\"First 5 shared genes:\", shared_genes[:5].tolist())\n",
    "    print(\"\\nGene name conversion successful. You can now try initializing the ENVI model again.\")\n",
    "    # 이제 이 수정된 st_data와 sc_data를 사용하여 ENVI 모델 초기화를 다시 시도할 수 있습니다.\n",
    "    # envi_model = scenvi.ENVI(spatial_data=st_data, sc_data=sc_data)\n",
    "    # ...\n",
    "else:\n",
    "    print(\"\\nWarning: Still no shared genes found after conversion. Please double-check gene symbol formats between datasets.\")"
   ]
  },
  {
   "cell_type": "markdown",
   "id": "d14d2020-d30b-4e1d-a4bd-9389b7537211",
   "metadata": {},
   "source": [
    "## Save h5ad"
   ]
  },
  {
   "cell_type": "code",
   "execution_count": null,
   "id": "00bb35ae-7cea-4341-a1d1-44835cf6753d",
   "metadata": {},
   "outputs": [],
   "source": [
    "from datetime import datetime\n",
    "\n",
    "# 현재 시각 가져오기\n",
    "now = datetime.now()\n",
    "\n",
    "# 원하는 형식으로 포맷팅: yy-mm-dd-hh-mm\n",
    "formatted_time = now.strftime(\"%y-%m-%d-%H-%M\")\n",
    "\n",
    "print(formatted_time)\n",
    "\n",
    "scre=sc_data\n",
    "# 인덱스를 gene symbol로 업데이트\n",
    "scre.var_names = scre.var['gene_symbol'].astype(str)\n",
    "\n",
    "# gene_symbol 컬럼 삭제\n",
    "scre.var.drop(columns=['gene_symbol'], inplace=True)\n",
    "\n",
    "scre.write_h5ad('/data/kjc2/projects/P330.CSA/rds/downsampled_crc_after_gene_name_change'+formatted_time+'.h5ad')"
   ]
  },
  {
   "cell_type": "code",
   "execution_count": null,
   "id": "6644081c-9972-4973-b9f0-3768e616ae31",
   "metadata": {},
   "outputs": [],
   "source": [
    "print(scre)"
   ]
  },
  {
   "cell_type": "code",
   "execution_count": null,
   "id": "5952499f-4f87-4904-b2b2-fa8a02b312ee",
   "metadata": {
    "editable": true,
    "slideshow": {
     "slide_type": ""
    },
    "tags": []
   },
   "outputs": [],
   "source": []
  },
  {
   "cell_type": "markdown",
   "id": "4aa974b7-38de-44b8-a06e-fd45d5852056",
   "metadata": {},
   "source": [
    "# scENVI\n",
    "\n",
    "https://scenvi.readthedocs.io/en/latest/tutorial/MOp_MERFISH_tutorial.html#Importing"
   ]
  },
  {
   "cell_type": "markdown",
   "id": "04d2eb75-6d02-424c-8f7c-f047d3aa595e",
   "metadata": {},
   "source": [
    "## data loading"
   ]
  },
  {
   "cell_type": "code",
   "execution_count": 4,
   "id": "7e518290-e12c-4a5d-aa71-71b1de322b47",
   "metadata": {},
   "outputs": [
    {
     "name": "stdout",
     "output_type": "stream",
     "text": [
      "AnnData object with n_obs × n_vars = 426492 × 28476\n",
      "    obs: 'dataset', 'medical_condition', 'cancer_type', 'sample_id', 'sample_type', 'tumor_source', 'replicate', 'sample_tissue', 'anatomic_region', 'anatomic_location', 'tumor_stage', 'tumor_stage_TNM', 'tumor_stage_TNM_T', 'tumor_stage_TNM_N', 'tumor_stage_TNM_M', 'tumor_size', 'tumor_dimensions', 'tumor_grade', 'histological_type', 'microsatellite_status', 'mismatch_repair_deficiency_status', 'MLH1_promoter_methylation_status', 'MLH1_status', 'KRAS_status', 'BRAF_status', 'APC_status', 'TP53_status', 'PIK3CA_status', 'SMAD4_status', 'NRAS_status', 'MSH6_status', 'FBXW7_status', 'NOTCH1_status', 'MSH2_status', 'PMS2_status', 'POLE_status', 'ERBB2_status', 'STK11_status', 'HER2_status', 'CTNNB1_status', 'BRAS_status', 'patient_id', 'sex', 'age', 'treatment_status_before_resection', 'treatment_drug', 'treatment_response', 'RECIST', 'platform', 'platform_fine', 'cellranger_version', 'reference_genome', 'matrix_type', 'enrichment_cell_types', 'tissue_cell_state', 'tissue_processing_lab', 'hospital_location', 'country', 'NCBI_BioProject_accession', 'SRA_sample_accession', 'GEO_sample_accession', 'ENA_sample_accession', 'synapse_sample_accession', 'study_id', 'study_doi', 'study_pmid', 'original_obs_names', 'cell_type_coarse_study', 'cell_type_middle_study', 'cell_type_study', 'n_counts', 'n_genes', 'n_genes_by_counts', 'total_counts', 'pct_counts_in_top_20_genes', 'pct_counts_mito', 'S_score', 'G2M_score', 'phase', 'SOLO_doublet_prob', 'SOLO_singlet_prob', 'SOLO_doublet_status', 'cell_type_predicted', 'cell_type_coarse', 'cell_type_middle', 'cell_type_fine', 'CMS_type', 'immune_infiltration_type', 'is_primary_data', 'suspension_type', 'tissue_type', 'donor_id', 'disease', 'disease_ontology_term_id', 'assay', 'assay_ontology_term_id', 'tissue', 'tissue_ontology_term_id', 'sex_ontology_term_id', 'self_reported_ethnicity', 'self_reported_ethnicity_ontology_term_id', 'organism', 'organism_ontology_term_id', 'development_stage', 'development_stage_ontology_term_id', 'cell_type', 'cell_type_ontology_term_id'\n",
      "    var: 'var_names', 'ensembl', 'Geneid', 'GeneSymbol', 'Chromosome', 'Start', 'End', 'Class', 'Strand', 'Length', 'Version', 'Dataset_25pct_Overlap', 'n_cells', 'n_counts', 'n_cells_by_counts', 'mean_counts', 'total_counts', 'highly_variable'\n",
      "    obsm: 'X_scANVI', 'X_scVI', 'X_umap'\n",
      "    layers: 'counts'\n",
      "AnnData object with n_obs × n_vars = 62941 × 4999\n",
      "    obs: 'x_centroid', 'y_centroid', 'transcript_counts', 'control_probe_counts', 'genomic_control_counts', 'control_codeword_counts', 'unassigned_codeword_counts', 'deprecated_codeword_counts', 'total_counts', 'cell_area', 'nucleus_area', 'nucleus_count', 'segmentation_method', 'n_genes_by_counts', 'n_genes', 'n_counts', 'leiden_res0.8'\n",
      "    var: 'gene_ids', 'feature_types', 'genome', 'n_cells_by_counts', 'mean_counts', 'pct_dropout_by_counts', 'total_counts', 'n_cells', 'highly_variable', 'highly_variable_rank', 'means', 'variances', 'variances_norm', 'mean', 'std'\n",
      "    uns: 'hvg', 'leiden_res0.8', 'leiden_res0.8_colors', 'log1p', 'neighbors', 'pca', 'umap'\n",
      "    obsm: 'X_pca', 'X_umap', 'spatial'\n",
      "    varm: 'PCs'\n",
      "    obsp: 'connectivities', 'distances'\n"
     ]
    }
   ],
   "source": [
    "sc_data=sc.read_h5ad(\"/data/kjc2/rds/downsampled.h5ad\")\n",
    "st_data=sc.read_h5ad(\"/data/kjc2/projects/P330.CSA/rds/250210_CRC_BJM_0050585_Region1_25-04-14-16-53.h5ad\")\n",
    "# sc_data=sc.read_h5ad(\"/data/kjc2/projects/P330.CSA/rds/downsampled_crc_after_gene_name_change25-04-14-23-04.h5ad\")\n",
    "sc_data=sc.read_h5ad(\"/data/kjc2/projects/P330.CSA/rds/downsampled_100_25-04-15-08-34.h5ad\")\n",
    "print(sc_data)\n",
    "print(st_data)"
   ]
  },
  {
   "cell_type": "code",
   "execution_count": null,
   "id": "0201d103-df9d-4566-85d8-b1c02a9ae023",
   "metadata": {},
   "outputs": [],
   "source": [
    "print(sc_data)\n",
    "print(st_data)"
   ]
  },
  {
   "cell_type": "markdown",
   "id": "5972f7f5-1742-4284-9dce-144c60c651a4",
   "metadata": {},
   "source": [
    "## downsampling"
   ]
  },
  {
   "cell_type": "code",
   "execution_count": null,
   "id": "83253b39-9b77-41e0-afe6-a8de664a1154",
   "metadata": {},
   "outputs": [],
   "source": [
    "sc_data_original=sc_data\n",
    "st_data_original=st_data\n",
    "\n",
    "sc.(sc_data"
   ]
  },
  {
   "cell_type": "markdown",
   "id": "3821cc9d-5e49-4eb4-b0fa-41e0f1534b67",
   "metadata": {},
   "source": [
    "## model training"
   ]
  },
  {
   "cell_type": "code",
   "execution_count": 5,
   "id": "425d5994-2595-4a21-8a18-baf064539e14",
   "metadata": {
    "editable": true,
    "slideshow": {
     "slide_type": ""
    },
    "tags": []
   },
   "outputs": [
    {
     "name": "stdout",
     "output_type": "stream",
     "text": [
      "Preparing gene sets for ENVI analysis...\n",
      "Using pre-computed highly variable genes from single-cell data\n",
      "Gene selection: 0 shared genes, 7495 unique to single-cell\n"
     ]
    },
    {
     "ename": "KeyboardInterrupt",
     "evalue": "",
     "output_type": "error",
     "traceback": [
      "\u001b[0;31m---------------------------------------------------------------------------\u001b[0m",
      "\u001b[0;31mKeyboardInterrupt\u001b[0m                         Traceback (most recent call last)",
      "Cell \u001b[0;32mIn[5], line 3\u001b[0m\n\u001b[1;32m      1\u001b[0m \u001b[38;5;66;03m# We first define and ENVI model which computes the COVET matrices of the spatial data and intializes the CVAE:\u001b[39;00m\n\u001b[1;32m      2\u001b[0m \u001b[38;5;66;03m# envi_model = scenvi.ENVI(spatial_data = adata, sc_data = crc_sc, covet_batch_size = 256)\u001b[39;00m\n\u001b[0;32m----> 3\u001b[0m envi_model \u001b[38;5;241m=\u001b[39m \u001b[43mscenvi\u001b[49m\u001b[38;5;241;43m.\u001b[39;49m\u001b[43mENVI\u001b[49m\u001b[43m(\u001b[49m\u001b[43mspatial_data\u001b[49m\u001b[43m \u001b[49m\u001b[38;5;241;43m=\u001b[39;49m\u001b[43m \u001b[49m\u001b[43mst_data\u001b[49m\u001b[43m,\u001b[49m\u001b[43m \u001b[49m\u001b[43msc_data\u001b[49m\u001b[43m \u001b[49m\u001b[38;5;241;43m=\u001b[39;49m\u001b[43m \u001b[49m\u001b[43msc_data\u001b[49m\u001b[43m,\u001b[49m\u001b[43mcovet_batch_size\u001b[49m\u001b[38;5;241;43m=\u001b[39;49m\u001b[38;5;241;43m64\u001b[39;49m\u001b[43m)\u001b[49m\n\u001b[1;32m      4\u001b[0m \u001b[38;5;66;03m# Training ENVI and run auxiliary function\u001b[39;00m\n\u001b[1;32m      5\u001b[0m envi_model\u001b[38;5;241m.\u001b[39mtrain()\n",
      "File \u001b[0;32m~/anaconda3/envs/scenvi/lib/python3.10/site-packages/scenvi/ENVI.py:83\u001b[0m, in \u001b[0;36mENVI.__init__\u001b[0;34m(self, spatial_data, sc_data, spatial_key, batch_key, num_layers, num_neurons, latent_dim, k_nearest, covet_batch_size, num_cov_genes, cov_genes, num_HVG, sc_genes, spatial_dist, sc_dist, spatial_coeff, sc_coeff, cov_coeff, kl_coeff, log_input, stable_eps)\u001b[0m\n\u001b[1;32m     57\u001b[0m \u001b[38;5;28;01mdef\u001b[39;00m\u001b[38;5;250m \u001b[39m\u001b[38;5;21m__init__\u001b[39m(\n\u001b[1;32m     58\u001b[0m     \u001b[38;5;28mself\u001b[39m,\n\u001b[1;32m     59\u001b[0m     spatial_data,\n\u001b[0;32m   (...)\u001b[0m\n\u001b[1;32m     79\u001b[0m     stable_eps\u001b[38;5;241m=\u001b[39m\u001b[38;5;241m1e-6\u001b[39m,\n\u001b[1;32m     80\u001b[0m ):\n\u001b[0;32m---> 83\u001b[0m     \u001b[38;5;28mself\u001b[39m\u001b[38;5;241m.\u001b[39mspatial_data, \u001b[38;5;28mself\u001b[39m\u001b[38;5;241m.\u001b[39msc_data, \u001b[38;5;28mself\u001b[39m\u001b[38;5;241m.\u001b[39moverlap_genes, \u001b[38;5;28mself\u001b[39m\u001b[38;5;241m.\u001b[39mnon_overlap_genes \u001b[38;5;241m=\u001b[39m \u001b[38;5;28;43mself\u001b[39;49m\u001b[38;5;241;43m.\u001b[39;49m\u001b[43m_prepare_gene_sets\u001b[49m\u001b[43m(\u001b[49m\n\u001b[1;32m     84\u001b[0m \u001b[43m        \u001b[49m\u001b[43mspatial_data\u001b[49m\u001b[43m,\u001b[49m\u001b[43m \u001b[49m\u001b[43msc_data\u001b[49m\u001b[43m,\u001b[49m\u001b[43m \u001b[49m\u001b[43mnum_HVG\u001b[49m\u001b[43m,\u001b[49m\u001b[43m \u001b[49m\u001b[43msc_genes\u001b[49m\n\u001b[1;32m     85\u001b[0m \u001b[43m    \u001b[49m\u001b[43m)\u001b[49m\n\u001b[1;32m     87\u001b[0m     \u001b[38;5;28;01mif\u001b[39;00m batch_key \u001b[38;5;129;01mnot\u001b[39;00m \u001b[38;5;129;01min\u001b[39;00m spatial_data\u001b[38;5;241m.\u001b[39mobs\u001b[38;5;241m.\u001b[39mcolumns:\n\u001b[1;32m     88\u001b[0m         batch_key \u001b[38;5;241m=\u001b[39m \u001b[38;5;241m-\u001b[39m\u001b[38;5;241m1\u001b[39m\n",
      "File \u001b[0;32m~/anaconda3/envs/scenvi/lib/python3.10/site-packages/scenvi/ENVI.py:225\u001b[0m, in \u001b[0;36mENVI._prepare_gene_sets\u001b[0;34m(self, spatial_data, sc_data, num_HVG, user_provided_genes)\u001b[0m\n\u001b[1;32m    223\u001b[0m \u001b[38;5;66;03m# Final filtering of both datasets\u001b[39;00m\n\u001b[1;32m    224\u001b[0m spatial_obj \u001b[38;5;241m=\u001b[39m spatial_obj[:, overlap_genes]\n\u001b[0;32m--> 225\u001b[0m sc_obj \u001b[38;5;241m=\u001b[39m \u001b[43msc_obj\u001b[49m\u001b[43m[\u001b[49m\u001b[43m:\u001b[49m\u001b[43m,\u001b[49m\u001b[43m \u001b[49m\u001b[43mnp\u001b[49m\u001b[38;5;241;43m.\u001b[39;49m\u001b[43mconcatenate\u001b[49m\u001b[43m(\u001b[49m\u001b[43m[\u001b[49m\u001b[43moverlap_genes\u001b[49m\u001b[43m,\u001b[49m\u001b[43m \u001b[49m\u001b[43mnon_overlap_genes\u001b[49m\u001b[43m]\u001b[49m\u001b[43m)\u001b[49m\u001b[43m]\u001b[49m\n\u001b[1;32m    227\u001b[0m \u001b[38;5;28;01mreturn\u001b[39;00m spatial_obj, sc_obj, overlap_genes, non_overlap_genes\n",
      "File \u001b[0;32m~/anaconda3/envs/scenvi/lib/python3.10/site-packages/anndata/_core/anndata.py:1012\u001b[0m, in \u001b[0;36mAnnData.__getitem__\u001b[0;34m(self, index)\u001b[0m\n\u001b[1;32m   1010\u001b[0m \u001b[38;5;250m\u001b[39m\u001b[38;5;124;03m\"\"\"Returns a sliced view of the object.\"\"\"\u001b[39;00m\n\u001b[1;32m   1011\u001b[0m oidx, vidx \u001b[38;5;241m=\u001b[39m \u001b[38;5;28mself\u001b[39m\u001b[38;5;241m.\u001b[39m_normalize_indices(index)\n\u001b[0;32m-> 1012\u001b[0m \u001b[38;5;28;01mreturn\u001b[39;00m \u001b[43mAnnData\u001b[49m\u001b[43m(\u001b[49m\u001b[38;5;28;43mself\u001b[39;49m\u001b[43m,\u001b[49m\u001b[43m \u001b[49m\u001b[43moidx\u001b[49m\u001b[38;5;241;43m=\u001b[39;49m\u001b[43moidx\u001b[49m\u001b[43m,\u001b[49m\u001b[43m \u001b[49m\u001b[43mvidx\u001b[49m\u001b[38;5;241;43m=\u001b[39;49m\u001b[43mvidx\u001b[49m\u001b[43m,\u001b[49m\u001b[43m \u001b[49m\u001b[43masview\u001b[49m\u001b[38;5;241;43m=\u001b[39;49m\u001b[38;5;28;43;01mTrue\u001b[39;49;00m\u001b[43m)\u001b[49m\n",
      "File \u001b[0;32m~/anaconda3/envs/scenvi/lib/python3.10/site-packages/anndata/_core/anndata.py:227\u001b[0m, in \u001b[0;36mAnnData.__init__\u001b[0;34m(self, X, obs, var, uns, obsm, varm, layers, raw, dtype, shape, filename, filemode, asview, obsp, varp, oidx, vidx)\u001b[0m\n\u001b[1;32m    225\u001b[0m         msg \u001b[38;5;241m=\u001b[39m \u001b[38;5;124m\"\u001b[39m\u001b[38;5;124m`X` has to be an AnnData object.\u001b[39m\u001b[38;5;124m\"\u001b[39m\n\u001b[1;32m    226\u001b[0m         \u001b[38;5;28;01mraise\u001b[39;00m \u001b[38;5;167;01mValueError\u001b[39;00m(msg)\n\u001b[0;32m--> 227\u001b[0m     \u001b[38;5;28;43mself\u001b[39;49m\u001b[38;5;241;43m.\u001b[39;49m\u001b[43m_init_as_view\u001b[49m\u001b[43m(\u001b[49m\u001b[43mX\u001b[49m\u001b[43m,\u001b[49m\u001b[43m \u001b[49m\u001b[43moidx\u001b[49m\u001b[43m,\u001b[49m\u001b[43m \u001b[49m\u001b[43mvidx\u001b[49m\u001b[43m)\u001b[49m\n\u001b[1;32m    228\u001b[0m \u001b[38;5;28;01melse\u001b[39;00m:\n\u001b[1;32m    229\u001b[0m     \u001b[38;5;28mself\u001b[39m\u001b[38;5;241m.\u001b[39m_init_as_actual(\n\u001b[1;32m    230\u001b[0m         X\u001b[38;5;241m=\u001b[39mX,\n\u001b[1;32m    231\u001b[0m         obs\u001b[38;5;241m=\u001b[39mobs,\n\u001b[0;32m   (...)\u001b[0m\n\u001b[1;32m    243\u001b[0m         filemode\u001b[38;5;241m=\u001b[39mfilemode,\n\u001b[1;32m    244\u001b[0m     )\n",
      "File \u001b[0;32m~/anaconda3/envs/scenvi/lib/python3.10/site-packages/anndata/_core/anndata.py:296\u001b[0m, in \u001b[0;36mAnnData._init_as_view\u001b[0;34m(self, adata_ref, oidx, vidx)\u001b[0m\n\u001b[1;32m    293\u001b[0m \u001b[38;5;66;03m# set raw, easy, as it’s immutable anyways...\u001b[39;00m\n\u001b[1;32m    294\u001b[0m \u001b[38;5;28;01mif\u001b[39;00m adata_ref\u001b[38;5;241m.\u001b[39m_raw \u001b[38;5;129;01mis\u001b[39;00m \u001b[38;5;129;01mnot\u001b[39;00m \u001b[38;5;28;01mNone\u001b[39;00m:\n\u001b[1;32m    295\u001b[0m     \u001b[38;5;66;03m# slicing along variables axis is ignored\u001b[39;00m\n\u001b[0;32m--> 296\u001b[0m     \u001b[38;5;28mself\u001b[39m\u001b[38;5;241m.\u001b[39m_raw \u001b[38;5;241m=\u001b[39m \u001b[43madata_ref\u001b[49m\u001b[38;5;241;43m.\u001b[39;49m\u001b[43mraw\u001b[49m\u001b[43m[\u001b[49m\u001b[43moidx\u001b[49m\u001b[43m]\u001b[49m\n\u001b[1;32m    297\u001b[0m     \u001b[38;5;28mself\u001b[39m\u001b[38;5;241m.\u001b[39m_raw\u001b[38;5;241m.\u001b[39m_adata \u001b[38;5;241m=\u001b[39m \u001b[38;5;28mself\u001b[39m\n\u001b[1;32m    298\u001b[0m \u001b[38;5;28;01melse\u001b[39;00m:\n",
      "File \u001b[0;32m~/anaconda3/envs/scenvi/lib/python3.10/site-packages/anndata/_core/raw.py:134\u001b[0m, in \u001b[0;36mRaw.__getitem__\u001b[0;34m(self, index)\u001b[0m\n\u001b[1;32m    131\u001b[0m     oidx \u001b[38;5;241m=\u001b[39m \u001b[38;5;28mslice\u001b[39m(oidx, oidx \u001b[38;5;241m+\u001b[39m \u001b[38;5;241m1\u001b[39m, \u001b[38;5;241m1\u001b[39m)\n\u001b[1;32m    133\u001b[0m \u001b[38;5;28;01mif\u001b[39;00m \u001b[38;5;129;01mnot\u001b[39;00m \u001b[38;5;28mself\u001b[39m\u001b[38;5;241m.\u001b[39m_adata\u001b[38;5;241m.\u001b[39misbacked:\n\u001b[0;32m--> 134\u001b[0m     X \u001b[38;5;241m=\u001b[39m \u001b[43m_subset\u001b[49m\u001b[43m(\u001b[49m\u001b[38;5;28;43mself\u001b[39;49m\u001b[38;5;241;43m.\u001b[39;49m\u001b[43mX\u001b[49m\u001b[43m,\u001b[49m\u001b[43m \u001b[49m\u001b[43m(\u001b[49m\u001b[43moidx\u001b[49m\u001b[43m,\u001b[49m\u001b[43m \u001b[49m\u001b[43mvidx\u001b[49m\u001b[43m)\u001b[49m\u001b[43m)\u001b[49m\n\u001b[1;32m    135\u001b[0m \u001b[38;5;28;01melse\u001b[39;00m:\n\u001b[1;32m    136\u001b[0m     X \u001b[38;5;241m=\u001b[39m \u001b[38;5;28;01mNone\u001b[39;00m\n",
      "File \u001b[0;32m~/anaconda3/envs/scenvi/lib/python3.10/functools.py:889\u001b[0m, in \u001b[0;36msingledispatch.<locals>.wrapper\u001b[0;34m(*args, **kw)\u001b[0m\n\u001b[1;32m    885\u001b[0m \u001b[38;5;28;01mif\u001b[39;00m \u001b[38;5;129;01mnot\u001b[39;00m args:\n\u001b[1;32m    886\u001b[0m     \u001b[38;5;28;01mraise\u001b[39;00m \u001b[38;5;167;01mTypeError\u001b[39;00m(\u001b[38;5;124mf\u001b[39m\u001b[38;5;124m'\u001b[39m\u001b[38;5;132;01m{\u001b[39;00mfuncname\u001b[38;5;132;01m}\u001b[39;00m\u001b[38;5;124m requires at least \u001b[39m\u001b[38;5;124m'\u001b[39m\n\u001b[1;32m    887\u001b[0m                     \u001b[38;5;124m'\u001b[39m\u001b[38;5;124m1 positional argument\u001b[39m\u001b[38;5;124m'\u001b[39m)\n\u001b[0;32m--> 889\u001b[0m \u001b[38;5;28;01mreturn\u001b[39;00m \u001b[43mdispatch\u001b[49m\u001b[43m(\u001b[49m\u001b[43margs\u001b[49m\u001b[43m[\u001b[49m\u001b[38;5;241;43m0\u001b[39;49m\u001b[43m]\u001b[49m\u001b[38;5;241;43m.\u001b[39;49m\u001b[38;5;18;43m__class__\u001b[39;49m\u001b[43m)\u001b[49m\u001b[43m(\u001b[49m\u001b[38;5;241;43m*\u001b[39;49m\u001b[43margs\u001b[49m\u001b[43m,\u001b[49m\u001b[43m \u001b[49m\u001b[38;5;241;43m*\u001b[39;49m\u001b[38;5;241;43m*\u001b[39;49m\u001b[43mkw\u001b[49m\u001b[43m)\u001b[49m\n",
      "File \u001b[0;32m~/anaconda3/envs/scenvi/lib/python3.10/site-packages/anndata/_core/index.py:192\u001b[0m, in \u001b[0;36m_subset_sparse\u001b[0;34m(a, subset_idx)\u001b[0m\n\u001b[1;32m    190\u001b[0m         first_idx \u001b[38;5;241m=\u001b[39m np\u001b[38;5;241m.\u001b[39mwhere(first_idx)[\u001b[38;5;241m0\u001b[39m]\n\u001b[1;32m    191\u001b[0m     subset_idx \u001b[38;5;241m=\u001b[39m (first_idx\u001b[38;5;241m.\u001b[39mreshape(\u001b[38;5;241m-\u001b[39m\u001b[38;5;241m1\u001b[39m, \u001b[38;5;241m1\u001b[39m), \u001b[38;5;241m*\u001b[39msubset_idx[\u001b[38;5;241m1\u001b[39m:])\n\u001b[0;32m--> 192\u001b[0m \u001b[38;5;28;01mreturn\u001b[39;00m \u001b[43ma\u001b[49m\u001b[43m[\u001b[49m\u001b[43msubset_idx\u001b[49m\u001b[43m]\u001b[49m\n",
      "File \u001b[0;32m~/anaconda3/envs/scenvi/lib/python3.10/site-packages/scipy/sparse/_index.py:78\u001b[0m, in \u001b[0;36mIndexMixin.__getitem__\u001b[0;34m(self, key)\u001b[0m\n\u001b[1;32m     76\u001b[0m         res \u001b[38;5;241m=\u001b[39m \u001b[38;5;28mself\u001b[39m\u001b[38;5;241m.\u001b[39mcopy()\n\u001b[1;32m     77\u001b[0m     \u001b[38;5;28;01melse\u001b[39;00m:\n\u001b[0;32m---> 78\u001b[0m         res \u001b[38;5;241m=\u001b[39m \u001b[38;5;28;43mself\u001b[39;49m\u001b[38;5;241;43m.\u001b[39;49m\u001b[43m_get_sliceXslice\u001b[49m\u001b[43m(\u001b[49m\u001b[43mrow\u001b[49m\u001b[43m,\u001b[49m\u001b[43m \u001b[49m\u001b[43mcol\u001b[49m\u001b[43m)\u001b[49m\n\u001b[1;32m     79\u001b[0m \u001b[38;5;28;01melif\u001b[39;00m col\u001b[38;5;241m.\u001b[39mndim \u001b[38;5;241m==\u001b[39m \u001b[38;5;241m1\u001b[39m:\n\u001b[1;32m     80\u001b[0m     res \u001b[38;5;241m=\u001b[39m \u001b[38;5;28mself\u001b[39m\u001b[38;5;241m.\u001b[39m_get_sliceXarray(row, col)\n",
      "File \u001b[0;32m~/anaconda3/envs/scenvi/lib/python3.10/site-packages/scipy/sparse/_compressed.py:727\u001b[0m, in \u001b[0;36m_cs_matrix._get_sliceXslice\u001b[0;34m(self, row, col)\u001b[0m\n\u001b[1;32m    725\u001b[0m major, minor \u001b[38;5;241m=\u001b[39m \u001b[38;5;28mself\u001b[39m\u001b[38;5;241m.\u001b[39m_swap((row, col))\n\u001b[1;32m    726\u001b[0m \u001b[38;5;28;01mif\u001b[39;00m major\u001b[38;5;241m.\u001b[39mstep \u001b[38;5;129;01min\u001b[39;00m (\u001b[38;5;241m1\u001b[39m, \u001b[38;5;28;01mNone\u001b[39;00m) \u001b[38;5;129;01mand\u001b[39;00m minor\u001b[38;5;241m.\u001b[39mstep \u001b[38;5;129;01min\u001b[39;00m (\u001b[38;5;241m1\u001b[39m, \u001b[38;5;28;01mNone\u001b[39;00m):\n\u001b[0;32m--> 727\u001b[0m     \u001b[38;5;28;01mreturn\u001b[39;00m \u001b[38;5;28;43mself\u001b[39;49m\u001b[38;5;241;43m.\u001b[39;49m\u001b[43m_get_submatrix\u001b[49m\u001b[43m(\u001b[49m\u001b[43mmajor\u001b[49m\u001b[43m,\u001b[49m\u001b[43m \u001b[49m\u001b[43mminor\u001b[49m\u001b[43m,\u001b[49m\u001b[43m \u001b[49m\u001b[43mcopy\u001b[49m\u001b[38;5;241;43m=\u001b[39;49m\u001b[38;5;28;43;01mTrue\u001b[39;49;00m\u001b[43m)\u001b[49m\n\u001b[1;32m    728\u001b[0m \u001b[38;5;28;01mreturn\u001b[39;00m \u001b[38;5;28mself\u001b[39m\u001b[38;5;241m.\u001b[39m_major_slice(major)\u001b[38;5;241m.\u001b[39m_minor_slice(minor)\n",
      "File \u001b[0;32m~/anaconda3/envs/scenvi/lib/python3.10/site-packages/scipy/sparse/_compressed.py:887\u001b[0m, in \u001b[0;36m_cs_matrix._get_submatrix\u001b[0;34m(self, major, minor, copy)\u001b[0m\n\u001b[1;32m    884\u001b[0m j0, j1 \u001b[38;5;241m=\u001b[39m _process_slice(minor, N)\n\u001b[1;32m    886\u001b[0m \u001b[38;5;28;01mif\u001b[39;00m i0 \u001b[38;5;241m==\u001b[39m \u001b[38;5;241m0\u001b[39m \u001b[38;5;129;01mand\u001b[39;00m j0 \u001b[38;5;241m==\u001b[39m \u001b[38;5;241m0\u001b[39m \u001b[38;5;129;01mand\u001b[39;00m i1 \u001b[38;5;241m==\u001b[39m M \u001b[38;5;129;01mand\u001b[39;00m j1 \u001b[38;5;241m==\u001b[39m N:\n\u001b[0;32m--> 887\u001b[0m     \u001b[38;5;28;01mreturn\u001b[39;00m \u001b[38;5;28;43mself\u001b[39;49m\u001b[38;5;241;43m.\u001b[39;49m\u001b[43mcopy\u001b[49m\u001b[43m(\u001b[49m\u001b[43m)\u001b[49m \u001b[38;5;28;01mif\u001b[39;00m copy \u001b[38;5;28;01melse\u001b[39;00m \u001b[38;5;28mself\u001b[39m\n\u001b[1;32m    889\u001b[0m indptr, indices, data \u001b[38;5;241m=\u001b[39m get_csr_submatrix(\n\u001b[1;32m    890\u001b[0m     M, N, \u001b[38;5;28mself\u001b[39m\u001b[38;5;241m.\u001b[39mindptr, \u001b[38;5;28mself\u001b[39m\u001b[38;5;241m.\u001b[39mindices, \u001b[38;5;28mself\u001b[39m\u001b[38;5;241m.\u001b[39mdata, i0, i1, j0, j1)\n\u001b[1;32m    892\u001b[0m shape \u001b[38;5;241m=\u001b[39m \u001b[38;5;28mself\u001b[39m\u001b[38;5;241m.\u001b[39m_swap((i1 \u001b[38;5;241m-\u001b[39m i0, j1 \u001b[38;5;241m-\u001b[39m j0))\n",
      "File \u001b[0;32m~/anaconda3/envs/scenvi/lib/python3.10/site-packages/scipy/sparse/_data.py:95\u001b[0m, in \u001b[0;36m_data_matrix.copy\u001b[0;34m(self)\u001b[0m\n\u001b[1;32m     94\u001b[0m \u001b[38;5;28;01mdef\u001b[39;00m\u001b[38;5;250m \u001b[39m\u001b[38;5;21mcopy\u001b[39m(\u001b[38;5;28mself\u001b[39m):\n\u001b[0;32m---> 95\u001b[0m     \u001b[38;5;28;01mreturn\u001b[39;00m \u001b[38;5;28mself\u001b[39m\u001b[38;5;241m.\u001b[39m_with_data(\u001b[38;5;28;43mself\u001b[39;49m\u001b[38;5;241;43m.\u001b[39;49m\u001b[43mdata\u001b[49m\u001b[38;5;241;43m.\u001b[39;49m\u001b[43mcopy\u001b[49m\u001b[43m(\u001b[49m\u001b[43m)\u001b[49m, copy\u001b[38;5;241m=\u001b[39m\u001b[38;5;28;01mTrue\u001b[39;00m)\n",
      "\u001b[0;31mKeyboardInterrupt\u001b[0m: "
     ]
    }
   ],
   "source": [
    "# We first define and ENVI model which computes the COVET matrices of the spatial data and intializes the CVAE:\n",
    "# envi_model = scenvi.ENVI(spatial_data = adata, sc_data = crc_sc, covet_batch_size = 256)\n",
    "envi_model = scenvi.ENVI(spatial_data = st_data, sc_data = sc_data,covet_batch_size=64)\n",
    "# Training ENVI and run auxiliary function\n",
    "envi_model.train()\n",
    "envi_model.impute_genes()\n",
    "envi_model.infer_niche_covet()\n",
    "envi_model.infer_niche_celltype()\n",
    "\n",
    "#Read ENVI predictions\n",
    "\n",
    "st_data.obsm['envi_latent'] = envi_model.spatial_data.obsm['envi_latent']\n",
    "st_data.obsm['COVET'] = envi_model.spatial_data.obsm['COVET']\n",
    "st_data.obsm['COVET_SQRT'] = envi_model.spatial_data.obsm['COVET_SQRT']\n",
    "st_data.uns['COVET_genes'] =  envi_model.CovGenes\n",
    "st_data.obsm['imputation'] = envi_model.spatial_data.obsm['imputation']\n",
    "st_data.obsm['cell_type_niche'] = envi_model.spatial_data.obsm['cell_type_niche']\n",
    "\n",
    "sc_data.obsm['envi_latent'] = envi_model.sc_data.obsm['envi_latent']\n",
    "sc_data.obsm['COVET'] = envi_model.sc_data.obsm['COVET']\n",
    "sc_data.obsm['COVET_SQRT'] = envi_model.sc_data.obsm['COVET_SQRT']\n",
    "sc_data.obsm['cell_type_niche'] = envi_model.sc_data.obsm['cell_type_niche']\n",
    "sc_data.uns['COVET_genes'] =  envi_model.CovGenes"
   ]
  },
  {
   "cell_type": "code",
   "execution_count": null,
   "id": "facfbdea-ac18-48cd-9c69-1195046dc1c1",
   "metadata": {},
   "outputs": [],
   "source": [
    "sc_data.uns['COVET_genes']"
   ]
  },
  {
   "cell_type": "markdown",
   "id": "fc428179-fa7a-4797-8dcf-89d2f8137634",
   "metadata": {},
   "source": [
    "## model training"
   ]
  },
  {
   "cell_type": "code",
   "execution_count": null,
   "id": "31e9a4b1-934c-4cd0-887c-83251aea6988",
   "metadata": {},
   "outputs": [],
   "source": []
  },
  {
   "cell_type": "markdown",
   "id": "cb0d219e-bad9-4bd7-aec2-a993d3d13629",
   "metadata": {},
   "source": [
    "## Plot UMAPs of ENVI latent"
   ]
  },
  {
   "cell_type": "code",
   "execution_count": null,
   "id": "967d90cb-278c-40a9-a171-e6d719e526d1",
   "metadata": {},
   "outputs": [],
   "source": [
    "fit = umap.UMAP(\n",
    "    n_neighbors = 100,\n",
    "    min_dist = 0.3,\n",
    "    n_components = 2,\n",
    ")\n",
    "\n",
    "latent_umap = fit.fit_transform(np.concatenate([st_data.obsm['envi_latent'], sc_data.obsm['envi_latent']], axis = 0))\n",
    "\n",
    "st_data.obsm['latent_umap'] = latent_umap[:st_data.shape[0]]\n",
    "sc_data.obsm['latent_umap'] = latent_umap[st_data.shape[0]:]"
   ]
  },
  {
   "cell_type": "code",
   "execution_count": null,
   "id": "3557b046-2409-445a-8edf-720c1e7c5a17",
   "metadata": {},
   "outputs": [],
   "source": [
    "\n"
   ]
  },
  {
   "cell_type": "code",
   "execution_count": null,
   "id": "58d923f7-5d28-411e-a6c7-501a40ec9f9e",
   "metadata": {},
   "outputs": [],
   "source": []
  }
 ],
 "metadata": {
  "kernelspec": {
   "display_name": "Python 3 (ipykernel)",
   "language": "python",
   "name": "python3"
  },
  "language_info": {
   "codemirror_mode": {
    "name": "ipython",
    "version": 3
   },
   "file_extension": ".py",
   "mimetype": "text/x-python",
   "name": "python",
   "nbconvert_exporter": "python",
   "pygments_lexer": "ipython3",
   "version": "3.10.4"
  }
 },
 "nbformat": 4,
 "nbformat_minor": 5
}
