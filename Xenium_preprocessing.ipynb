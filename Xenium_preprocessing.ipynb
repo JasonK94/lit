{
 "cells": [
  {
   "cell_type": "markdown",
   "id": "b461931d-fd45-47e1-a9de-20599b52f1cb",
   "metadata": {},
   "source": [
    "# library loading"
   ]
  },
  {
   "cell_type": "code",
   "execution_count": 4,
   "id": "b7dfb7ac-36a0-4bc5-b4fe-0c7608194100",
   "metadata": {},
   "outputs": [],
   "source": [
    "import scanpy as sc\n",
    "import pandas as pd\n",
    "import numpy as np\n",
    "import scvi\n",
    "import scanpy as sc\n",
    "import anndata as ad\n",
    "\n"
   ]
  },
  {
   "cell_type": "markdown",
   "id": "3a608991-10ad-4240-92f6-c34a51d3091b",
   "metadata": {},
   "source": [
    "# raw files"
   ]
  },
  {
   "cell_type": "markdown",
   "id": "472020b6-490a-472c-9c5f-016d136668f8",
   "metadata": {},
   "source": [
    "## file paths"
   ]
  },
  {
   "cell_type": "code",
   "execution_count": 13,
   "id": "21a79073-04e5-4753-8bea-9d65990f09d1",
   "metadata": {
    "jupyter": {
     "source_hidden": true
    }
   },
   "outputs": [],
   "source": [
    "urls={\"S1R1\":[\"/data/ARPAH/250210_CRC_BJM/output-XETG00274__0050586__Region_1__20250205__113422/cell_feature_matrix.h5\",\n",
    "        \"/data/ARPAH/250210_CRC_BJM/output-XETG00274__0050586__Region_1__20250205__113422/cells.parquet\",\n",
    "        \"/data/ARPAH/250210_CRC_BJM/cell_ID/slide1(0050568)_Region1\"],\n",
    "\"S1R2\":[\"/data/ARPAH/250210_CRC_BJM/output-XETG00274__0050586__Region_2__20250205__113422/cell_feature_matrix.h5\",\n",
    "        \"/data/ARPAH/250210_CRC_BJM/output-XETG00274__0050586__Region_2__20250205__113422/cells.parquet\",\n",
    "        \"/data/ARPAH/250210_CRC_BJM/cell_ID/slide1(0050568)_Region2\"],\n",
    "\"S1R3\":[\"/data/ARPAH/250210_CRC_BJM/output-XETG00274__0050586__Region_3__20250205__113422/cell_feature_matrix.h5\",\n",
    "        \"/data/ARPAH/250210_CRC_BJM/output-XETG00274__0050586__Region_3__20250205__113422/cells.parquet\",\n",
    "        \"/data/ARPAH/250210_CRC_BJM/cell_ID/slide1(0050568)_Region3\"],\n",
    "\"S1R4\":[\"/data/ARPAH/250210_CRC_BJM/output-XETG00274__0050586__Region_4__20250205__113422/cell_feature_matrix.h5\",\n",
    "        \"/data/ARPAH/250210_CRC_BJM/output-XETG00274__0050586__Region_4__20250205__113422/cells.parquet\",\n",
    "        \"/data/ARPAH/250210_CRC_BJM/cell_ID/slide1(0050568)_Region4\"],\n",
    "\"S1R5\":[\"/data/ARPAH/250210_CRC_BJM/output-XETG00274__0050586__Region_5__20250205__113422/cell_feature_matrix.h5\",\n",
    "        \"/data/ARPAH/250210_CRC_BJM/output-XETG00274__0050586__Region_5__20250205__113422/cells.parquet\",\n",
    "        \"/data/ARPAH/250210_CRC_BJM/cell_ID/slide1(0050568)_Region5\"],\n",
    "\"S1R6\":[\"/data/ARPAH/250210_CRC_BJM/output-XETG00274__0050586__Region_6__20250205__113422/cell_feature_matrix.h5\",\n",
    "        \"/data/ARPAH/250210_CRC_BJM/output-XETG00274__0050586__Region_6__20250205__113422/cells.parquet\",\n",
    "        \"/data/ARPAH/250210_CRC_BJM/cell_ID/slide1(0050568)_Region6\"],\n",
    "\"S2R1\":[\"/data/ARPAH/250210_CRC_BJM/output-XETG00274__0050585__Region_1__20250205__113422/cell_feature_matrix.h5\",\n",
    "        \"/data/ARPAH/250210_CRC_BJM/output-XETG00274__0050585__Region_1__20250205__113422/cells.parquet\",\n",
    "        \"/data/ARPAH/250210_CRC_BJM/cell_ID/slide2(0050585)_Region1\"],\n",
    "\"S2R2\":[\"/data/ARPAH/250210_CRC_BJM/output-XETG00274__0050585__Region_2__20250205__113422/cell_feature_matrix.h5\",\n",
    "        \"/data/ARPAH/250210_CRC_BJM/output-XETG00274__0050585__Region_2__20250205__113422/cells.parquet\",\n",
    "        \"/data/ARPAH/250210_CRC_BJM/cell_ID/slide2(0050585)_Region2\"],\n",
    "\"S2R3\":[\"/data/ARPAH/250210_CRC_BJM/output-XETG00274__0050585__Region_3__20250205__113422/cell_feature_matrix.h5\",\n",
    "        \"/data/ARPAH/250210_CRC_BJM/output-XETG00274__0050585__Region_3__20250205__113422/cells.parquet\",\n",
    "        \"/data/ARPAH/250210_CRC_BJM/cell_ID/slide2(0050585)_Region3\"],\n",
    "\"S2R4\":[\"/data/ARPAH/250210_CRC_BJM/output-XETG00274__0050585__Region_4__20250205__113422/cell_feature_matrix.h5\",\n",
    "        \"/data/ARPAH/250210_CRC_BJM/output-XETG00274__0050585__Region_4__20250205__113422/cells.parquet\",\n",
    "        \"/data/ARPAH/250210_CRC_BJM/cell_ID/slide2(0050585)_Region4\"],\n",
    "\"S2R5\":[\"/data/ARPAH/250210_CRC_BJM/output-XETG00274__0050585__Region_5__20250205__113422/cell_feature_matrix.h5\",\n",
    "        \"/data/ARPAH/250210_CRC_BJM/output-XETG00274__0050585__Region_5__20250205__113422/cells.parquet\",\n",
    "        \"/data/ARPAH/250210_CRC_BJM/cell_ID/slide2(0050585)_Region5\"],\n",
    "\"S2R6\":[\"/data/ARPAH/250210_CRC_BJM/output-XETG00274__0050585__Region_6__20250205__113422/cell_feature_matrix.h5\",\n",
    "        \"/data/ARPAH/250210_CRC_BJM/output-XETG00274__0050585__Region_6__20250205__113422/cells.parquet\",\n",
    "        \"/data/ARPAH/250210_CRC_BJM/cell_ID/slide2(0050585)_Region6\"]}"
   ]
  },
  {
   "cell_type": "markdown",
   "id": "4f521366-9b98-49ab-9dca-ec3e876ed852",
   "metadata": {},
   "source": [
    "## loading"
   ]
  },
  {
   "cell_type": "code",
   "execution_count": 17,
   "id": "ed8730ff-97d5-4974-b458-c6bbb57d969b",
   "metadata": {},
   "outputs": [],
   "source": [
    "ids = [f\"S{s}R{r}\" for s in range(1,3) for r in range(1,7)]\n",
    "# adatas=[sc.read_h5ad(\"/data/kjc2/projects/P330.CSA/processed_xenium/processed_xenium_CRC_BJM1_\"+id+\"_processed.h5ad\") for id in ids]\n",
    "# adatass = {id: adata for id, adata in zip(ids, adatas)}\n",
    "adatas={id:sc.read_10x_h5(urls[id][0]) for id in ids}\n",
    "cells_dfs={id:pd.read_parquet(urls[id][1]) for id in ids}\n",
    "core_dfs={id:urls[id][2] for id in ids}"
   ]
  },
  {
   "cell_type": "markdown",
   "id": "47dd2589-b287-41f2-b5c4-ed6f9cbec502",
   "metadata": {},
   "source": [
    "## add parquet data"
   ]
  },
  {
   "cell_type": "code",
   "execution_count": 65,
   "id": "c6cfc6e3-7685-4ab2-94a2-88a36aa97a1b",
   "metadata": {},
   "outputs": [],
   "source": [
    "adatas2={id:adatas[id] for id in ids}\n",
    "for id in ids:\n",
    "    adatas2[id].obs = adatas2[id].obs.join(cells_dfs[id], how='left', lsuffix='_h5', rsuffix='_parquet')"
   ]
  },
  {
   "cell_type": "code",
   "execution_count": 68,
   "id": "e0449313-a68a-461d-bf1f-3d869034e415",
   "metadata": {},
   "outputs": [
    {
     "data": {
      "text/plain": [
       "AnnData object with n_obs × n_vars = 64113 × 5001\n",
       "    obs: 'Core', 'Cluster_core', 'Transcripts_core', 'Area (µm^2)_core', 'cell_id', 'x_centroid', 'y_centroid', 'transcript_counts', 'control_probe_counts', 'genomic_control_counts', 'control_codeword_counts', 'unassigned_codeword_counts', 'deprecated_codeword_counts', 'total_counts', 'cell_area', 'nucleus_area', 'nucleus_count', 'segmentation_method'\n",
       "    var: 'gene_ids', 'feature_types', 'genome'"
      ]
     },
     "execution_count": 68,
     "metadata": {},
     "output_type": "execute_result"
    }
   ],
   "source": [
    "adatas2[\"S1R1\"]"
   ]
  },
  {
   "cell_type": "markdown",
   "id": "a5f9c65a-9af4-43c0-aa56-a29c2e8cdd24",
   "metadata": {},
   "source": [
    "## add meta data"
   ]
  },
  {
   "cell_type": "code",
   "execution_count": 66,
   "id": "d7c16b98-d50a-423c-a3f2-7246878216ba",
   "metadata": {},
   "outputs": [
    {
     "name": "stdout",
     "output_type": "stream",
     "text": [
      "Core\n",
      "44      8254\n",
      "32      7876\n",
      "20      6764\n",
      "8       6581\n",
      "56      6511\n",
      "31      6227\n",
      "55      5906\n",
      "19      5830\n",
      "7       5531\n",
      "43      4478\n",
      "<NA>     155\n",
      "Name: count, dtype: int64\n",
      "Core\n",
      "44      0.128741\n",
      "32      0.122846\n",
      "20      0.105501\n",
      "8       0.102647\n",
      "56      0.101555\n",
      "31      0.097125\n",
      "55      0.092119\n",
      "19      0.090933\n",
      "7       0.086270\n",
      "43      0.069845\n",
      "<NA>    0.002418\n",
      "Name: proportion, dtype: float64\n"
     ]
    }
   ],
   "source": [
    "adatas3={id:add_core_info(adatas2[id],core_dfs[id]) for id in ids}\n",
    "adatas3[\"S1R1\"].obs[\"Core\"].unique()\n",
    "counts = adatas3[\"S1R1\"].obs['Core'].value_counts(dropna=False)\n",
    "freq=adatas3[\"S1R1\"].obs['Core'].value_counts(dropna=False, normalize=True)\n",
    "print(counts)\n",
    "print(freq)"
   ]
  },
  {
   "cell_type": "code",
   "execution_count": null,
   "id": "09531088-ca08-4037-99df-b72709875089",
   "metadata": {},
   "outputs": [],
   "source": []
  },
  {
   "cell_type": "code",
   "execution_count": null,
   "id": "e8af9a2e-66f7-4d4c-8ed8-81505a57b65e",
   "metadata": {},
   "outputs": [],
   "source": []
  },
  {
   "cell_type": "markdown",
   "id": "2c71b201-84b7-4ac8-b66a-48cb7c8bcaad",
   "metadata": {},
   "source": [
    "# loading - already processed"
   ]
  },
  {
   "cell_type": "code",
   "execution_count": 2,
   "id": "9e0cd333-ebb3-4423-977f-0b1999e8dfc8",
   "metadata": {},
   "outputs": [],
   "source": [
    "adatas={}\n",
    "ids = [f\"S{s}R{r}\" for s in range(1,3) for r in range(1,7)]\n",
    "# adatas=[sc.read_h5ad(\"/data/kjc2/projects/P330.CSA/processed_xenium/processed_xenium_CRC_BJM1_\"+id+\"_processed.h5ad\") for id in ids]\n",
    "# adatass = {id: adata for id, adata in zip(ids, adatas)}\n",
    "adatas={id:sc.read_h5ad(\"/data/kjc2/projects/P330.CSA/processed_xenium/processed_xenium_CRC_BJM1_\"+id+\"_processed.h5ad\") for id in ids }"
   ]
  },
  {
   "cell_type": "markdown",
   "id": "3823b6b5-c723-4a34-9b9a-917ef33daad3",
   "metadata": {},
   "source": [
    "# merging"
   ]
  },
  {
   "cell_type": "code",
   "execution_count": 49,
   "id": "7d91dc07-8cdc-4ed6-af5d-db40aabe0c4f",
   "metadata": {},
   "outputs": [],
   "source": [
    "adata_merged=ad.concat(\n",
    "    [*adatas.values()],\n",
    "    join=\"inner\",\n",
    "    label=\"batch\",\n",
    "    keys=adatas.keys(),        # .obs에 추가될 샘플 정보 열 이름\n",
    "    index_unique='-'           # 인덱스 중복 시 샘플명을 붙여 고유화\n",
    ")"
   ]
  },
  {
   "cell_type": "code",
   "execution_count": 53,
   "id": "2d9940bd-6f74-454a-8d17-c2b5b890f232",
   "metadata": {},
   "outputs": [
    {
     "data": {
      "text/plain": [
       "['S1R1', 'S1R2', 'S1R3', 'S1R4', 'S1R5', ..., 'S2R2', 'S2R3', 'S2R4', 'S2R5', 'S2R6']\n",
       "Length: 12\n",
       "Categories (12, object): ['S1R1', 'S1R2', 'S1R3', 'S1R4', ..., 'S2R3', 'S2R4', 'S2R5', 'S2R6']"
      ]
     },
     "execution_count": 53,
     "metadata": {},
     "output_type": "execute_result"
    }
   ],
   "source": [
    "adata_merged\n",
    "adata_merged.obs['batch'].unique()"
   ]
  },
  {
   "cell_type": "code",
   "execution_count": 40,
   "id": "bf1775c4-f861-4bd9-a2da-0351a7eebe25",
   "metadata": {},
   "outputs": [
    {
     "data": {
      "text/plain": [
       "AnnData object with n_obs × n_vars = 64113 × 5001\n",
       "    obs: 'Core', 'Cluster_core', 'Transcripts_core', 'Area (µm^2)_core'\n",
       "    var: 'gene_ids', 'feature_types', 'genome'"
      ]
     },
     "execution_count": 40,
     "metadata": {},
     "output_type": "execute_result"
    }
   ],
   "source": [
    "adatas[\"S1R1\"]\n",
    "\n",
    "adatas[\"S1R1\"].obs[\"Core\"]\n",
    "adatas[\"S1R1\"].obs[\"Cluster_core\"]"
   ]
  },
  {
   "cell_type": "code",
   "execution_count": null,
   "id": "1cab7200-c358-47f4-8c73-892abe03eb1f",
   "metadata": {},
   "outputs": [],
   "source": [
    "# 데이터 양식 확인\n",
    "print(adata_merged.obs[\"Core\"].dtype)\n",
    "print(adata_merged.obs[\"Cluster_core\"].dtype)\n",
    "\n",
    "# 데이터 양식 object에서 category로 변환 (scVI에서 batch key로 사용하려면)\n",
    "adata_merged.obs[\"Core\"] = pd.Categorical(adata_merged.obs[\"Core\"])\n",
    "print(adata_merged.obs[\"Core\"].dtype) # 변환되었는지 확인\n",
    "adata_merged.obs[\"Cluster_core\"] = pd.Categorical(adata_merged.obs[\"Cluster_core\"])\n",
    "print(adata_merged.obs[\"Cluster_core\"].dtype) # 변환되었는지 확인\n",
    "\n",
    "## 결측치 확인\n",
    "print(adata_merged.obs[\"Core\"].isnull().sum())\n",
    "print(adata_merged.obs[\"Cluster_core\"].isnull().sum())\n",
    "\n",
    "# 결측치를 특정 범주로 채우는 예시 (예: \"Unknown\")\n",
    "#adata_merged.obs[\"Cluster_core\"] = adata_merged.obs[\"Cluster_core\"].fillna(\"Unknown\")\n",
    "\n",
    "# 결측치가 있는 행 제거 (신중하게 결정해야 함)\n",
    "adata_merged = adata_merged[~adata_merged.obs[\"Cluster_core\"].isnull()].copy()\n",
    "\n",
    "# 예상치 못한 값 확인 및 처리: 공백 문자 등 예상치 못한 값이 있는지 확인하고 필요에 따라 수정합니다.\n",
    "print(adata_merged.obs[\"Cluster_core\"].unique())\n",
    "# 필요하다면 값 수정 (예: 공백 제거)\n",
    "# adata_merged.obs[\"Cluster_core\"] = adata_merged.obs[\"Cluster_core\"].str.strip()"
   ]
  },
  {
   "cell_type": "markdown",
   "id": "abaee114-5f0d-4ff6-a5e7-4c7610c92f95",
   "metadata": {},
   "source": [
    "# integration"
   ]
  },
  {
   "cell_type": "markdown",
   "id": "5ff47e7f-dd0d-4c08-a7e7-dd20d19af809",
   "metadata": {},
   "source": [
    "## scVI"
   ]
  },
  {
   "cell_type": "code",
   "execution_count": 64,
   "id": "2ce43598-d05c-43e2-9176-34b9a8eb22b9",
   "metadata": {
    "collapsed": true,
    "jupyter": {
     "outputs_hidden": true
    }
   },
   "outputs": [
    {
     "name": "stderr",
     "output_type": "stream",
     "text": [
      "/home/jaecheon/anaconda3/envs/scenvi/lib/python3.10/site-packages/scvi/model/_scvi.py:159: UserWarning: This dataset has some empty cells, this might fail inference.Data should be filtered with `scanpy.pp.filter_cells()`\n",
      "  library_log_means, library_log_vars = _init_library_size(\n",
      "GPU available: True (cuda), used: True\n",
      "TPU available: False, using: 0 TPU cores\n",
      "HPU available: False, using: 0 HPUs\n",
      "LOCAL_RANK: 0 - CUDA_VISIBLE_DEVICES: [0]\n",
      "/home/jaecheon/anaconda3/envs/scenvi/lib/python3.10/site-packages/lightning/pytorch/trainer/connectors/data_connector.py:425: The 'train_dataloader' does not have many workers which may be a bottleneck. Consider increasing the value of the `num_workers` argument` to `num_workers=111` in the `DataLoader` to improve performance.\n"
     ]
    },
    {
     "data": {
      "application/vnd.jupyter.widget-view+json": {
       "model_id": "6ddeab509340468da3298831e9bf3b7e",
       "version_major": 2,
       "version_minor": 0
      },
      "text/plain": [
       "Training:   0%|          | 0/10 [00:00<?, ?it/s]"
      ]
     },
     "metadata": {},
     "output_type": "display_data"
    },
    {
     "name": "stderr",
     "output_type": "stream",
     "text": [
      "`Trainer.fit` stopped: `max_epochs=10` reached.\n"
     ]
    },
    {
     "ename": "TypeError",
     "evalue": "unsupported operand type(s) for *=: 'Tensor' and 'str'",
     "output_type": "error",
     "traceback": [
      "\u001b[0;31m---------------------------------------------------------------------------\u001b[0m",
      "\u001b[0;31mTypeError\u001b[0m                                 Traceback (most recent call last)",
      "Cell \u001b[0;32mIn[64], line 20\u001b[0m\n\u001b[1;32m      7\u001b[0m model\u001b[38;5;241m.\u001b[39mtrain()\n\u001b[1;32m      8\u001b[0m \u001b[38;5;66;03m# Error displaying widget: model not found 무시해도 되는 오류라고 함.\u001b[39;00m\n\u001b[1;32m      9\u001b[0m \u001b[38;5;66;03m# /home/jaecheon/anaconda3/envs/scenvi/lib/python3.10/site-packages/scvi/module/_vae.py:569: UserWarning: The value argument must be within the support of the distribution\u001b[39;00m\n\u001b[1;32m     10\u001b[0m \u001b[38;5;66;03m# reconst_loss = -generative_outputs[MODULE_KEYS.PX_KEY].log_prob(x).sum(-1)\u001b[39;00m\n\u001b[0;32m   (...)\u001b[0m\n\u001b[1;32m     18\u001b[0m \u001b[38;5;66;03m# n_samples=1은 각 세포 및 유전자에 대해 하나의 값을 샘플링합니다 (기본값).\u001b[39;00m\n\u001b[1;32m     19\u001b[0m \u001b[38;5;66;03m# 더 안정적인 값을 원하면 n_samples를 늘릴 수 있지만 계산량이 증가합니다.\u001b[39;00m\n\u001b[0;32m---> 20\u001b[0m adata_merged\u001b[38;5;241m.\u001b[39mlayers[\u001b[38;5;124m\"\u001b[39m\u001b[38;5;124mscvi_normalized\u001b[39m\u001b[38;5;124m\"\u001b[39m] \u001b[38;5;241m=\u001b[39m \u001b[43mmodel\u001b[49m\u001b[38;5;241;43m.\u001b[39;49m\u001b[43mget_normalized_expression\u001b[49m\u001b[43m(\u001b[49m\n\u001b[1;32m     21\u001b[0m \u001b[43m    \u001b[49m\u001b[43mlibrary_size\u001b[49m\u001b[38;5;241;43m=\u001b[39;49m\u001b[38;5;124;43m\"\u001b[39;49m\u001b[38;5;124;43mauto\u001b[39;49m\u001b[38;5;124;43m\"\u001b[39;49m\u001b[43m,\u001b[49m\n\u001b[1;32m     22\u001b[0m \u001b[43m    \u001b[49m\u001b[43mn_samples\u001b[49m\u001b[38;5;241;43m=\u001b[39;49m\u001b[38;5;241;43m1\u001b[39;49m\u001b[43m \u001b[49m\u001b[38;5;66;43;03m# 필요에 따라 조절\u001b[39;49;00m\n\u001b[1;32m     23\u001b[0m \u001b[43m)\u001b[49m\n\u001b[1;32m     25\u001b[0m \u001b[38;5;66;03m# 결과 확인 (예: 특정 유전자 확인)\u001b[39;00m\n\u001b[1;32m     26\u001b[0m \u001b[38;5;66;03m# print(adata.layers[\"scvi_normalized\"][:5, :5])\u001b[39;00m\n\u001b[1;32m     28\u001b[0m adata_merged\u001b[38;5;241m.\u001b[39mwrite_h5ad(\u001b[38;5;124m\"\u001b[39m\u001b[38;5;124m/data/kjc2/projects/P330.CSA/rds/CRC_BJM1_raw_scVIed.h5ad\u001b[39m\u001b[38;5;124m\"\u001b[39m)\n",
      "File \u001b[0;32m~/anaconda3/envs/scenvi/lib/python3.10/site-packages/torch/utils/_contextlib.py:116\u001b[0m, in \u001b[0;36mcontext_decorator.<locals>.decorate_context\u001b[0;34m(*args, **kwargs)\u001b[0m\n\u001b[1;32m    113\u001b[0m \u001b[38;5;129m@functools\u001b[39m\u001b[38;5;241m.\u001b[39mwraps(func)\n\u001b[1;32m    114\u001b[0m \u001b[38;5;28;01mdef\u001b[39;00m\u001b[38;5;250m \u001b[39m\u001b[38;5;21mdecorate_context\u001b[39m(\u001b[38;5;241m*\u001b[39margs, \u001b[38;5;241m*\u001b[39m\u001b[38;5;241m*\u001b[39mkwargs):\n\u001b[1;32m    115\u001b[0m     \u001b[38;5;28;01mwith\u001b[39;00m ctx_factory():\n\u001b[0;32m--> 116\u001b[0m         \u001b[38;5;28;01mreturn\u001b[39;00m \u001b[43mfunc\u001b[49m\u001b[43m(\u001b[49m\u001b[38;5;241;43m*\u001b[39;49m\u001b[43margs\u001b[49m\u001b[43m,\u001b[49m\u001b[43m \u001b[49m\u001b[38;5;241;43m*\u001b[39;49m\u001b[38;5;241;43m*\u001b[39;49m\u001b[43mkwargs\u001b[49m\u001b[43m)\u001b[49m\n",
      "File \u001b[0;32m~/anaconda3/envs/scenvi/lib/python3.10/site-packages/scvi/model/base/_rnamixin.py:278\u001b[0m, in \u001b[0;36mRNASeqMixin.get_normalized_expression\u001b[0;34m(self, adata, indices, transform_batch, gene_list, library_size, n_samples, n_samples_overall, weights, batch_size, return_mean, return_numpy, **importance_weighting_kwargs)\u001b[0m\n\u001b[1;32m    276\u001b[0m     exp_ \u001b[38;5;241m=\u001b[39m px_generative\u001b[38;5;241m.\u001b[39mget_normalized(generative_output_key)\n\u001b[1;32m    277\u001b[0m exp_ \u001b[38;5;241m=\u001b[39m exp_[\u001b[38;5;241m.\u001b[39m\u001b[38;5;241m.\u001b[39m\u001b[38;5;241m.\u001b[39m, gene_mask]\n\u001b[0;32m--> 278\u001b[0m exp_ \u001b[38;5;241m*\u001b[39m\u001b[38;5;241m=\u001b[39m scaling\n\u001b[1;32m    279\u001b[0m per_batch_exprs\u001b[38;5;241m.\u001b[39mappend(exp_[\u001b[38;5;28;01mNone\u001b[39;00m]\u001b[38;5;241m.\u001b[39mcpu())\n\u001b[1;32m    280\u001b[0m \u001b[38;5;28;01mif\u001b[39;00m store_distributions:\n",
      "\u001b[0;31mTypeError\u001b[0m: unsupported operand type(s) for *=: 'Tensor' and 'str'"
     ]
    }
   ],
   "source": [
    "# scvi.model.SCVI.setup_anndata(adata_merged, batch_key=\"batch\",layer=\"counts\")\n",
    "scvi.model.SCVI.setup_anndata(adata_merged, batch_key=\"Core\")\n",
    "# 모델 생성\n",
    "model = scvi.model.SCVI(adata_merged)\n",
    "\n",
    "# 모델 훈련 (GPU 사용 가능시 자동으로 활용)\n",
    "model.train()\n",
    "# Error displaying widget: model not found 무시해도 되는 오류라고 함.\n",
    "# /home/jaecheon/anaconda3/envs/scenvi/lib/python3.10/site-packages/scvi/module/_vae.py:569: UserWarning: The value argument must be within the support of the distribution\n",
    "# reconst_loss = -generative_outputs[MODULE_KEYS.PX_KEY].log_prob(x).sum(-1)\n",
    "# 이 오류는 raw counts(음이아닌정수)가 아닌 데이터가 들어온 것을 암시하며, 문제가 있다는 의미임.\n",
    "\n",
    "# 잠재 공간 표현 얻기 (기본적으로 10차원)\n",
    "#adata_merged.obsm[\"X_scVI_kjc\"] = model.get_latent_representation()\n",
    "\n",
    "# 정규화된 발현 값 얻기\n",
    "# library_size='auto'는 각 세포의 라이브러리 크기를 고려하여 스케일링합니다.\n",
    "# n_samples=1은 각 세포 및 유전자에 대해 하나의 값을 샘플링합니다 (기본값).\n",
    "# 더 안정적인 값을 원하면 n_samples를 늘릴 수 있지만 계산량이 증가합니다.\n",
    "adata_merged.layers[\"scvi_normalized\"] = model.get_normalized_expression(\n",
    "    library_size=\"auto\",\n",
    "    n_samples=1 # 필요에 따라 조절\n",
    ")\n",
    "\n",
    "# 결과 확인 (예: 특정 유전자 확인)\n",
    "# print(adata.layers[\"scvi_normalized\"][:5, :5])\n",
    "\n",
    "adata_merged.write_h5ad(\"/data/kjc2/projects/P330.CSA/rds/CRC_BJM1_raw_scVIed.h5ad\")"
   ]
  },
  {
   "cell_type": "code",
   "execution_count": 71,
   "id": "ffd0e64e-77fe-4c84-89a0-b437a6f4081c",
   "metadata": {},
   "outputs": [
    {
     "name": "stdout",
     "output_type": "stream",
     "text": [
      "Transcripts_core Transcripts_core\n",
      "<class 'int'>    784669\n",
      "Name: count, dtype: int64\n",
      "Area (µm^2)_core Area (µm^2)_core\n",
      "<class 'float'>    784669\n",
      "Name: count, dtype: int64\n"
     ]
    }
   ],
   "source": [
    "# ① object-dtype 열만 뽑기\n",
    "obj_cols = adata_merged.obs.select_dtypes(include=[\"object\"]).columns\n",
    "\n",
    "# ② 각 열의 실제 자료형 확인\n",
    "for col in obj_cols:\n",
    "    print(col, adata_merged.obs[col].map(type).value_counts().head())"
   ]
  },
  {
   "cell_type": "code",
   "execution_count": 73,
   "id": "0462debe-04fb-4cd7-ba8e-ce36f66e26f0",
   "metadata": {},
   "outputs": [],
   "source": [
    "# Transcripts_core가 list 라면 총합으로 요약 (예시)\n",
    "adata_merged.obs[\"Transcripts_core\"] = (\n",
    "    adata_merged.obs[\"Transcripts_core\"]\n",
    "    .apply(lambda x: sum(x) if isinstance(x, (list, np.ndarray)) else x)\n",
    "    .astype(\"int\")                    # 또는 int32\n",
    ")"
   ]
  },
  {
   "cell_type": "code",
   "execution_count": 74,
   "id": "0e6a046e-904b-4c18-ab43-de9bb5c9bc91",
   "metadata": {},
   "outputs": [
    {
     "ename": "TypeError",
     "evalue": "Can't implicitly convert non-string objects to strings",
     "output_type": "error",
     "traceback": [
      "\u001b[0;31m---------------------------------------------------------------------------\u001b[0m",
      "\u001b[0;31mTypeError\u001b[0m                                 Traceback (most recent call last)",
      "Cell \u001b[0;32mIn[74], line 1\u001b[0m\n\u001b[0;32m----> 1\u001b[0m \u001b[43madata_merged\u001b[49m\u001b[38;5;241;43m.\u001b[39;49m\u001b[43mwrite_h5ad\u001b[49m\u001b[43m(\u001b[49m\u001b[38;5;124;43m\"\u001b[39;49m\u001b[38;5;124;43m/data/kjc2/projects/P330.CSA/rds/CRC_BJM1_raw_scVIed.h5ad\u001b[39;49m\u001b[38;5;124;43m\"\u001b[39;49m\u001b[43m)\u001b[49m\n",
      "File \u001b[0;32m~/anaconda3/envs/scenvi/lib/python3.10/site-packages/anndata/_core/anndata.py:1871\u001b[0m, in \u001b[0;36mAnnData.write_h5ad\u001b[0;34m(self, filename, compression, compression_opts, as_dense, convert_strings_to_categoricals)\u001b[0m\n\u001b[1;32m   1868\u001b[0m \u001b[38;5;28;01mif\u001b[39;00m filename \u001b[38;5;129;01mis\u001b[39;00m \u001b[38;5;28;01mNone\u001b[39;00m:\n\u001b[1;32m   1869\u001b[0m     filename \u001b[38;5;241m=\u001b[39m \u001b[38;5;28mself\u001b[39m\u001b[38;5;241m.\u001b[39mfilename\n\u001b[0;32m-> 1871\u001b[0m \u001b[43mwrite_h5ad\u001b[49m\u001b[43m(\u001b[49m\n\u001b[1;32m   1872\u001b[0m \u001b[43m    \u001b[49m\u001b[43mPath\u001b[49m\u001b[43m(\u001b[49m\u001b[43mfilename\u001b[49m\u001b[43m)\u001b[49m\u001b[43m,\u001b[49m\n\u001b[1;32m   1873\u001b[0m \u001b[43m    \u001b[49m\u001b[38;5;28;43mself\u001b[39;49m\u001b[43m,\u001b[49m\n\u001b[1;32m   1874\u001b[0m \u001b[43m    \u001b[49m\u001b[43mconvert_strings_to_categoricals\u001b[49m\u001b[38;5;241;43m=\u001b[39;49m\u001b[43mconvert_strings_to_categoricals\u001b[49m\u001b[43m,\u001b[49m\n\u001b[1;32m   1875\u001b[0m \u001b[43m    \u001b[49m\u001b[43mcompression\u001b[49m\u001b[38;5;241;43m=\u001b[39;49m\u001b[43mcompression\u001b[49m\u001b[43m,\u001b[49m\n\u001b[1;32m   1876\u001b[0m \u001b[43m    \u001b[49m\u001b[43mcompression_opts\u001b[49m\u001b[38;5;241;43m=\u001b[39;49m\u001b[43mcompression_opts\u001b[49m\u001b[43m,\u001b[49m\n\u001b[1;32m   1877\u001b[0m \u001b[43m    \u001b[49m\u001b[43mas_dense\u001b[49m\u001b[38;5;241;43m=\u001b[39;49m\u001b[43mas_dense\u001b[49m\u001b[43m,\u001b[49m\n\u001b[1;32m   1878\u001b[0m \u001b[43m\u001b[49m\u001b[43m)\u001b[49m\n\u001b[1;32m   1880\u001b[0m \u001b[38;5;28;01mif\u001b[39;00m \u001b[38;5;28mself\u001b[39m\u001b[38;5;241m.\u001b[39misbacked:\n\u001b[1;32m   1881\u001b[0m     \u001b[38;5;28mself\u001b[39m\u001b[38;5;241m.\u001b[39mfile\u001b[38;5;241m.\u001b[39mfilename \u001b[38;5;241m=\u001b[39m filename\n",
      "File \u001b[0;32m~/anaconda3/envs/scenvi/lib/python3.10/site-packages/anndata/_io/h5ad.py:106\u001b[0m, in \u001b[0;36mwrite_h5ad\u001b[0;34m(filepath, adata, as_dense, convert_strings_to_categoricals, dataset_kwargs, **kwargs)\u001b[0m\n\u001b[1;32m    104\u001b[0m \u001b[38;5;28;01melif\u001b[39;00m adata\u001b[38;5;241m.\u001b[39mraw \u001b[38;5;129;01mis\u001b[39;00m \u001b[38;5;129;01mnot\u001b[39;00m \u001b[38;5;28;01mNone\u001b[39;00m:\n\u001b[1;32m    105\u001b[0m     write_elem(f, \u001b[38;5;124m\"\u001b[39m\u001b[38;5;124mraw\u001b[39m\u001b[38;5;124m\"\u001b[39m, adata\u001b[38;5;241m.\u001b[39mraw, dataset_kwargs\u001b[38;5;241m=\u001b[39mdataset_kwargs)\n\u001b[0;32m--> 106\u001b[0m \u001b[43mwrite_elem\u001b[49m\u001b[43m(\u001b[49m\u001b[43mf\u001b[49m\u001b[43m,\u001b[49m\u001b[43m \u001b[49m\u001b[38;5;124;43m\"\u001b[39;49m\u001b[38;5;124;43mobs\u001b[39;49m\u001b[38;5;124;43m\"\u001b[39;49m\u001b[43m,\u001b[49m\u001b[43m \u001b[49m\u001b[43madata\u001b[49m\u001b[38;5;241;43m.\u001b[39;49m\u001b[43mobs\u001b[49m\u001b[43m,\u001b[49m\u001b[43m \u001b[49m\u001b[43mdataset_kwargs\u001b[49m\u001b[38;5;241;43m=\u001b[39;49m\u001b[43mdataset_kwargs\u001b[49m\u001b[43m)\u001b[49m\n\u001b[1;32m    107\u001b[0m write_elem(f, \u001b[38;5;124m\"\u001b[39m\u001b[38;5;124mvar\u001b[39m\u001b[38;5;124m\"\u001b[39m, adata\u001b[38;5;241m.\u001b[39mvar, dataset_kwargs\u001b[38;5;241m=\u001b[39mdataset_kwargs)\n\u001b[1;32m    108\u001b[0m write_elem(f, \u001b[38;5;124m\"\u001b[39m\u001b[38;5;124mobsm\u001b[39m\u001b[38;5;124m\"\u001b[39m, \u001b[38;5;28mdict\u001b[39m(adata\u001b[38;5;241m.\u001b[39mobsm), dataset_kwargs\u001b[38;5;241m=\u001b[39mdataset_kwargs)\n",
      "File \u001b[0;32m~/anaconda3/envs/scenvi/lib/python3.10/site-packages/anndata/_io/specs/registry.py:487\u001b[0m, in \u001b[0;36mwrite_elem\u001b[0;34m(store, k, elem, dataset_kwargs)\u001b[0m\n\u001b[1;32m    463\u001b[0m \u001b[38;5;28;01mdef\u001b[39;00m\u001b[38;5;250m \u001b[39m\u001b[38;5;21mwrite_elem\u001b[39m(\n\u001b[1;32m    464\u001b[0m     store: GroupStorageType,\n\u001b[1;32m    465\u001b[0m     k: \u001b[38;5;28mstr\u001b[39m,\n\u001b[0;32m   (...)\u001b[0m\n\u001b[1;32m    468\u001b[0m     dataset_kwargs: Mapping[\u001b[38;5;28mstr\u001b[39m, Any] \u001b[38;5;241m=\u001b[39m MappingProxyType({}),\n\u001b[1;32m    469\u001b[0m ) \u001b[38;5;241m-\u001b[39m\u001b[38;5;241m>\u001b[39m \u001b[38;5;28;01mNone\u001b[39;00m:\n\u001b[1;32m    470\u001b[0m \u001b[38;5;250m    \u001b[39m\u001b[38;5;124;03m\"\"\"\u001b[39;00m\n\u001b[1;32m    471\u001b[0m \u001b[38;5;124;03m    Write an element to a storage group using anndata encoding.\u001b[39;00m\n\u001b[1;32m    472\u001b[0m \n\u001b[0;32m   (...)\u001b[0m\n\u001b[1;32m    485\u001b[0m \u001b[38;5;124;03m        E.g. for zarr this would be `chunks`, `compressor`.\u001b[39;00m\n\u001b[1;32m    486\u001b[0m \u001b[38;5;124;03m    \"\"\"\u001b[39;00m\n\u001b[0;32m--> 487\u001b[0m     \u001b[43mWriter\u001b[49m\u001b[43m(\u001b[49m\u001b[43m_REGISTRY\u001b[49m\u001b[43m)\u001b[49m\u001b[38;5;241;43m.\u001b[39;49m\u001b[43mwrite_elem\u001b[49m\u001b[43m(\u001b[49m\u001b[43mstore\u001b[49m\u001b[43m,\u001b[49m\u001b[43m \u001b[49m\u001b[43mk\u001b[49m\u001b[43m,\u001b[49m\u001b[43m \u001b[49m\u001b[43melem\u001b[49m\u001b[43m,\u001b[49m\u001b[43m \u001b[49m\u001b[43mdataset_kwargs\u001b[49m\u001b[38;5;241;43m=\u001b[39;49m\u001b[43mdataset_kwargs\u001b[49m\u001b[43m)\u001b[49m\n",
      "File \u001b[0;32m~/anaconda3/envs/scenvi/lib/python3.10/site-packages/anndata/_io/utils.py:252\u001b[0m, in \u001b[0;36mreport_write_key_on_error.<locals>.func_wrapper\u001b[0;34m(*args, **kwargs)\u001b[0m\n\u001b[1;32m    250\u001b[0m     \u001b[38;5;28;01mraise\u001b[39;00m \u001b[38;5;167;01mValueError\u001b[39;00m(msg)\n\u001b[1;32m    251\u001b[0m \u001b[38;5;28;01mtry\u001b[39;00m:\n\u001b[0;32m--> 252\u001b[0m     \u001b[38;5;28;01mreturn\u001b[39;00m \u001b[43mfunc\u001b[49m\u001b[43m(\u001b[49m\u001b[38;5;241;43m*\u001b[39;49m\u001b[43margs\u001b[49m\u001b[43m,\u001b[49m\u001b[43m \u001b[49m\u001b[38;5;241;43m*\u001b[39;49m\u001b[38;5;241;43m*\u001b[39;49m\u001b[43mkwargs\u001b[49m\u001b[43m)\u001b[49m\n\u001b[1;32m    253\u001b[0m \u001b[38;5;28;01mexcept\u001b[39;00m \u001b[38;5;167;01mException\u001b[39;00m \u001b[38;5;28;01mas\u001b[39;00m e:\n\u001b[1;32m    254\u001b[0m     path \u001b[38;5;241m=\u001b[39m _get_display_path(store)\n",
      "File \u001b[0;32m~/anaconda3/envs/scenvi/lib/python3.10/site-packages/anndata/_io/specs/registry.py:354\u001b[0m, in \u001b[0;36mWriter.write_elem\u001b[0;34m(self, store, k, elem, dataset_kwargs, modifiers)\u001b[0m\n\u001b[1;32m    351\u001b[0m write_func \u001b[38;5;241m=\u001b[39m \u001b[38;5;28mself\u001b[39m\u001b[38;5;241m.\u001b[39mfind_write_func(dest_type, elem, modifiers)\n\u001b[1;32m    353\u001b[0m \u001b[38;5;28;01mif\u001b[39;00m \u001b[38;5;28mself\u001b[39m\u001b[38;5;241m.\u001b[39mcallback \u001b[38;5;129;01mis\u001b[39;00m \u001b[38;5;28;01mNone\u001b[39;00m:\n\u001b[0;32m--> 354\u001b[0m     \u001b[38;5;28;01mreturn\u001b[39;00m \u001b[43mwrite_func\u001b[49m\u001b[43m(\u001b[49m\u001b[43mstore\u001b[49m\u001b[43m,\u001b[49m\u001b[43m \u001b[49m\u001b[43mk\u001b[49m\u001b[43m,\u001b[49m\u001b[43m \u001b[49m\u001b[43melem\u001b[49m\u001b[43m,\u001b[49m\u001b[43m \u001b[49m\u001b[43mdataset_kwargs\u001b[49m\u001b[38;5;241;43m=\u001b[39;49m\u001b[43mdataset_kwargs\u001b[49m\u001b[43m)\u001b[49m\n\u001b[1;32m    355\u001b[0m \u001b[38;5;28;01mreturn\u001b[39;00m \u001b[38;5;28mself\u001b[39m\u001b[38;5;241m.\u001b[39mcallback(\n\u001b[1;32m    356\u001b[0m     write_func,\n\u001b[1;32m    357\u001b[0m     store,\n\u001b[0;32m   (...)\u001b[0m\n\u001b[1;32m    361\u001b[0m     iospec\u001b[38;5;241m=\u001b[39m\u001b[38;5;28mself\u001b[39m\u001b[38;5;241m.\u001b[39mregistry\u001b[38;5;241m.\u001b[39mget_spec(elem),\n\u001b[1;32m    362\u001b[0m )\n",
      "File \u001b[0;32m~/anaconda3/envs/scenvi/lib/python3.10/site-packages/anndata/_io/specs/registry.py:71\u001b[0m, in \u001b[0;36mwrite_spec.<locals>.decorator.<locals>.wrapper\u001b[0;34m(g, k, *args, **kwargs)\u001b[0m\n\u001b[1;32m     69\u001b[0m \u001b[38;5;129m@wraps\u001b[39m(func)\n\u001b[1;32m     70\u001b[0m \u001b[38;5;28;01mdef\u001b[39;00m\u001b[38;5;250m \u001b[39m\u001b[38;5;21mwrapper\u001b[39m(g: GroupStorageType, k: \u001b[38;5;28mstr\u001b[39m, \u001b[38;5;241m*\u001b[39margs, \u001b[38;5;241m*\u001b[39m\u001b[38;5;241m*\u001b[39mkwargs):\n\u001b[0;32m---> 71\u001b[0m     result \u001b[38;5;241m=\u001b[39m \u001b[43mfunc\u001b[49m\u001b[43m(\u001b[49m\u001b[43mg\u001b[49m\u001b[43m,\u001b[49m\u001b[43m \u001b[49m\u001b[43mk\u001b[49m\u001b[43m,\u001b[49m\u001b[43m \u001b[49m\u001b[38;5;241;43m*\u001b[39;49m\u001b[43margs\u001b[49m\u001b[43m,\u001b[49m\u001b[43m \u001b[49m\u001b[38;5;241;43m*\u001b[39;49m\u001b[38;5;241;43m*\u001b[39;49m\u001b[43mkwargs\u001b[49m\u001b[43m)\u001b[49m\n\u001b[1;32m     72\u001b[0m     g[k]\u001b[38;5;241m.\u001b[39mattrs\u001b[38;5;241m.\u001b[39msetdefault(\u001b[38;5;124m\"\u001b[39m\u001b[38;5;124mencoding-type\u001b[39m\u001b[38;5;124m\"\u001b[39m, spec\u001b[38;5;241m.\u001b[39mencoding_type)\n\u001b[1;32m     73\u001b[0m     g[k]\u001b[38;5;241m.\u001b[39mattrs\u001b[38;5;241m.\u001b[39msetdefault(\u001b[38;5;124m\"\u001b[39m\u001b[38;5;124mencoding-version\u001b[39m\u001b[38;5;124m\"\u001b[39m, spec\u001b[38;5;241m.\u001b[39mencoding_version)\n",
      "File \u001b[0;32m~/anaconda3/envs/scenvi/lib/python3.10/site-packages/anndata/_io/specs/methods.py:916\u001b[0m, in \u001b[0;36mwrite_dataframe\u001b[0;34m(f, key, df, _writer, dataset_kwargs)\u001b[0m\n\u001b[1;32m    911\u001b[0m _writer\u001b[38;5;241m.\u001b[39mwrite_elem(\n\u001b[1;32m    912\u001b[0m     group, index_name, df\u001b[38;5;241m.\u001b[39mindex\u001b[38;5;241m.\u001b[39m_values, dataset_kwargs\u001b[38;5;241m=\u001b[39mdataset_kwargs\n\u001b[1;32m    913\u001b[0m )\n\u001b[1;32m    914\u001b[0m \u001b[38;5;28;01mfor\u001b[39;00m colname, series \u001b[38;5;129;01min\u001b[39;00m df\u001b[38;5;241m.\u001b[39mitems():\n\u001b[1;32m    915\u001b[0m     \u001b[38;5;66;03m# TODO: this should write the \"true\" representation of the series (i.e. the underlying array or ndarray depending)\u001b[39;00m\n\u001b[0;32m--> 916\u001b[0m     \u001b[43m_writer\u001b[49m\u001b[38;5;241;43m.\u001b[39;49m\u001b[43mwrite_elem\u001b[49m\u001b[43m(\u001b[49m\n\u001b[1;32m    917\u001b[0m \u001b[43m        \u001b[49m\u001b[43mgroup\u001b[49m\u001b[43m,\u001b[49m\u001b[43m \u001b[49m\u001b[43mcolname\u001b[49m\u001b[43m,\u001b[49m\u001b[43m \u001b[49m\u001b[43mseries\u001b[49m\u001b[38;5;241;43m.\u001b[39;49m\u001b[43m_values\u001b[49m\u001b[43m,\u001b[49m\u001b[43m \u001b[49m\u001b[43mdataset_kwargs\u001b[49m\u001b[38;5;241;43m=\u001b[39;49m\u001b[43mdataset_kwargs\u001b[49m\n\u001b[1;32m    918\u001b[0m \u001b[43m    \u001b[49m\u001b[43m)\u001b[49m\n",
      "File \u001b[0;32m~/anaconda3/envs/scenvi/lib/python3.10/site-packages/anndata/_io/utils.py:252\u001b[0m, in \u001b[0;36mreport_write_key_on_error.<locals>.func_wrapper\u001b[0;34m(*args, **kwargs)\u001b[0m\n\u001b[1;32m    250\u001b[0m     \u001b[38;5;28;01mraise\u001b[39;00m \u001b[38;5;167;01mValueError\u001b[39;00m(msg)\n\u001b[1;32m    251\u001b[0m \u001b[38;5;28;01mtry\u001b[39;00m:\n\u001b[0;32m--> 252\u001b[0m     \u001b[38;5;28;01mreturn\u001b[39;00m \u001b[43mfunc\u001b[49m\u001b[43m(\u001b[49m\u001b[38;5;241;43m*\u001b[39;49m\u001b[43margs\u001b[49m\u001b[43m,\u001b[49m\u001b[43m \u001b[49m\u001b[38;5;241;43m*\u001b[39;49m\u001b[38;5;241;43m*\u001b[39;49m\u001b[43mkwargs\u001b[49m\u001b[43m)\u001b[49m\n\u001b[1;32m    253\u001b[0m \u001b[38;5;28;01mexcept\u001b[39;00m \u001b[38;5;167;01mException\u001b[39;00m \u001b[38;5;28;01mas\u001b[39;00m e:\n\u001b[1;32m    254\u001b[0m     path \u001b[38;5;241m=\u001b[39m _get_display_path(store)\n",
      "File \u001b[0;32m~/anaconda3/envs/scenvi/lib/python3.10/site-packages/anndata/_io/specs/registry.py:354\u001b[0m, in \u001b[0;36mWriter.write_elem\u001b[0;34m(self, store, k, elem, dataset_kwargs, modifiers)\u001b[0m\n\u001b[1;32m    351\u001b[0m write_func \u001b[38;5;241m=\u001b[39m \u001b[38;5;28mself\u001b[39m\u001b[38;5;241m.\u001b[39mfind_write_func(dest_type, elem, modifiers)\n\u001b[1;32m    353\u001b[0m \u001b[38;5;28;01mif\u001b[39;00m \u001b[38;5;28mself\u001b[39m\u001b[38;5;241m.\u001b[39mcallback \u001b[38;5;129;01mis\u001b[39;00m \u001b[38;5;28;01mNone\u001b[39;00m:\n\u001b[0;32m--> 354\u001b[0m     \u001b[38;5;28;01mreturn\u001b[39;00m \u001b[43mwrite_func\u001b[49m\u001b[43m(\u001b[49m\u001b[43mstore\u001b[49m\u001b[43m,\u001b[49m\u001b[43m \u001b[49m\u001b[43mk\u001b[49m\u001b[43m,\u001b[49m\u001b[43m \u001b[49m\u001b[43melem\u001b[49m\u001b[43m,\u001b[49m\u001b[43m \u001b[49m\u001b[43mdataset_kwargs\u001b[49m\u001b[38;5;241;43m=\u001b[39;49m\u001b[43mdataset_kwargs\u001b[49m\u001b[43m)\u001b[49m\n\u001b[1;32m    355\u001b[0m \u001b[38;5;28;01mreturn\u001b[39;00m \u001b[38;5;28mself\u001b[39m\u001b[38;5;241m.\u001b[39mcallback(\n\u001b[1;32m    356\u001b[0m     write_func,\n\u001b[1;32m    357\u001b[0m     store,\n\u001b[0;32m   (...)\u001b[0m\n\u001b[1;32m    361\u001b[0m     iospec\u001b[38;5;241m=\u001b[39m\u001b[38;5;28mself\u001b[39m\u001b[38;5;241m.\u001b[39mregistry\u001b[38;5;241m.\u001b[39mget_spec(elem),\n\u001b[1;32m    362\u001b[0m )\n",
      "File \u001b[0;32m~/anaconda3/envs/scenvi/lib/python3.10/site-packages/anndata/_io/specs/registry.py:71\u001b[0m, in \u001b[0;36mwrite_spec.<locals>.decorator.<locals>.wrapper\u001b[0;34m(g, k, *args, **kwargs)\u001b[0m\n\u001b[1;32m     69\u001b[0m \u001b[38;5;129m@wraps\u001b[39m(func)\n\u001b[1;32m     70\u001b[0m \u001b[38;5;28;01mdef\u001b[39;00m\u001b[38;5;250m \u001b[39m\u001b[38;5;21mwrapper\u001b[39m(g: GroupStorageType, k: \u001b[38;5;28mstr\u001b[39m, \u001b[38;5;241m*\u001b[39margs, \u001b[38;5;241m*\u001b[39m\u001b[38;5;241m*\u001b[39mkwargs):\n\u001b[0;32m---> 71\u001b[0m     result \u001b[38;5;241m=\u001b[39m \u001b[43mfunc\u001b[49m\u001b[43m(\u001b[49m\u001b[43mg\u001b[49m\u001b[43m,\u001b[49m\u001b[43m \u001b[49m\u001b[43mk\u001b[49m\u001b[43m,\u001b[49m\u001b[43m \u001b[49m\u001b[38;5;241;43m*\u001b[39;49m\u001b[43margs\u001b[49m\u001b[43m,\u001b[49m\u001b[43m \u001b[49m\u001b[38;5;241;43m*\u001b[39;49m\u001b[38;5;241;43m*\u001b[39;49m\u001b[43mkwargs\u001b[49m\u001b[43m)\u001b[49m\n\u001b[1;32m     72\u001b[0m     g[k]\u001b[38;5;241m.\u001b[39mattrs\u001b[38;5;241m.\u001b[39msetdefault(\u001b[38;5;124m\"\u001b[39m\u001b[38;5;124mencoding-type\u001b[39m\u001b[38;5;124m\"\u001b[39m, spec\u001b[38;5;241m.\u001b[39mencoding_type)\n\u001b[1;32m     73\u001b[0m     g[k]\u001b[38;5;241m.\u001b[39mattrs\u001b[38;5;241m.\u001b[39msetdefault(\u001b[38;5;124m\"\u001b[39m\u001b[38;5;124mencoding-version\u001b[39m\u001b[38;5;124m\"\u001b[39m, spec\u001b[38;5;241m.\u001b[39mencoding_version)\n",
      "File \u001b[0;32m~/anaconda3/envs/scenvi/lib/python3.10/site-packages/anndata/_io/utils.py:312\u001b[0m, in \u001b[0;36mzero_dim_array_as_scalar.<locals>.func_wrapper\u001b[0;34m(f, k, elem, _writer, dataset_kwargs)\u001b[0m\n\u001b[1;32m    310\u001b[0m     _writer\u001b[38;5;241m.\u001b[39mwrite_elem(f, k, elem[()], dataset_kwargs\u001b[38;5;241m=\u001b[39mdataset_kwargs)\n\u001b[1;32m    311\u001b[0m \u001b[38;5;28;01melse\u001b[39;00m:\n\u001b[0;32m--> 312\u001b[0m     \u001b[43mfunc\u001b[49m\u001b[43m(\u001b[49m\u001b[43mf\u001b[49m\u001b[43m,\u001b[49m\u001b[43m \u001b[49m\u001b[43mk\u001b[49m\u001b[43m,\u001b[49m\u001b[43m \u001b[49m\u001b[43melem\u001b[49m\u001b[43m,\u001b[49m\u001b[43m \u001b[49m\u001b[43m_writer\u001b[49m\u001b[38;5;241;43m=\u001b[39;49m\u001b[43m_writer\u001b[49m\u001b[43m,\u001b[49m\u001b[43m \u001b[49m\u001b[43mdataset_kwargs\u001b[49m\u001b[38;5;241;43m=\u001b[39;49m\u001b[43mdataset_kwargs\u001b[49m\u001b[43m)\u001b[49m\n",
      "File \u001b[0;32m~/anaconda3/envs/scenvi/lib/python3.10/site-packages/anndata/_io/specs/methods.py:534\u001b[0m, in \u001b[0;36mwrite_vlen_string_array\u001b[0;34m(f, k, elem, _writer, dataset_kwargs)\u001b[0m\n\u001b[1;32m    532\u001b[0m \u001b[38;5;250m\u001b[39m\u001b[38;5;124;03m\"\"\"Write methods which underlying library handles nativley.\"\"\"\u001b[39;00m\n\u001b[1;32m    533\u001b[0m str_dtype \u001b[38;5;241m=\u001b[39m h5py\u001b[38;5;241m.\u001b[39mspecial_dtype(vlen\u001b[38;5;241m=\u001b[39m\u001b[38;5;28mstr\u001b[39m)\n\u001b[0;32m--> 534\u001b[0m \u001b[43mf\u001b[49m\u001b[38;5;241;43m.\u001b[39;49m\u001b[43mcreate_dataset\u001b[49m\u001b[43m(\u001b[49m\u001b[43mk\u001b[49m\u001b[43m,\u001b[49m\u001b[43m \u001b[49m\u001b[43mdata\u001b[49m\u001b[38;5;241;43m=\u001b[39;49m\u001b[43melem\u001b[49m\u001b[38;5;241;43m.\u001b[39;49m\u001b[43mastype\u001b[49m\u001b[43m(\u001b[49m\u001b[43mstr_dtype\u001b[49m\u001b[43m)\u001b[49m\u001b[43m,\u001b[49m\u001b[43m \u001b[49m\u001b[43mdtype\u001b[49m\u001b[38;5;241;43m=\u001b[39;49m\u001b[43mstr_dtype\u001b[49m\u001b[43m,\u001b[49m\u001b[43m \u001b[49m\u001b[38;5;241;43m*\u001b[39;49m\u001b[38;5;241;43m*\u001b[39;49m\u001b[43mdataset_kwargs\u001b[49m\u001b[43m)\u001b[49m\n",
      "File \u001b[0;32m~/anaconda3/envs/scenvi/lib/python3.10/site-packages/h5py/_hl/group.py:186\u001b[0m, in \u001b[0;36mGroup.create_dataset\u001b[0;34m(self, name, shape, dtype, data, **kwds)\u001b[0m\n\u001b[1;32m    183\u001b[0m         parent_path, name \u001b[38;5;241m=\u001b[39m name\u001b[38;5;241m.\u001b[39mrsplit(\u001b[38;5;124mb\u001b[39m\u001b[38;5;124m'\u001b[39m\u001b[38;5;124m/\u001b[39m\u001b[38;5;124m'\u001b[39m, \u001b[38;5;241m1\u001b[39m)\n\u001b[1;32m    184\u001b[0m         group \u001b[38;5;241m=\u001b[39m \u001b[38;5;28mself\u001b[39m\u001b[38;5;241m.\u001b[39mrequire_group(parent_path)\n\u001b[0;32m--> 186\u001b[0m dsid \u001b[38;5;241m=\u001b[39m \u001b[43mdataset\u001b[49m\u001b[38;5;241;43m.\u001b[39;49m\u001b[43mmake_new_dset\u001b[49m\u001b[43m(\u001b[49m\u001b[43mgroup\u001b[49m\u001b[43m,\u001b[49m\u001b[43m \u001b[49m\u001b[43mshape\u001b[49m\u001b[43m,\u001b[49m\u001b[43m \u001b[49m\u001b[43mdtype\u001b[49m\u001b[43m,\u001b[49m\u001b[43m \u001b[49m\u001b[43mdata\u001b[49m\u001b[43m,\u001b[49m\u001b[43m \u001b[49m\u001b[43mname\u001b[49m\u001b[43m,\u001b[49m\u001b[43m \u001b[49m\u001b[38;5;241;43m*\u001b[39;49m\u001b[38;5;241;43m*\u001b[39;49m\u001b[43mkwds\u001b[49m\u001b[43m)\u001b[49m\n\u001b[1;32m    187\u001b[0m dset \u001b[38;5;241m=\u001b[39m dataset\u001b[38;5;241m.\u001b[39mDataset(dsid)\n\u001b[1;32m    188\u001b[0m \u001b[38;5;28;01mreturn\u001b[39;00m dset\n",
      "File \u001b[0;32m~/anaconda3/envs/scenvi/lib/python3.10/site-packages/h5py/_hl/dataset.py:178\u001b[0m, in \u001b[0;36mmake_new_dset\u001b[0;34m(parent, shape, dtype, data, name, chunks, compression, shuffle, fletcher32, maxshape, compression_opts, fillvalue, scaleoffset, track_times, external, track_order, dcpl, dapl, efile_prefix, virtual_prefix, allow_unknown_filter, rdcc_nslots, rdcc_nbytes, rdcc_w0, fill_time)\u001b[0m\n\u001b[1;32m    175\u001b[0m dset_id \u001b[38;5;241m=\u001b[39m h5d\u001b[38;5;241m.\u001b[39mcreate(parent\u001b[38;5;241m.\u001b[39mid, name, tid, sid, dcpl\u001b[38;5;241m=\u001b[39mdcpl, dapl\u001b[38;5;241m=\u001b[39mdapl)\n\u001b[1;32m    177\u001b[0m \u001b[38;5;28;01mif\u001b[39;00m (data \u001b[38;5;129;01mis\u001b[39;00m \u001b[38;5;129;01mnot\u001b[39;00m \u001b[38;5;28;01mNone\u001b[39;00m) \u001b[38;5;129;01mand\u001b[39;00m (\u001b[38;5;129;01mnot\u001b[39;00m \u001b[38;5;28misinstance\u001b[39m(data, Empty)):\n\u001b[0;32m--> 178\u001b[0m     \u001b[43mdset_id\u001b[49m\u001b[38;5;241;43m.\u001b[39;49m\u001b[43mwrite\u001b[49m\u001b[43m(\u001b[49m\u001b[43mh5s\u001b[49m\u001b[38;5;241;43m.\u001b[39;49m\u001b[43mALL\u001b[49m\u001b[43m,\u001b[49m\u001b[43m \u001b[49m\u001b[43mh5s\u001b[49m\u001b[38;5;241;43m.\u001b[39;49m\u001b[43mALL\u001b[49m\u001b[43m,\u001b[49m\u001b[43m \u001b[49m\u001b[43mdata\u001b[49m\u001b[43m)\u001b[49m\n\u001b[1;32m    180\u001b[0m \u001b[38;5;28;01mreturn\u001b[39;00m dset_id\n",
      "File \u001b[0;32mh5py/_objects.pyx:54\u001b[0m, in \u001b[0;36mh5py._objects.with_phil.wrapper\u001b[0;34m()\u001b[0m\n",
      "File \u001b[0;32mh5py/_objects.pyx:55\u001b[0m, in \u001b[0;36mh5py._objects.with_phil.wrapper\u001b[0;34m()\u001b[0m\n",
      "File \u001b[0;32mh5py/h5d.pyx:281\u001b[0m, in \u001b[0;36mh5py.h5d.DatasetID.write\u001b[0;34m()\u001b[0m\n",
      "File \u001b[0;32mh5py/_proxy.pyx:147\u001b[0m, in \u001b[0;36mh5py._proxy.dset_rw\u001b[0;34m()\u001b[0m\n",
      "File \u001b[0;32mh5py/_conv.pyx:442\u001b[0m, in \u001b[0;36mh5py._conv.str2vlen\u001b[0;34m()\u001b[0m\n",
      "File \u001b[0;32mh5py/_conv.pyx:96\u001b[0m, in \u001b[0;36mh5py._conv.generic_converter\u001b[0;34m()\u001b[0m\n",
      "File \u001b[0;32mh5py/_conv.pyx:247\u001b[0m, in \u001b[0;36mh5py._conv.conv_str2vlen\u001b[0;34m()\u001b[0m\n",
      "\u001b[0;31mTypeError\u001b[0m: Can't implicitly convert non-string objects to strings",
      "\u001b[0mError raised while writing key 'Area (µm^2)_core' of <class 'h5py._hl.group.Group'> to /obs"
     ]
    }
   ],
   "source": [
    "adata_merged.write_h5ad(\"/data/kjc2/projects/P330.CSA/rds/CRC_BJM1_raw_scVIed.h5ad\")"
   ]
  },
  {
   "cell_type": "markdown",
   "id": "49accab9-79fc-4088-a7e1-db2af150619a",
   "metadata": {},
   "source": [
    "## harmony"
   ]
  },
  {
   "cell_type": "code",
   "execution_count": null,
   "id": "d91d1aae-1155-43b1-8fa7-a0fb6e88c62f",
   "metadata": {},
   "outputs": [],
   "source": []
  },
  {
   "cell_type": "code",
   "execution_count": null,
   "id": "493a2361-665b-4c7d-bb28-1b66d92b6faf",
   "metadata": {},
   "outputs": [],
   "source": []
  }
 ],
 "metadata": {
  "kernelspec": {
   "display_name": "Python 3 (ipykernel)",
   "language": "python",
   "name": "python3"
  },
  "language_info": {
   "codemirror_mode": {
    "name": "ipython",
    "version": 3
   },
   "file_extension": ".py",
   "mimetype": "text/x-python",
   "name": "python",
   "nbconvert_exporter": "python",
   "pygments_lexer": "ipython3",
   "version": "3.10.4"
  }
 },
 "nbformat": 4,
 "nbformat_minor": 5
}
