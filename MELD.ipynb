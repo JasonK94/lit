{
 "cells": [
  {
   "cell_type": "code",
   "execution_count": null,
   "id": "509d4295-5f3c-4895-9604-7d3b05d00fb1",
   "metadata": {},
   "outputs": [],
   "source": [
    "#https://github.com/KrishnaswamyLab/MELD\n",
    "\n",
    "import numpy as np\n",
    "import meld\n",
    "\n",
    "# Create toy data\n",
    "n_samples = 500\n",
    "n_dimensions = 100\n",
    "data = np.random.normal(size=(n_samples, n_dimensions))\n",
    "sample_labels = np.random.choice(['treatment', 'control'], size=n_samples)\n",
    "\n",
    "# Estimate density of each sample over the graph\n",
    "sample_densities = meld.MELD().fit_transform(data, sample_labels)\n",
    "\n",
    "# Normalize densities to calculate sample likelihoods\n",
    "sample_likelihoods = meld.utils.normalize_densities(sample_densities)"
   ]
  }
 ],
 "metadata": {
  "kernelspec": {
   "display_name": "Python 3 (ipykernel)",
   "language": "python",
   "name": "python3"
  },
  "language_info": {
   "codemirror_mode": {
    "name": "ipython",
    "version": 3
   },
   "file_extension": ".py",
   "mimetype": "text/x-python",
   "name": "python",
   "nbconvert_exporter": "python",
   "pygments_lexer": "ipython3",
   "version": "3.10.4"
  }
 },
 "nbformat": 4,
 "nbformat_minor": 5
}
