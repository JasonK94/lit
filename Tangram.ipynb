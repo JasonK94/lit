{
 "cells": [
  {
   "cell_type": "code",
   "execution_count": 29,
   "id": "34c08daa-d22d-4803-9d6e-236ea8ec336b",
   "metadata": {},
   "outputs": [],
   "source": [
    "import tangram as tg\n",
    "# https://github.com/broadinstitute/Tangram"
   ]
  },
  {
   "cell_type": "code",
   "execution_count": 27,
   "id": "7aaed219-0efc-400c-bc45-f59ac3fcd5c2",
   "metadata": {},
   "outputs": [
    {
     "name": "stdout",
     "output_type": "stream",
     "text": [
      "AnnData object with n_obs × n_vars = 42649 × 28476\n",
      "    obs: 'dataset', 'medical_condition', 'cancer_type', 'sample_id', 'sample_type', 'tumor_source', 'replicate', 'sample_tissue', 'anatomic_region', 'anatomic_location', 'tumor_stage', 'tumor_stage_TNM', 'tumor_stage_TNM_T', 'tumor_stage_TNM_N', 'tumor_stage_TNM_M', 'tumor_size', 'tumor_dimensions', 'tumor_grade', 'histological_type', 'microsatellite_status', 'mismatch_repair_deficiency_status', 'MLH1_promoter_methylation_status', 'MLH1_status', 'KRAS_status', 'BRAF_status', 'APC_status', 'TP53_status', 'PIK3CA_status', 'SMAD4_status', 'NRAS_status', 'MSH6_status', 'FBXW7_status', 'NOTCH1_status', 'MSH2_status', 'PMS2_status', 'POLE_status', 'ERBB2_status', 'STK11_status', 'HER2_status', 'CTNNB1_status', 'BRAS_status', 'patient_id', 'sex', 'age', 'treatment_status_before_resection', 'treatment_drug', 'treatment_response', 'RECIST', 'platform', 'platform_fine', 'cellranger_version', 'reference_genome', 'matrix_type', 'enrichment_cell_types', 'tissue_cell_state', 'tissue_processing_lab', 'hospital_location', 'country', 'NCBI_BioProject_accession', 'SRA_sample_accession', 'GEO_sample_accession', 'ENA_sample_accession', 'synapse_sample_accession', 'study_id', 'study_doi', 'study_pmid', 'original_obs_names', 'cell_type_coarse_study', 'cell_type_middle_study', 'cell_type_study', 'n_counts', 'n_genes', 'n_genes_by_counts', 'total_counts', 'pct_counts_in_top_20_genes', 'pct_counts_mito', 'S_score', 'G2M_score', 'phase', 'SOLO_doublet_prob', 'SOLO_singlet_prob', 'SOLO_doublet_status', 'cell_type_predicted', 'cell_type_coarse', 'cell_type_middle', 'cell_type_fine', 'CMS_type', 'immune_infiltration_type', 'is_primary_data', 'suspension_type', 'tissue_type', 'donor_id', 'disease', 'disease_ontology_term_id', 'assay', 'assay_ontology_term_id', 'tissue', 'tissue_ontology_term_id', 'sex_ontology_term_id', 'self_reported_ethnicity', 'self_reported_ethnicity_ontology_term_id', 'organism', 'organism_ontology_term_id', 'development_stage', 'development_stage_ontology_term_id', 'cell_type', 'cell_type_ontology_term_id'\n",
      "    var: 'var_names', 'ensembl', 'Geneid', 'GeneSymbol', 'Chromosome', 'Start', 'End', 'Class', 'Strand', 'Length', 'Version', 'Dataset_25pct_Overlap', 'n_cells', 'n_counts', 'n_cells_by_counts', 'mean_counts', 'total_counts', 'highly_variable', 'original_ensembl_id_with_version', 'base_ensembl_id'\n",
      "    obsm: 'X_scANVI', 'X_scVI', 'X_umap'\n",
      "    layers: 'counts'\n",
      "AnnData object with n_obs × n_vars = 62941 × 4999\n",
      "    obs: 'x_centroid', 'y_centroid', 'transcript_counts', 'control_probe_counts', 'genomic_control_counts', 'control_codeword_counts', 'unassigned_codeword_counts', 'deprecated_codeword_counts', 'total_counts', 'cell_area', 'nucleus_area', 'nucleus_count', 'segmentation_method', 'n_genes_by_counts', 'n_genes', 'n_counts', 'leiden_res0.8'\n",
      "    var: 'gene_ids', 'feature_types', 'genome', 'n_cells_by_counts', 'mean_counts', 'pct_dropout_by_counts', 'total_counts', 'n_cells', 'highly_variable', 'highly_variable_rank', 'means', 'variances', 'variances_norm', 'mean', 'std'\n",
      "    uns: 'hvg', 'leiden_res0.8', 'leiden_res0.8_colors', 'log1p', 'neighbors', 'pca', 'umap'\n",
      "    obsm: 'X_pca', 'X_umap', 'spatial'\n",
      "    varm: 'PCs'\n",
      "    obsp: 'connectivities', 'distances'\n"
     ]
    }
   ],
   "source": [
    "st_data=sc.read_h5ad(\"/data/kjc2/projects/P330.CSA/rds/250210_CRC_BJM_0050585_Region1_25-04-14-16-53.h5ad\")\n",
    "sc_data=sc.read_h5ad(\"/data/kjc2/projects/P330.CSA/rds/downsampled_100_25-04-15-08-34.h5ad\")\n",
    "print(sc_data)\n",
    "print(st_data)"
   ]
  },
  {
   "cell_type": "code",
   "execution_count": 30,
   "id": "2e0ec394-b477-4604-a368-b418ab487da7",
   "metadata": {},
   "outputs": [
    {
     "name": "stderr",
     "output_type": "stream",
     "text": [
      "INFO:root:4951 training genes are saved in `uns``training_genes` of both single cell and spatial Anndatas.\n",
      "INFO:root:4951 overlapped genes are saved in `uns``overlap_genes` of both single cell and spatial Anndatas.\n",
      "INFO:root:uniform based density prior is calculated and saved in `obs``uniform_density` of the spatial Anndata.\n",
      "INFO:root:rna count based density prior is calculated and saved in `obs``rna_count_based_density` of the spatial Anndata.\n"
     ]
    }
   ],
   "source": [
    "tg.pp_adatas(sc_data, st_data, genes=None)\n",
    "# The function pp_adatas finds the common genes between adata_sc, adata_sp, and saves them in two adatas.uns for mapping and analysis later.\n",
    "# Also, it subsets the intersected genes to a set of training genes passed by genes.\n",
    "# If genes=None, Tangram maps using all genes shared by the two datasets.\n",
    "# Once the datasets are pre-processed we can map:     ad_map = tg.map_cells_to_space(ad_sc, ad_sp)\n",
    "\n",
    "# INFO:root:4951 training genes are saved in `uns``training_genes` of both single cell and spatial Anndatas.\n",
    "# INFO:root:4951 overlapped genes are saved in `uns``overlap_genes` of both single cell and spatial Anndatas.\n",
    "# INFO:root:uniform based density prior is calculated and saved in `obs``uniform_density` of the spatial Anndata.\n",
    "# INFO:root:rna count based density prior is calculated and saved in `obs``rna_count_based_density` of the spatial Anndata."
   ]
  },
  {
   "cell_type": "code",
   "execution_count": null,
   "id": "af0d782e-c346-446a-8878-7cb221bb51c7",
   "metadata": {},
   "outputs": [
    {
     "name": "stderr",
     "output_type": "stream",
     "text": [
      "INFO:root:Allocate tensors for mapping.\n",
      "INFO:root:Begin training with 4951 genes and rna_count_based density_prior in cells mode...\n",
      "INFO:root:Printing scores every 100 epochs.\n"
     ]
    },
    {
     "name": "stdout",
     "output_type": "stream",
     "text": [
      "Score: -0.010\n",
      "Score: -0.047\n"
     ]
    }
   ],
   "source": [
    "ad_map = tg.map_cells_to_space(sc_data, st_data)"
   ]
  },
  {
   "cell_type": "code",
   "execution_count": null,
   "id": "eb2eb9eb-e3fe-4b0f-a02f-a08986591a6d",
   "metadata": {},
   "outputs": [],
   "source": [
    "ad_ge = tg.project_genes(ad_map, sc_data)"
   ]
  },
  {
   "cell_type": "code",
   "execution_count": null,
   "id": "b6fdf3e3-5e1c-43b4-a47a-cb3fcaa6b148",
   "metadata": {},
   "outputs": [],
   "source": []
  },
  {
   "cell_type": "code",
   "execution_count": null,
   "id": "a39af78d-7432-4422-b792-88c4e1eebe42",
   "metadata": {},
   "outputs": [],
   "source": []
  },
  {
   "cell_type": "code",
   "execution_count": null,
   "id": "ee97c454-3d9c-4fca-9e10-c958da5ec1ab",
   "metadata": {},
   "outputs": [],
   "source": []
  },
  {
   "cell_type": "code",
   "execution_count": null,
   "id": "b7ec374f-42cb-405e-8ca5-fdf842f20a7b",
   "metadata": {},
   "outputs": [],
   "source": []
  },
  {
   "cell_type": "code",
   "execution_count": null,
   "id": "a81da816-2c0a-4782-8d78-be29ac8b4d29",
   "metadata": {},
   "outputs": [],
   "source": []
  },
  {
   "cell_type": "code",
   "execution_count": null,
   "id": "1a96de30-f884-4f2f-a1b6-d52f05ac3c94",
   "metadata": {},
   "outputs": [],
   "source": []
  }
 ],
 "metadata": {
  "kernelspec": {
   "display_name": "Python 3 (ipykernel)",
   "language": "python",
   "name": "python3"
  },
  "language_info": {
   "codemirror_mode": {
    "name": "ipython",
    "version": 3
   },
   "file_extension": ".py",
   "mimetype": "text/x-python",
   "name": "python",
   "nbconvert_exporter": "python",
   "pygments_lexer": "ipython3",
   "version": "3.10.4"
  }
 },
 "nbformat": 4,
 "nbformat_minor": 5
}
