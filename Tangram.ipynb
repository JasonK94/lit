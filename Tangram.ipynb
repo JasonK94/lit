{
 "cells": [
  {
   "cell_type": "code",
   "execution_count": 1,
   "id": "34c08daa-d22d-4803-9d6e-236ea8ec336b",
   "metadata": {},
   "outputs": [],
   "source": [
    "import scanpy as sc\n",
    "import tangram as tg\n",
    "# https://github.com/broadinstitute/Tangram"
   ]
  },
  {
   "cell_type": "code",
   "execution_count": 2,
   "id": "7aaed219-0efc-400c-bc45-f59ac3fcd5c2",
   "metadata": {
    "scrolled": true
   },
   "outputs": [],
   "source": [
    "ad_sp = sc.read_h5ad(\"/data/kjc2/projects/P330.CSA/processed_xenium/processed_xenium_CRC_BJM1_S1R1_processed.h5ad\")\n",
    "ad_sc = sc.read_h5ad(\"/data/kjc2/projects/P330.CSA/processed_xenium/CRC_BJM1_scVIed.h5ad\")\n"
   ]
  },
  {
   "cell_type": "markdown",
   "id": "ce097d87-6afb-4790-93b0-eee31ffb0540",
   "metadata": {},
   "source": [
    "# run basic"
   ]
  },
  {
   "cell_type": "markdown",
   "id": "d903c53d-43a3-4fa3-8bd2-62b4318af224",
   "metadata": {},
   "source": [
    "The function pp_adatas finds the common genes between adata_sc, adata_sp, and saves them in two adatas.uns for mapping and analysis later. Also, it subsets the intersected genes to a set of training genes passed by genes. If genes=None, Tangram maps using all genes shared by the two datasets. Once the datasets are pre-processed we can map:"
   ]
  },
  {
   "cell_type": "code",
   "execution_count": 3,
   "id": "334b1937-1993-4d0e-974b-ed5d311525c6",
   "metadata": {},
   "outputs": [
    {
     "name": "stderr",
     "output_type": "stream",
     "text": [
      "INFO:root:725 training genes are saved in `uns``training_genes` of both single cell and spatial Anndatas.\n",
      "INFO:root:725 overlapped genes are saved in `uns``overlap_genes` of both single cell and spatial Anndatas.\n",
      "INFO:root:uniform based density prior is calculated and saved in `obs``uniform_density` of the spatial Anndata.\n",
      "INFO:root:rna count based density prior is calculated and saved in `obs``rna_count_based_density` of the spatial Anndata.\n"
     ]
    }
   ],
   "source": [
    "tg.pp_adatas(ad_sc, ad_sp, genes=None)\n",
    "\n",
    "# INFO:root:725 training genes are saved in `uns``training_genes` of both single cell and spatial Anndatas.\n",
    "# INFO:root:725 overlapped genes are saved in `uns``overlap_genes` of both single cell and spatial Anndatas.\n",
    "# INFO:root:uniform based density prior is calculated and saved in `obs``uniform_density` of the spatial Anndata.\n",
    "# INFO:root:rna count based density prior is calculated and saved in `obs``rna_count_based_density` of the spatial Anndata."
   ]
  },
  {
   "cell_type": "markdown",
   "id": "a64c78d7-eb7f-47f9-b6cb-cb1de55c20b1",
   "metadata": {},
   "source": [
    "The returned AnnData,ad_map, is a cell-by-voxel structure where ad_map.X[i, j] gives the probability for cell i to be in voxel j. This structure can be used to project gene expression from the single cell data to space, which is achieved via tg.project_genes."
   ]
  },
  {
   "cell_type": "code",
   "execution_count": null,
   "id": "31854469-5187-4c4c-826d-1381f2343ea5",
   "metadata": {},
   "outputs": [
    {
     "name": "stderr",
     "output_type": "stream",
     "text": [
      "INFO:root:Allocate tensors for mapping.\n",
      "INFO:root:Begin training with 725 genes and rna_count_based density_prior in cells mode...\n"
     ]
    }
   ],
   "source": [
    "ad_map = tg.map_cells_to_space(ad_sc, ad_sp)"
   ]
  },
  {
   "cell_type": "markdown",
   "id": "d65e5363-cafa-4d53-83fe-4561753868b2",
   "metadata": {},
   "source": [
    "The returned ad_ge is a voxel-by-gene AnnData, similar to spatial data ad_sp, but where gene expression has been projected from the single cells. This allows to extend gene throughput, or correct for dropouts, if the single cells have higher quality (or more genes) than spatial data. It can also be used to transfer cell types onto space."
   ]
  },
  {
   "cell_type": "code",
   "execution_count": null,
   "id": "a5265a4a-c7f2-49cc-a983-8f77c2d765eb",
   "metadata": {},
   "outputs": [],
   "source": [
    "ad_ge = tg.project_genes(ad_map, ad_sc)"
   ]
  },
  {
   "cell_type": "markdown",
   "id": "6ac0437d-ad93-45bf-b732-4a00da6da78b",
   "metadata": {},
   "source": [
    "# run cluster level"
   ]
  },
  {
   "cell_type": "code",
   "execution_count": null,
   "id": "38f627d0-97e9-4016-aec4-cafc5c4e3c54",
   "metadata": {},
   "outputs": [],
   "source": [
    "ad_map = tg.map_cells_to_space(\n",
    "               ad_sc, \n",
    "               ad_sp,         \n",
    "               mode='clusters',\n",
    "               cluster_label='subclass_label')"
   ]
  },
  {
   "cell_type": "code",
   "execution_count": null,
   "id": "04102e55-7f99-40ce-88d5-6a0be7ddde01",
   "metadata": {},
   "outputs": [],
   "source": [
    "ad_ge = tg.project_genes(\n",
    "              ad_map, \n",
    "              ad_sc,\n",
    "              cluster_label='subclass_label')"
   ]
  },
  {
   "cell_type": "code",
   "execution_count": null,
   "id": "aa871337-388c-49ca-b8dd-88a8b018931b",
   "metadata": {},
   "outputs": [],
   "source": []
  },
  {
   "cell_type": "code",
   "execution_count": 30,
   "id": "2e0ec394-b477-4604-a368-b418ab487da7",
   "metadata": {
    "collapsed": true,
    "jupyter": {
     "outputs_hidden": true,
     "source_hidden": true
    }
   },
   "outputs": [
    {
     "name": "stderr",
     "output_type": "stream",
     "text": [
      "INFO:root:4951 training genes are saved in `uns``training_genes` of both single cell and spatial Anndatas.\n",
      "INFO:root:4951 overlapped genes are saved in `uns``overlap_genes` of both single cell and spatial Anndatas.\n",
      "INFO:root:uniform based density prior is calculated and saved in `obs``uniform_density` of the spatial Anndata.\n",
      "INFO:root:rna count based density prior is calculated and saved in `obs``rna_count_based_density` of the spatial Anndata.\n"
     ]
    }
   ],
   "source": [
    "tg.pp_adatas(sc_data, st_data, genes=None)\n",
    "# The function pp_adatas finds the common genes between adata_sc, adata_sp, and saves them in two adatas.uns for mapping and analysis later.\n",
    "# Also, it subsets the intersected genes to a set of training genes passed by genes.\n",
    "# If genes=None, Tangram maps using all genes shared by the two datasets.\n",
    "# Once the datasets are pre-processed we can map:     ad_map = tg.map_cells_to_space(ad_sc, ad_sp)\n",
    "\n",
    "# INFO:root:4951 training genes are saved in `uns``training_genes` of both single cell and spatial Anndatas.\n",
    "# INFO:root:4951 overlapped genes are saved in `uns``overlap_genes` of both single cell and spatial Anndatas.\n",
    "# INFO:root:uniform based density prior is calculated and saved in `obs``uniform_density` of the spatial Anndata.\n",
    "# INFO:root:rna count based density prior is calculated and saved in `obs``rna_count_based_density` of the spatial Anndata."
   ]
  },
  {
   "cell_type": "code",
   "execution_count": null,
   "id": "af0d782e-c346-446a-8878-7cb221bb51c7",
   "metadata": {},
   "outputs": [
    {
     "name": "stderr",
     "output_type": "stream",
     "text": [
      "INFO:root:Allocate tensors for mapping.\n",
      "INFO:root:Begin training with 4951 genes and rna_count_based density_prior in cells mode...\n",
      "INFO:root:Printing scores every 100 epochs.\n"
     ]
    },
    {
     "name": "stdout",
     "output_type": "stream",
     "text": [
      "Score: -0.010\n",
      "Score: -0.047\n"
     ]
    }
   ],
   "source": [
    "ad_map = tg.map_cells_to_space(sc_data, st_data)"
   ]
  },
  {
   "cell_type": "code",
   "execution_count": null,
   "id": "eb2eb9eb-e3fe-4b0f-a02f-a08986591a6d",
   "metadata": {},
   "outputs": [],
   "source": [
    "ad_ge = tg.project_genes(ad_map, sc_data)"
   ]
  },
  {
   "cell_type": "markdown",
   "id": "ab6bfcf3-19a1-4d38-be91-7b517eedb35a",
   "metadata": {},
   "source": [
    "# performance evaluation"
   ]
  },
  {
   "cell_type": "code",
   "execution_count": null,
   "id": "d6297607-4516-42e3-8a21-f3d5afbd0dac",
   "metadata": {},
   "outputs": [],
   "source": [
    "import tangram as tg\n",
    "import scanpy as sc\n",
    "import anndata as ad\n",
    "import numpy as np\n",
    "import pandas as pd\n",
    "from scipy.stats import spearmanr, pearsonr\n",
    "from sklearn.neighbors import KDTree\n",
    "import matplotlib.pyplot as plt\n",
    "import seaborn as sns\n",
    "import warnings\n",
    "\n",
    "# 경고 메시지 숨기기 (선택 사항)\n",
    "warnings.filterwarnings('ignore', category=FutureWarning)\n",
    "warnings.filterwarnings('ignore', category=UserWarning)\n",
    "warnings.filterwarnings('ignore', category=RuntimeWarning) # NaN 관련 경고 숨기기\n",
    "\n",
    "# --- 1. 데이터 로드 (예시 - 실제 데이터 로드 코드로 대체 필요) ---\n",
    "# ad_sc = ad.read_h5ad(\"path/to/your/single_cell.h5ad\")\n",
    "# ad_sp = ad.read_h5ad(\"path/to/your/spatial_xenium.h5ad\")\n",
    "# print(\"Single-cell data:\", ad_sc)\n",
    "# print(\"Spatial data:\", ad_sp)\n",
    "\n",
    "# --- 가상의 AnnData 객체 생성 (실제 데이터 사용 시 이 부분 삭제) ---\n",
    "# 예시를 위해 작은 랜덤 데이터 생성\n",
    "# rng = np.random.default_rng(0)\n",
    "# n_sc_cells, n_genes = 100, 50\n",
    "# n_sp_cells, n_spots = 200, 30\n",
    "\n",
    "# # Single-cell data\n",
    "# ad_sc_X = rng.poisson(1, size=(n_sc_cells, n_genes)).astype(np.float32)\n",
    "# ad_sc = ad.AnnData(X=ad_sc_X)\n",
    "# ad_sc.var_names = [f\"Gene_{i}\" for i in range(n_genes)]\n",
    "# ad_sc.obs_names = [f\"SC_Cell_{i}\" for i in range(n_sc_cells)]\n",
    "# # 공간 데이터에 필요한 마커 유전자 등 추가 정보가 있다면 전처리 단계에서 추가\n",
    "\n",
    "# # Spatial data (Xenium-like: cell-level)\n",
    "# ad_sp_X = rng.poisson(1, size=(n_sp_cells, n_genes)).astype(np.float32)\n",
    "# ad_sp = ad.AnnData(X=ad_sp_X)\n",
    "# ad_sp.var_names = [f\"Gene_{i}\" for i in range(n_genes)]\n",
    "# ad_sp.obs_names = [f\"Sp_Cell_{i}\" for i in range(n_sp_cells)]\n",
    "# # Xenium 데이터는 .obsm['spatial']에 세포 좌표 포함\n",
    "# ad_sp.obsm['spatial'] = rng.random((n_sp_cells, 2)) * 100\n",
    "\n",
    "# print(\"Generated dummy single-cell data:\", ad_sc)\n",
    "# print(\"Generated dummy spatial data (cell-level):\", ad_sp)\n",
    "# print(\"-\" * 30)\n",
    "\n",
    "# --- 2. 평가 대상 유전자 선정 ---\n",
    "# 예시: 모든 유전자 사용 또는 특정 목록 정의\n",
    "# evaluation_genes = ad_sp.var_names.tolist()\n",
    "# 또는, 예를 들어 상위 10개 유전자만 선택\n",
    "evaluation_genes = ad_sp.var_names[:10].tolist()\n",
    "print(f\"Selected {len(evaluation_genes)} genes for evaluation: {evaluation_genes}\")\n",
    "print(\"-\" * 30)\n",
    "\n",
    "# --- 3. Tangram 실행 ---\n",
    "# Tangram은 공통 유전자를 사용하므로, 미리 필터링하거나 pp_adatas가 처리하도록 둠\n",
    "# tg.pp_adatas는 내부적으로 공통 유전자를 찾음\n",
    "# 만약 특정 유전자만 사용하고 싶다면 genes 인자에 리스트 전달 가능\n",
    "# 여기서는 모든 공통 유전자를 사용하도록 함\n",
    "# tg.pp_adatas(ad_sc, ad_sp, genes=None) # genes=None이면 공통 유전자 사용\n",
    "\n",
    "# # 세포 매핑\n",
    "# # device 설정: GPU 사용 가능 시 'cuda:0', 아니면 'cpu'\n",
    "# # import torch\n",
    "# # device = 'cuda:0' if torch.cuda.is_available() else 'cpu'\n",
    "# device = 'cpu' # CPU 사용 예시\n",
    "# ad_map = tg.map_cells_to_space(ad_sc, ad_sp, device=device)\n",
    "\n",
    "# # 유전자 발현 예측 (Imputation/Projection)\n",
    "# # mode='clusters' 사용 시 cell type annotation 필요 (예: ad_sc.obs['cell_type'])\n",
    "# # 여기서는 개별 세포 기반 예측 ('cells') 사용 가정\n",
    "# # project_genes는 ad_sp의 공간 구조를 기반으로 ad_ge를 생성\n",
    "# ad_ge = tg.project_genes(ad_map, ad_sc, cluster_label=None) # cluster_label=None for 'cells' mode\n",
    "\n",
    "# ad_ge의 관측치(obs)는 ad_sp의 관측치(세포)와 같음. 공간 좌표도 유지됨.\n",
    "# 하지만 project_genes의 결과는 각 공간 위치(여기선 세포 위치)에서의 예측값이 됨.\n",
    "# 만약 입력 ad_sp가 이미 spot 레벨이었다면 ad_ge도 spot 레벨이 됨.\n",
    "# Xenium의 경우 ad_sp가 cell 레벨이므로, ad_ge도 cell 레벨의 예측값을 가짐.\n",
    "# -> 이 경우, 사용자의 원래 문제의식(voxel vs cell)과는 약간 상황이 다름.\n",
    "#    만약 사용자의 ad_sp가 Visium처럼 spot 레벨이었다면 다음 aggregation이 필수.\n",
    "#    Xenium 데이터라도, 분석 목적상 spot/voxel 레벨로 결과를 보고 싶다면 aggregation 수행.\n",
    "\n",
    "# 여기서는 ad_ge가 'spot' 레벨이라고 가정하고 Aggregation을 진행.\n",
    "# 이를 위해 ad_ge를 가상으로 spot 레벨 데이터로 변환하는 단계를 추가함.\n",
    "# --- 가상 Spot 레벨 ad_ge 생성 (실제로는 project_genes 결과를 사용) ---\n",
    "# 실제로는 project_genes의 결과가 어떤 형태인지(cell or spot 레벨) 확인 필요\n",
    "# 여기서는 설명을 위해 ad_ge를 spot 레벨 데이터로 재구성\n",
    "spot_coords = rng.random((n_spots, 2)) * 100\n",
    "ad_ge_X = rng.poisson(1, size=(n_spots, n_genes)).astype(np.float32)\n",
    "ad_ge_obs = pd.DataFrame(index=[f\"Spot_{i}\" for i in range(n_spots)])\n",
    "ad_ge_var = ad_sc.var.copy() # 유전자 정보는 ad_sc에서 가져옴\n",
    "# 공간 좌표를 .obsm에 저장\n",
    "ad_ge = ad.AnnData(X=ad_ge_X, obs=ad_ge_obs, var=ad_ge_var)\n",
    "ad_ge.obsm['spatial'] = spot_coords\n",
    "\n",
    "print(\"Tangram projected data (ad_ge, assumed spot-level):\", ad_ge)\n",
    "print(\"-\" * 30)\n",
    "\n",
    "\n",
    "# --- 4. 원본 공간 데이터 집계 (`ad_sp` -> `ad_sp_agg`) ---\n",
    "print(\"Aggregating original spatial data (ad_sp) to match ad_ge structure...\")\n",
    "\n",
    "# ad_ge의 스팟 좌표 (기준)\n",
    "coords_ge = ad_ge.obsm['spatial']\n",
    "# ad_sp의 세포 좌표\n",
    "coords_sp = ad_sp.obsm['spatial']\n",
    "\n",
    "# KDTree를 사용하여 각 세포(ad_sp)에 가장 가까운 스팟(ad_ge) 찾기\n",
    "kdtree = KDTree(coords_ge)\n",
    "# query 결과: distances (거리), indices (가장 가까운 이웃의 인덱스 - ad_ge 기준)\n",
    "distances, indices = kdtree.query(coords_sp)\n",
    "\n",
    "# 각 세포가 어떤 스팟에 할당되었는지 기록 (ad_ge의 obs_names 사용)\n",
    "ad_sp.obs['spot_assignment'] = ad_ge.obs_names[indices]\n",
    "\n",
    "# 스팟별로 평균 유전자 발현 계산\n",
    "# 결과를 저장할 DataFrame 생성 (인덱스: 스팟 이름, 컬럼: 유전자 이름)\n",
    "agg_expression_df = pd.DataFrame(np.nan, index=ad_ge.obs_names, columns=ad_sp.var_names)\n",
    "\n",
    "# 각 스팟에 대해\n",
    "for spot_name in ad_ge.obs_names:\n",
    "    # 해당 스팟에 할당된 세포들의 인덱스를 찾음\n",
    "    cells_in_spot = ad_sp.obs_names[ad_sp.obs['spot_assignment'] == spot_name]\n",
    "\n",
    "    if len(cells_in_spot) > 0:\n",
    "        # 해당 세포들의 발현 데이터 추출 (AnnData 슬라이싱)\n",
    "        # .X는 sparse일 수 있으므로 .toarray() 사용 고려 (메모리 주의)\n",
    "        # 여기서는 mean 계산 시 자동으로 dense 변환될 수 있음\n",
    "        spot_mean_expression = ad_sp[cells_in_spot, :].X.mean(axis=0)\n",
    "        # 결과 저장 (sparse matrix의 mean 결과는 1D numpy array일 수 있음)\n",
    "        if isinstance(spot_mean_expression, np.matrix):\n",
    "            agg_expression_df.loc[spot_name] = spot_mean_expression.A1 # matrix를 1D array로\n",
    "        else:\n",
    "             agg_expression_df.loc[spot_name] = spot_mean_expression\n",
    "\n",
    "# 집계된 데이터를 AnnData 객체로 생성\n",
    "# NaN 값 처리: 스팟에 할당된 세포가 없는 경우 NaN이 됨. 0으로 채우거나 그대로 둠.\n",
    "# 여기서는 0으로 채우는 것을 선택 (분석 목적에 따라 다를 수 있음)\n",
    "agg_expression_filled = agg_expression_df.fillna(0).values\n",
    "\n",
    "ad_sp_agg = ad.AnnData(X=agg_expression_filled,\n",
    "                       obs=ad_ge.obs.copy(), # obs는 ad_ge와 동일하게 설정\n",
    "                       var=ad_sp.var.copy()) # var는 원본 ad_sp와 동일하게 설정\n",
    "# 공간 좌표도 ad_ge에서 복사\n",
    "ad_sp_agg.obsm['spatial'] = ad_ge.obsm['spatial']\n",
    "\n",
    "print(\"Aggregated spatial data (ad_sp_agg):\", ad_sp_agg)\n",
    "print(\"-\" * 30)\n",
    "\n",
    "# --- 5. 데이터 정렬 및 필터링 ---\n",
    "print(f\"Filtering data for {len(evaluation_genes)} evaluation genes...\")\n",
    "\n",
    "# 공통 유전자 확인 (이미 Tangram 단계에서 처리되었을 수 있지만, 집계 과정 등에서 달라질 수 있으므로 재확인)\n",
    "common_genes = list(set(evaluation_genes).intersection(ad_ge.var_names).intersection(ad_sp_agg.var_names))\n",
    "print(f\"Found {len(common_genes)} common genes for evaluation.\")\n",
    "\n",
    "if not common_genes:\n",
    "    raise ValueError(\"No common genes found between ad_ge and ad_sp_agg for evaluation.\")\n",
    "\n",
    "# 평가 대상 유전자 및 스팟으로 데이터 필터링\n",
    "# 스팟 순서는 이미 ad_sp_agg 생성 시 ad_ge와 동일하게 맞춤\n",
    "ad_ge_eval = ad_ge[:, common_genes].copy()\n",
    "ad_sp_agg_eval = ad_sp_agg[:, common_genes].copy()\n",
    "\n",
    "print(\"Filtered ad_ge for evaluation:\", ad_ge_eval)\n",
    "print(\"Filtered ad_sp_agg for evaluation:\", ad_sp_agg_eval)\n",
    "print(\"-\" * 30)\n",
    "\n",
    "# --- 6. 평가 지표 계산 ---\n",
    "print(\"Calculating evaluation metrics...\")\n",
    "\n",
    "# 결과를 저장할 딕셔너리\n",
    "results = {\n",
    "    'gene_spearman': {},\n",
    "    'gene_pearson': {},\n",
    "    'spot_spearman': {},\n",
    "    'spot_pearson': {},\n",
    "    'overall_spearman': None,\n",
    "    'overall_pearson': None,\n",
    "    'rmse': None,\n",
    "    'mae': None\n",
    "}\n",
    "\n",
    "# 계산에 사용할 데이터 추출 (메모리를 고려하여 필요 시 sparse 유지, 여기서는 dense 변환)\n",
    "X_ge = ad_ge_eval.X if isinstance(ad_ge_eval.X, np.ndarray) else ad_ge_eval.X.toarray()\n",
    "X_sp_agg = ad_sp_agg_eval.X if isinstance(ad_sp_agg_eval.X, np.ndarray) else ad_sp_agg_eval.X.toarray()\n",
    "\n",
    "# 유전자별 상관계수\n",
    "for gene in common_genes:\n",
    "    vec_ge = X_ge[:, ad_ge_eval.var_names.get_loc(gene)]\n",
    "    vec_sp_agg = X_sp_agg[:, ad_sp_agg_eval.var_names.get_loc(gene)]\n",
    "\n",
    "    # 유효한 값 (NaN이 아닌)이 2개 이상 있어야 상관계수 계산 가능\n",
    "    valid_mask = ~np.isnan(vec_ge) & ~np.isnan(vec_sp_agg)\n",
    "    if np.sum(valid_mask) >= 2:\n",
    "        spearman_corr, _ = spearmanr(vec_ge[valid_mask], vec_sp_agg[valid_mask])\n",
    "        pearson_corr, _ = pearsonr(vec_ge[valid_mask], vec_sp_agg[valid_mask])\n",
    "        results['gene_spearman'][gene] = spearman_corr if not np.isnan(spearman_corr) else 0\n",
    "        results['gene_pearson'][gene] = pearson_corr if not np.isnan(pearson_corr) else 0\n",
    "    else:\n",
    "        results['gene_spearman'][gene] = 0\n",
    "        results['gene_pearson'][gene] = 0\n",
    "\n",
    "\n",
    "# 스팟별 상관계수\n",
    "for i, spot_name in enumerate(ad_ge_eval.obs_names):\n",
    "    vec_ge = X_ge[i, :]\n",
    "    vec_sp_agg = X_sp_agg[i, :]\n",
    "\n",
    "    valid_mask = ~np.isnan(vec_ge) & ~np.isnan(vec_sp_agg)\n",
    "    if np.sum(valid_mask) >= 2:\n",
    "        spearman_corr, _ = spearmanr(vec_ge[valid_mask], vec_sp_agg[valid_mask])\n",
    "        pearson_corr, _ = pearsonr(vec_ge[valid_mask], vec_sp_agg[valid_mask])\n",
    "        results['spot_spearman'][spot_name] = spearman_corr if not np.isnan(spearman_corr) else 0\n",
    "        results['spot_pearson'][spot_name] = pearson_corr if not np.isnan(pearson_corr) else 0\n",
    "    else:\n",
    "        results['spot_spearman'][spot_name] = 0\n",
    "        results['spot_pearson'][spot_name] = 0\n",
    "\n",
    "\n",
    "# 전체 데이터에 대한 상관계수 및 오차\n",
    "valid_mask_flat = ~np.isnan(X_ge.flatten()) & ~np.isnan(X_sp_agg.flatten())\n",
    "if np.sum(valid_mask_flat) >= 2:\n",
    "    overall_spearman, _ = spearmanr(X_ge.flatten()[valid_mask_flat], X_sp_agg.flatten()[valid_mask_flat])\n",
    "    overall_pearson, _ = pearsonr(X_ge.flatten()[valid_mask_flat], X_sp_agg.flatten()[valid_mask_flat])\n",
    "    results['overall_spearman'] = overall_spearman if not np.isnan(overall_spearman) else 0\n",
    "    results['overall_pearson'] = overall_pearson if not np.isnan(overall_pearson) else 0\n",
    "else:\n",
    "    results['overall_spearman'] = 0\n",
    "    results['overall_pearson'] = 0\n",
    "\n",
    "# RMSE (Root Mean Squared Error)\n",
    "results['rmse'] = np.sqrt(np.nanmean((X_ge - X_sp_agg)**2))\n",
    "# MAE (Mean Absolute Error)\n",
    "results['mae'] = np.nanmean(np.abs(X_ge - X_sp_agg))\n",
    "\n",
    "print(\"Evaluation metrics calculated.\")\n",
    "print(f\"  Average gene Spearman corr: {np.mean(list(results['gene_spearman'].values())):.4f}\")\n",
    "print(f\"  Average gene Pearson corr: {np.mean(list(results['gene_pearson'].values())):.4f}\")\n",
    "print(f\"  Average spot Spearman corr: {np.mean(list(results['spot_spearman'].values())):.4f}\")\n",
    "print(f\"  Average spot Pearson corr: {np.mean(list(results['spot_pearson'].values())):.4f}\")\n",
    "print(f\"  Overall Spearman corr: {results['overall_spearman']:.4f}\")\n",
    "print(f\"  Overall Pearson corr: {results['overall_pearson']:.4f}\")\n",
    "print(f\"  RMSE: {results['rmse']:.4f}\")\n",
    "print(f\"  MAE: {results['mae']:.4f}\")\n",
    "print(\"-\" * 30)\n",
    "\n",
    "# --- 7. 결과 시각화 (예시) ---\n",
    "print(\"Visualizing results...\")\n",
    "\n",
    "# 결과 DataFrame 생성 (유전자별 상관계수)\n",
    "gene_corr_df = pd.DataFrame({\n",
    "    'Spearman': results['gene_spearman'],\n",
    "    'Pearson': results['gene_pearson']\n",
    "})\n",
    "\n",
    "# 유전자별 상관계수 히스토그램\n",
    "plt.figure(figsize=(12, 5))\n",
    "\n",
    "plt.subplot(1, 2, 1)\n",
    "sns.histplot(gene_corr_df['Spearman'], kde=True)\n",
    "plt.title('Distribution of Gene-wise Spearman Correlation')\n",
    "plt.xlabel('Spearman Correlation')\n",
    "\n",
    "plt.subplot(1, 2, 2)\n",
    "sns.histplot(gene_corr_df['Pearson'], kde=True, color='salmon')\n",
    "plt.title('Distribution of Gene-wise Pearson Correlation')\n",
    "plt.xlabel('Pearson Correlation')\n",
    "\n",
    "plt.tight_layout()\n",
    "plt.show()\n",
    "\n",
    "# 특정 유전자에 대한 발현량 비교 산점도\n",
    "example_gene = common_genes[0] # 첫 번째 유전자 예시\n",
    "vec_ge = X_ge[:, ad_ge_eval.var_names.get_loc(example_gene)]\n",
    "vec_sp_agg = X_sp_agg[:, ad_sp_agg_eval.var_names.get_loc(example_gene)]\n",
    "\n",
    "plt.figure(figsize=(6, 6))\n",
    "sns.scatterplot(x=vec_sp_agg, y=vec_ge)\n",
    "plt.xlabel(f\"Aggregated Original Expression ({example_gene})\")\n",
    "plt.ylabel(f\"Tangram Imputed Expression ({example_gene})\")\n",
    "plt.title(f\"Expression Comparison for {example_gene}\")\n",
    "# 추세선 추가 (선택 사항)\n",
    "sns.regplot(x=vec_sp_agg, y=vec_ge, scatter=False, color='red', line_kws={'linewidth':1})\n",
    "# 상관계수 표시\n",
    "corr_text = f\"Spearman: {results['gene_spearman'][example_gene]:.3f}\\nPearson: {results['gene_pearson'][example_gene]:.3f}\"\n",
    "plt.text(0.05, 0.95, corr_text, transform=plt.gca().transAxes, ha='left', va='top', bbox=dict(boxstyle='round,pad=0.3', fc='white', alpha=0.5))\n",
    "plt.grid(True, linestyle='--', alpha=0.6)\n",
    "plt.show()\n",
    "\n",
    "# 공간적 시각화 (선택 사항 - Scanpy 사용)\n",
    "# ad_ge_eval과 ad_sp_agg_eval에 대해 특정 유전자 발현 플롯\n",
    "# sc.pl.spatial(ad_sp_agg_eval, color=[example_gene], title=[f\"Aggregated Original ({example_gene})\"])\n",
    "# sc.pl.spatial(ad_ge_eval, color=[example_gene], title=[f\"Tangram Imputed ({example_gene})\"])\n",
    "\n",
    "print(\"Evaluation process finished.\")"
   ]
  },
  {
   "cell_type": "code",
   "execution_count": null,
   "id": "24e50f78-f9dd-4d2c-a975-3e9f666edd6b",
   "metadata": {},
   "outputs": [],
   "source": []
  },
  {
   "cell_type": "code",
   "execution_count": null,
   "id": "a39af78d-7432-4422-b792-88c4e1eebe42",
   "metadata": {},
   "outputs": [],
   "source": []
  },
  {
   "cell_type": "code",
   "execution_count": null,
   "id": "ee97c454-3d9c-4fca-9e10-c958da5ec1ab",
   "metadata": {},
   "outputs": [],
   "source": []
  },
  {
   "cell_type": "code",
   "execution_count": null,
   "id": "b7ec374f-42cb-405e-8ca5-fdf842f20a7b",
   "metadata": {},
   "outputs": [],
   "source": []
  },
  {
   "cell_type": "code",
   "execution_count": null,
   "id": "a81da816-2c0a-4782-8d78-be29ac8b4d29",
   "metadata": {},
   "outputs": [],
   "source": []
  },
  {
   "cell_type": "code",
   "execution_count": null,
   "id": "1a96de30-f884-4f2f-a1b6-d52f05ac3c94",
   "metadata": {},
   "outputs": [],
   "source": []
  }
 ],
 "metadata": {
  "kernelspec": {
   "display_name": "Python 3 (ipykernel)",
   "language": "python",
   "name": "python3"
  },
  "language_info": {
   "codemirror_mode": {
    "name": "ipython",
    "version": 3
   },
   "file_extension": ".py",
   "mimetype": "text/x-python",
   "name": "python",
   "nbconvert_exporter": "python",
   "pygments_lexer": "ipython3",
   "version": "3.10.4"
  }
 },
 "nbformat": 4,
 "nbformat_minor": 5
}
