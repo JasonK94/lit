{
 "cells": [
  {
   "cell_type": "code",
   "execution_count": 3,
   "id": "e1d1ec1b-b098-4dc3-b824-978845b5c143",
   "metadata": {},
   "outputs": [],
   "source": [
    "import numpy as np\n",
    "import pandas as pd\n",
    "import loompy\n",
    "import matplotlib.pyplot as plt\n",
    "import scipy.stats as st\n",
    "from SpaGE.main import SpaGE\n",
    "import warnings\n",
    "\n",
    "import scanpy as sc\n"
   ]
  },
  {
   "cell_type": "code",
   "execution_count": 2,
   "id": "412c79bb-6d29-4a6f-9964-7bc4ebee6570",
   "metadata": {},
   "outputs": [
    {
     "name": "stdout",
     "output_type": "stream",
     "text": [
      "Python Executable: /home/jaecheon/anaconda3/envs/scenvi/bin/python\n",
      "\n",
      "sys.path:\n",
      "/home/jaecheon/anaconda3/envs/scenvi/lib/python310.zip\n",
      "/home/jaecheon/anaconda3/envs/scenvi/lib/python3.10\n",
      "/home/jaecheon/anaconda3/envs/scenvi/lib/python3.10/lib-dynload\n",
      "\n",
      "/home/jaecheon/anaconda3/envs/scenvi/lib/python3.10/site-packages\n",
      "\n",
      "Current Working Directory: /home/jaecheon/pyscripts\n"
     ]
    }
   ],
   "source": [
    "RNA_data=sc.read_h5ad()\n",
    "ST=sc.read_h5ad()\n",
    "FISH_Genes=ds.ra[\"\"]\n"
   ]
  },
  {
   "cell_type": "code",
   "execution_count": 4,
   "id": "b1164d33-4f9e-4752-bba5-2a5c11196ba7",
   "metadata": {},
   "outputs": [
    {
     "name": "stdout",
     "output_type": "stream",
     "text": [
      "/home/jaecheon/anaconda3/envs/scenvi/lib/python3.10/site-packages\n"
     ]
    }
   ],
   "source": [
    "import site; print(site.getsitepackages()[0])"
   ]
  },
  {
   "cell_type": "code",
   "execution_count": 8,
   "id": "b620a314-befb-4f9f-90b7-9495049081e8",
   "metadata": {},
   "outputs": [
    {
     "name": "stdout",
     "output_type": "stream",
     "text": [
      "/home/jaecheon/anaconda3/envs/scenvi/bin/python\n",
      "['/home/jaecheon/anaconda3/envs/scenvi/lib/python310.zip', '/home/jaecheon/anaconda3/envs/scenvi/lib/python3.10', '/home/jaecheon/anaconda3/envs/scenvi/lib/python3.10/lib-dynload', '', '/home/jaecheon/anaconda3/envs/scenvi/lib/python3.10/site-packages']\n"
     ]
    }
   ],
   "source": [
    "#파이썬 경로\n",
    "import sys\n",
    "print(sys.executable)\n",
    "print(sys.path)"
   ]
  },
  {
   "cell_type": "code",
   "execution_count": null,
   "id": "bc751539-0a64-47f3-b9be-fd11fd16f326",
   "metadata": {},
   "outputs": [],
   "source": []
  }
 ],
 "metadata": {
  "kernelspec": {
   "display_name": "Python 3 (ipykernel)",
   "language": "python",
   "name": "python3"
  },
  "language_info": {
   "codemirror_mode": {
    "name": "ipython",
    "version": 3
   },
   "file_extension": ".py",
   "mimetype": "text/x-python",
   "name": "python",
   "nbconvert_exporter": "python",
   "pygments_lexer": "ipython3",
   "version": "3.10.4"
  }
 },
 "nbformat": 4,
 "nbformat_minor": 5
}
