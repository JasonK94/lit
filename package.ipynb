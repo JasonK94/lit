{
 "cells": [
  {
   "cell_type": "markdown",
   "id": "db51ca8f-5187-4e71-994a-0995b760eb11",
   "metadata": {},
   "source": [
    "# Checkout"
   ]
  },
  {
   "cell_type": "code",
   "execution_count": null,
   "id": "5a2b5217-91c3-415a-ae80-9046d14105d3",
   "metadata": {},
   "outputs": [],
   "source": [
    "import site; print(site.getsitepackages()[0])\n",
    "\n",
    "#파이썬 경로\n",
    "import sys\n",
    "print(sys.executable)\n",
    "print(sys.path)"
   ]
  },
  {
   "cell_type": "markdown",
   "id": "cc67857f-2f7e-4df9-9284-f615708d5700",
   "metadata": {
    "jp-MarkdownHeadingCollapsed": true
   },
   "source": [
    "# python packages"
   ]
  },
  {
   "cell_type": "code",
   "execution_count": 3,
   "id": "5c0ef8f5-fc52-4096-ad33-55feff8ab9ed",
   "metadata": {
    "collapsed": true,
    "editable": true,
    "jupyter": {
     "outputs_hidden": true
    },
    "scrolled": true,
    "slideshow": {
     "slide_type": ""
    },
    "tags": []
   },
   "outputs": [
    {
     "name": "stderr",
     "output_type": "stream",
     "text": [
      "/home/jaecheon/anaconda3/envs/scenvi/lib/python3.10/pty.py:89: RuntimeWarning: os.fork() was called. os.fork() is incompatible with multithreaded code, and JAX is multithreaded, so this will likely lead to a deadlock.\n",
      "  pid, fd = os.forkpty()\n"
     ]
    },
    {
     "name": "stdout",
     "output_type": "stream",
     "text": [
      "Collecting colorcet\n",
      "  Using cached colorcet-3.1.0-py3-none-any.whl.metadata (6.3 kB)\n",
      "Collecting umap\n",
      "  Using cached umap-0.1.1.tar.gz (3.2 kB)\n",
      "  Preparing metadata (setup.py) ... \u001b[?25ldone\n",
      "\u001b[?25hRequirement already satisfied: scanpy in /home/jaecheon/anaconda3/envs/scenvi/lib/python3.10/site-packages (1.11.1)\n",
      "Requirement already satisfied: pandas in /home/jaecheon/anaconda3/envs/scenvi/lib/python3.10/site-packages (2.2.3)\n",
      "Requirement already satisfied: numpy in /home/jaecheon/anaconda3/envs/scenvi/lib/python3.10/site-packages (2.2.4)\n",
      "Requirement already satisfied: seaborn in /home/jaecheon/anaconda3/envs/scenvi/lib/python3.10/site-packages (0.13.2)\n",
      "Requirement already satisfied: matplotlib in /home/jaecheon/anaconda3/envs/scenvi/lib/python3.10/site-packages (3.10.1)\n",
      "Collecting scvi-tools\n",
      "  Downloading scvi_tools-1.3.0-py3-none-any.whl.metadata (19 kB)\n",
      "Requirement already satisfied: scenvi in /home/jaecheon/anaconda3/envs/scenvi/lib/python3.10/site-packages (0.4.4)\n",
      "Requirement already satisfied: anndata>=0.8 in /home/jaecheon/anaconda3/envs/scenvi/lib/python3.10/site-packages (from scanpy) (0.11.4)\n",
      "Requirement already satisfied: h5py>=3.7 in /home/jaecheon/anaconda3/envs/scenvi/lib/python3.10/site-packages (from scanpy) (3.13.0)\n",
      "Requirement already satisfied: joblib in /home/jaecheon/anaconda3/envs/scenvi/lib/python3.10/site-packages (from scanpy) (1.4.2)\n",
      "Requirement already satisfied: legacy-api-wrap>=1.4 in /home/jaecheon/anaconda3/envs/scenvi/lib/python3.10/site-packages (from scanpy) (1.4.1)\n",
      "Requirement already satisfied: natsort in /home/jaecheon/anaconda3/envs/scenvi/lib/python3.10/site-packages (from scanpy) (8.4.0)\n",
      "Requirement already satisfied: networkx>=2.7 in /home/jaecheon/anaconda3/envs/scenvi/lib/python3.10/site-packages (from scanpy) (3.4.2)\n",
      "Requirement already satisfied: numba>=0.57 in /home/jaecheon/anaconda3/envs/scenvi/lib/python3.10/site-packages (from scanpy) (0.61.2)\n",
      "Requirement already satisfied: packaging>=21.3 in /home/jaecheon/anaconda3/envs/scenvi/lib/python3.10/site-packages (from scanpy) (24.2)\n",
      "Requirement already satisfied: patsy!=1.0.0 in /home/jaecheon/anaconda3/envs/scenvi/lib/python3.10/site-packages (from scanpy) (1.0.1)\n",
      "Requirement already satisfied: pynndescent>=0.5 in /home/jaecheon/anaconda3/envs/scenvi/lib/python3.10/site-packages (from scanpy) (0.5.13)\n",
      "Requirement already satisfied: scikit-learn<1.6.0,>=1.1 in /home/jaecheon/anaconda3/envs/scenvi/lib/python3.10/site-packages (from scanpy) (1.5.2)\n",
      "Requirement already satisfied: scipy>=1.8 in /home/jaecheon/anaconda3/envs/scenvi/lib/python3.10/site-packages (from scanpy) (1.15.2)\n",
      "Requirement already satisfied: session-info2 in /home/jaecheon/anaconda3/envs/scenvi/lib/python3.10/site-packages (from scanpy) (0.1.2)\n",
      "Requirement already satisfied: statsmodels>=0.13 in /home/jaecheon/anaconda3/envs/scenvi/lib/python3.10/site-packages (from scanpy) (0.14.4)\n",
      "Requirement already satisfied: tqdm in /home/jaecheon/anaconda3/envs/scenvi/lib/python3.10/site-packages (from scanpy) (4.67.1)\n",
      "Requirement already satisfied: typing-extensions in /home/jaecheon/anaconda3/envs/scenvi/lib/python3.10/site-packages (from scanpy) (4.13.2)\n",
      "Requirement already satisfied: umap-learn!=0.5.0,>=0.5 in /home/jaecheon/anaconda3/envs/scenvi/lib/python3.10/site-packages (from scanpy) (0.5.7)\n",
      "Requirement already satisfied: python-dateutil>=2.8.2 in /home/jaecheon/anaconda3/envs/scenvi/lib/python3.10/site-packages (from pandas) (2.9.0.post0)\n",
      "Requirement already satisfied: pytz>=2020.1 in /home/jaecheon/anaconda3/envs/scenvi/lib/python3.10/site-packages (from pandas) (2025.2)\n",
      "Requirement already satisfied: tzdata>=2022.7 in /home/jaecheon/anaconda3/envs/scenvi/lib/python3.10/site-packages (from pandas) (2025.2)\n",
      "Requirement already satisfied: contourpy>=1.0.1 in /home/jaecheon/anaconda3/envs/scenvi/lib/python3.10/site-packages (from matplotlib) (1.3.1)\n",
      "Requirement already satisfied: cycler>=0.10 in /home/jaecheon/anaconda3/envs/scenvi/lib/python3.10/site-packages (from matplotlib) (0.12.1)\n",
      "Requirement already satisfied: fonttools>=4.22.0 in /home/jaecheon/anaconda3/envs/scenvi/lib/python3.10/site-packages (from matplotlib) (4.57.0)\n",
      "Requirement already satisfied: kiwisolver>=1.3.1 in /home/jaecheon/anaconda3/envs/scenvi/lib/python3.10/site-packages (from matplotlib) (1.4.8)\n",
      "Requirement already satisfied: pillow>=8 in /home/jaecheon/anaconda3/envs/scenvi/lib/python3.10/site-packages (from matplotlib) (11.2.1)\n",
      "Requirement already satisfied: pyparsing>=2.3.1 in /home/jaecheon/anaconda3/envs/scenvi/lib/python3.10/site-packages (from matplotlib) (3.2.3)\n",
      "Collecting docrep>=0.3.2 (from scvi-tools)\n",
      "  Using cached docrep-0.3.2.tar.gz (33 kB)\n",
      "  Preparing metadata (setup.py) ... \u001b[?25ldone\n",
      "\u001b[?25hRequirement already satisfied: flax in /home/jaecheon/anaconda3/envs/scenvi/lib/python3.10/site-packages (from scvi-tools) (0.10.5)\n",
      "Collecting jax<=0.4.35 (from scvi-tools)\n",
      "  Downloading jax-0.4.35-py3-none-any.whl.metadata (22 kB)\n",
      "Collecting jaxlib<=0.4.35 (from scvi-tools)\n",
      "  Downloading jaxlib-0.4.35-cp310-cp310-manylinux2014_x86_64.whl.metadata (983 bytes)\n",
      "Collecting lightning>=2.0 (from scvi-tools)\n",
      "  Using cached lightning-2.5.1-py3-none-any.whl.metadata (39 kB)\n",
      "Requirement already satisfied: ml-collections>=0.1.1 in /home/jaecheon/anaconda3/envs/scenvi/lib/python3.10/site-packages (from scvi-tools) (1.0.0)\n",
      "Collecting mudata>=0.1.2 (from scvi-tools)\n",
      "  Downloading mudata-0.3.1-py3-none-any.whl.metadata (8.3 kB)\n",
      "Collecting numpyro>=0.12.1 (from scvi-tools)\n",
      "  Using cached numpyro-0.18.0-py3-none-any.whl.metadata (37 kB)\n",
      "Requirement already satisfied: optax in /home/jaecheon/anaconda3/envs/scenvi/lib/python3.10/site-packages (from scvi-tools) (0.2.4)\n",
      "Collecting pyro-ppl>=1.6.0 (from scvi-tools)\n",
      "  Using cached pyro_ppl-1.9.1-py3-none-any.whl.metadata (7.8 kB)\n",
      "Requirement already satisfied: rich>=12.0.0 in /home/jaecheon/anaconda3/envs/scenvi/lib/python3.10/site-packages (from scvi-tools) (14.0.0)\n",
      "Collecting sparse>=0.14.0 (from scvi-tools)\n",
      "  Downloading sparse-0.16.0-py2.py3-none-any.whl.metadata (5.3 kB)\n",
      "Collecting tensorboard>=2.0 (from scvi-tools)\n",
      "  Downloading tensorboard-2.19.0-py3-none-any.whl.metadata (1.8 kB)\n",
      "Collecting torch (from scvi-tools)\n",
      "  Downloading torch-2.6.0-cp310-cp310-manylinux1_x86_64.whl.metadata (28 kB)\n",
      "Collecting torchmetrics>=0.11.0 (from scvi-tools)\n",
      "  Using cached torchmetrics-1.7.1-py3-none-any.whl.metadata (21 kB)\n",
      "Collecting xarray>=2023.2.0 (from scvi-tools)\n",
      "  Downloading xarray-2025.3.1-py3-none-any.whl.metadata (12 kB)\n",
      "Requirement already satisfied: clu<0.0.12,>=0.0.11 in /home/jaecheon/anaconda3/envs/scenvi/lib/python3.10/site-packages (from scenvi) (0.0.11)\n",
      "Requirement already satisfied: tensorflow_probability<0.23.0,>=0.22.0 in /home/jaecheon/anaconda3/envs/scenvi/lib/python3.10/site-packages (from scenvi) (0.22.1)\n",
      "Requirement already satisfied: array-api-compat!=1.5,>1.4 in /home/jaecheon/anaconda3/envs/scenvi/lib/python3.10/site-packages (from anndata>=0.8->scanpy) (1.11.2)\n",
      "Requirement already satisfied: exceptiongroup in /home/jaecheon/anaconda3/envs/scenvi/lib/python3.10/site-packages (from anndata>=0.8->scanpy) (1.2.2)\n",
      "Requirement already satisfied: absl-py in /home/jaecheon/anaconda3/envs/scenvi/lib/python3.10/site-packages (from clu<0.0.12,>=0.0.11->scenvi) (2.2.2)\n",
      "Requirement already satisfied: etils[epath] in /home/jaecheon/anaconda3/envs/scenvi/lib/python3.10/site-packages (from clu<0.0.12,>=0.0.11->scenvi) (1.12.2)\n",
      "Requirement already satisfied: wrapt in /home/jaecheon/anaconda3/envs/scenvi/lib/python3.10/site-packages (from clu<0.0.12,>=0.0.11->scenvi) (1.17.2)\n",
      "Requirement already satisfied: six in /home/jaecheon/anaconda3/envs/scenvi/lib/python3.10/site-packages (from docrep>=0.3.2->scvi-tools) (1.17.0)\n",
      "INFO: pip is looking at multiple versions of flax to determine which version is compatible with other requirements. This could take a while.\n",
      "Collecting flax (from scvi-tools)\n",
      "  Downloading flax-0.10.4-py3-none-any.whl.metadata (11 kB)\n",
      "Requirement already satisfied: msgpack in /home/jaecheon/anaconda3/envs/scenvi/lib/python3.10/site-packages (from flax->scvi-tools) (1.1.0)\n",
      "Requirement already satisfied: orbax-checkpoint in /home/jaecheon/anaconda3/envs/scenvi/lib/python3.10/site-packages (from flax->scvi-tools) (0.11.12)\n",
      "Requirement already satisfied: tensorstore in /home/jaecheon/anaconda3/envs/scenvi/lib/python3.10/site-packages (from flax->scvi-tools) (0.1.73)\n",
      "Requirement already satisfied: PyYAML>=5.4.1 in /home/jaecheon/anaconda3/envs/scenvi/lib/python3.10/site-packages (from flax->scvi-tools) (6.0.2)\n",
      "Requirement already satisfied: treescope>=0.1.7 in /home/jaecheon/anaconda3/envs/scenvi/lib/python3.10/site-packages (from flax->scvi-tools) (0.1.9)\n",
      "Requirement already satisfied: ml-dtypes>=0.4.0 in /home/jaecheon/anaconda3/envs/scenvi/lib/python3.10/site-packages (from jax<=0.4.35->scvi-tools) (0.5.1)\n",
      "Requirement already satisfied: opt-einsum in /home/jaecheon/anaconda3/envs/scenvi/lib/python3.10/site-packages (from jax<=0.4.35->scvi-tools) (3.4.0)\n",
      "Requirement already satisfied: fsspec<2026.0,>=2022.5.0 in /home/jaecheon/anaconda3/envs/scenvi/lib/python3.10/site-packages (from fsspec[http]<2026.0,>=2022.5.0->lightning>=2.0->scvi-tools) (2025.3.2)\n",
      "Collecting lightning-utilities<2.0,>=0.10.0 (from lightning>=2.0->scvi-tools)\n",
      "  Using cached lightning_utilities-0.14.3-py3-none-any.whl.metadata (5.6 kB)\n",
      "Collecting pytorch-lightning (from lightning>=2.0->scvi-tools)\n",
      "  Using cached pytorch_lightning-2.5.1-py3-none-any.whl.metadata (20 kB)\n",
      "Requirement already satisfied: llvmlite<0.45,>=0.44.0dev0 in /home/jaecheon/anaconda3/envs/scenvi/lib/python3.10/site-packages (from numba>=0.57->scanpy) (0.44.0)\n",
      "Collecting multipledispatch (from numpyro>=0.12.1->scvi-tools)\n",
      "  Using cached multipledispatch-1.0.0-py3-none-any.whl.metadata (3.8 kB)\n",
      "Requirement already satisfied: chex>=0.1.87 in /home/jaecheon/anaconda3/envs/scenvi/lib/python3.10/site-packages (from optax->scvi-tools) (0.1.89)\n",
      "Collecting pyro-api>=0.1.1 (from pyro-ppl>=1.6.0->scvi-tools)\n",
      "  Using cached pyro_api-0.1.2-py3-none-any.whl.metadata (2.5 kB)\n",
      "Requirement already satisfied: markdown-it-py>=2.2.0 in /home/jaecheon/anaconda3/envs/scenvi/lib/python3.10/site-packages (from rich>=12.0.0->scvi-tools) (3.0.0)\n",
      "Requirement already satisfied: pygments<3.0.0,>=2.13.0 in /home/jaecheon/anaconda3/envs/scenvi/lib/python3.10/site-packages (from rich>=12.0.0->scvi-tools) (2.19.1)\n",
      "Requirement already satisfied: threadpoolctl>=3.1.0 in /home/jaecheon/anaconda3/envs/scenvi/lib/python3.10/site-packages (from scikit-learn<1.6.0,>=1.1->scanpy) (3.6.0)\n",
      "Collecting grpcio>=1.48.2 (from tensorboard>=2.0->scvi-tools)\n",
      "  Downloading grpcio-1.71.0-cp310-cp310-manylinux_2_17_x86_64.manylinux2014_x86_64.whl.metadata (3.8 kB)\n",
      "Collecting markdown>=2.6.8 (from tensorboard>=2.0->scvi-tools)\n",
      "  Downloading markdown-3.8-py3-none-any.whl.metadata (5.1 kB)\n",
      "Requirement already satisfied: protobuf!=4.24.0,>=3.19.6 in /home/jaecheon/anaconda3/envs/scenvi/lib/python3.10/site-packages (from tensorboard>=2.0->scvi-tools) (6.30.2)\n",
      "Requirement already satisfied: setuptools>=41.0.0 in /home/jaecheon/anaconda3/envs/scenvi/lib/python3.10/site-packages (from tensorboard>=2.0->scvi-tools) (75.8.0)\n",
      "Collecting tensorboard-data-server<0.8.0,>=0.7.0 (from tensorboard>=2.0->scvi-tools)\n",
      "  Downloading tensorboard_data_server-0.7.2-py3-none-manylinux_2_31_x86_64.whl.metadata (1.1 kB)\n",
      "Collecting werkzeug>=1.0.1 (from tensorboard>=2.0->scvi-tools)\n",
      "  Downloading werkzeug-3.1.3-py3-none-any.whl.metadata (3.7 kB)\n",
      "Requirement already satisfied: decorator in /home/jaecheon/anaconda3/envs/scenvi/lib/python3.10/site-packages (from tensorflow_probability<0.23.0,>=0.22.0->scenvi) (5.2.1)\n",
      "Requirement already satisfied: cloudpickle>=1.3 in /home/jaecheon/anaconda3/envs/scenvi/lib/python3.10/site-packages (from tensorflow_probability<0.23.0,>=0.22.0->scenvi) (3.1.1)\n",
      "Requirement already satisfied: gast>=0.3.2 in /home/jaecheon/anaconda3/envs/scenvi/lib/python3.10/site-packages (from tensorflow_probability<0.23.0,>=0.22.0->scenvi) (0.6.0)\n",
      "Requirement already satisfied: dm-tree in /home/jaecheon/anaconda3/envs/scenvi/lib/python3.10/site-packages (from tensorflow_probability<0.23.0,>=0.22.0->scenvi) (0.1.9)\n",
      "Collecting filelock (from torch->scvi-tools)\n",
      "  Using cached filelock-3.18.0-py3-none-any.whl.metadata (2.9 kB)\n",
      "Requirement already satisfied: jinja2 in /home/jaecheon/anaconda3/envs/scenvi/lib/python3.10/site-packages (from torch->scvi-tools) (3.1.6)\n",
      "Collecting nvidia-cuda-nvrtc-cu12==12.4.127 (from torch->scvi-tools)\n",
      "  Using cached nvidia_cuda_nvrtc_cu12-12.4.127-py3-none-manylinux2014_x86_64.whl.metadata (1.5 kB)\n",
      "Collecting nvidia-cuda-runtime-cu12==12.4.127 (from torch->scvi-tools)\n",
      "  Using cached nvidia_cuda_runtime_cu12-12.4.127-py3-none-manylinux2014_x86_64.whl.metadata (1.5 kB)\n",
      "Collecting nvidia-cuda-cupti-cu12==12.4.127 (from torch->scvi-tools)\n",
      "  Using cached nvidia_cuda_cupti_cu12-12.4.127-py3-none-manylinux2014_x86_64.whl.metadata (1.6 kB)\n",
      "Collecting nvidia-cudnn-cu12==9.1.0.70 (from torch->scvi-tools)\n",
      "  Using cached nvidia_cudnn_cu12-9.1.0.70-py3-none-manylinux2014_x86_64.whl.metadata (1.6 kB)\n",
      "Collecting nvidia-cublas-cu12==12.4.5.8 (from torch->scvi-tools)\n",
      "  Using cached nvidia_cublas_cu12-12.4.5.8-py3-none-manylinux2014_x86_64.whl.metadata (1.5 kB)\n",
      "Collecting nvidia-cufft-cu12==11.2.1.3 (from torch->scvi-tools)\n",
      "  Using cached nvidia_cufft_cu12-11.2.1.3-py3-none-manylinux2014_x86_64.whl.metadata (1.5 kB)\n",
      "Collecting nvidia-curand-cu12==10.3.5.147 (from torch->scvi-tools)\n",
      "  Using cached nvidia_curand_cu12-10.3.5.147-py3-none-manylinux2014_x86_64.whl.metadata (1.5 kB)\n",
      "Collecting nvidia-cusolver-cu12==11.6.1.9 (from torch->scvi-tools)\n",
      "  Using cached nvidia_cusolver_cu12-11.6.1.9-py3-none-manylinux2014_x86_64.whl.metadata (1.6 kB)\n",
      "Collecting nvidia-cusparse-cu12==12.3.1.170 (from torch->scvi-tools)\n",
      "  Using cached nvidia_cusparse_cu12-12.3.1.170-py3-none-manylinux2014_x86_64.whl.metadata (1.6 kB)\n",
      "Collecting nvidia-cusparselt-cu12==0.6.2 (from torch->scvi-tools)\n",
      "  Using cached nvidia_cusparselt_cu12-0.6.2-py3-none-manylinux2014_x86_64.whl.metadata (6.8 kB)\n",
      "Collecting nvidia-nccl-cu12==2.21.5 (from torch->scvi-tools)\n",
      "  Using cached nvidia_nccl_cu12-2.21.5-py3-none-manylinux2014_x86_64.whl.metadata (1.8 kB)\n",
      "Collecting nvidia-nvtx-cu12==12.4.127 (from torch->scvi-tools)\n",
      "  Using cached nvidia_nvtx_cu12-12.4.127-py3-none-manylinux2014_x86_64.whl.metadata (1.7 kB)\n",
      "Collecting nvidia-nvjitlink-cu12==12.4.127 (from torch->scvi-tools)\n",
      "  Using cached nvidia_nvjitlink_cu12-12.4.127-py3-none-manylinux2014_x86_64.whl.metadata (1.5 kB)\n",
      "Collecting triton==3.2.0 (from torch->scvi-tools)\n",
      "  Downloading triton-3.2.0-cp310-cp310-manylinux_2_17_x86_64.manylinux2014_x86_64.whl.metadata (1.4 kB)\n",
      "Collecting sympy==1.13.1 (from torch->scvi-tools)\n",
      "  Using cached sympy-1.13.1-py3-none-any.whl.metadata (12 kB)\n",
      "Collecting mpmath<1.4,>=1.1.0 (from sympy==1.13.1->torch->scvi-tools)\n",
      "  Using cached mpmath-1.3.0-py3-none-any.whl.metadata (8.6 kB)\n",
      "Requirement already satisfied: toolz>=0.9.0 in /home/jaecheon/anaconda3/envs/scenvi/lib/python3.10/site-packages (from chex>=0.1.87->optax->scvi-tools) (1.0.0)\n",
      "Collecting aiohttp!=4.0.0a0,!=4.0.0a1 (from fsspec[http]<2026.0,>=2022.5.0->lightning>=2.0->scvi-tools)\n",
      "  Downloading aiohttp-3.11.16-cp310-cp310-manylinux_2_17_x86_64.manylinux2014_x86_64.whl.metadata (7.7 kB)\n",
      "Requirement already satisfied: mdurl~=0.1 in /home/jaecheon/anaconda3/envs/scenvi/lib/python3.10/site-packages (from markdown-it-py>=2.2.0->rich>=12.0.0->scvi-tools) (0.1.2)\n",
      "Requirement already satisfied: MarkupSafe>=2.1.1 in /home/jaecheon/anaconda3/envs/scenvi/lib/python3.10/site-packages (from werkzeug>=1.0.1->tensorboard>=2.0->scvi-tools) (3.0.2)\n",
      "Requirement already satisfied: attrs>=18.2.0 in /home/jaecheon/anaconda3/envs/scenvi/lib/python3.10/site-packages (from dm-tree->tensorflow_probability<0.23.0,>=0.22.0->scenvi) (25.3.0)\n",
      "Requirement already satisfied: importlib_resources in /home/jaecheon/anaconda3/envs/scenvi/lib/python3.10/site-packages (from etils[epath]->clu<0.0.12,>=0.0.11->scenvi) (6.5.2)\n",
      "Requirement already satisfied: zipp in /home/jaecheon/anaconda3/envs/scenvi/lib/python3.10/site-packages (from etils[epath]->clu<0.0.12,>=0.0.11->scenvi) (3.21.0)\n",
      "INFO: pip is looking at multiple versions of orbax-checkpoint to determine which version is compatible with other requirements. This could take a while.\n",
      "Collecting orbax-checkpoint (from flax->scvi-tools)\n",
      "  Downloading orbax_checkpoint-0.11.11-py3-none-any.whl.metadata (2.0 kB)\n",
      "  Downloading orbax_checkpoint-0.11.10-py3-none-any.whl.metadata (2.0 kB)\n",
      "  Downloading orbax_checkpoint-0.11.9-py3-none-any.whl.metadata (2.0 kB)\n",
      "  Downloading orbax_checkpoint-0.11.8-py3-none-any.whl.metadata (2.0 kB)\n",
      "  Downloading orbax_checkpoint-0.11.7-py3-none-any.whl.metadata (2.0 kB)\n",
      "  Downloading orbax_checkpoint-0.11.6-py3-none-any.whl.metadata (1.9 kB)\n",
      "  Downloading orbax_checkpoint-0.11.5-py3-none-any.whl.metadata (1.9 kB)\n",
      "Requirement already satisfied: nest_asyncio in /home/jaecheon/anaconda3/envs/scenvi/lib/python3.10/site-packages (from orbax-checkpoint->flax->scvi-tools) (1.6.0)\n",
      "Requirement already satisfied: humanize in /home/jaecheon/anaconda3/envs/scenvi/lib/python3.10/site-packages (from orbax-checkpoint->flax->scvi-tools) (4.12.2)\n",
      "Requirement already satisfied: simplejson>=3.16.0 in /home/jaecheon/anaconda3/envs/scenvi/lib/python3.10/site-packages (from orbax-checkpoint->flax->scvi-tools) (3.20.1)\n",
      "Collecting aiohappyeyeballs>=2.3.0 (from aiohttp!=4.0.0a0,!=4.0.0a1->fsspec[http]<2026.0,>=2022.5.0->lightning>=2.0->scvi-tools)\n",
      "  Using cached aiohappyeyeballs-2.6.1-py3-none-any.whl.metadata (5.9 kB)\n",
      "Collecting aiosignal>=1.1.2 (from aiohttp!=4.0.0a0,!=4.0.0a1->fsspec[http]<2026.0,>=2022.5.0->lightning>=2.0->scvi-tools)\n",
      "  Using cached aiosignal-1.3.2-py2.py3-none-any.whl.metadata (3.8 kB)\n",
      "Collecting async-timeout<6.0,>=4.0 (from aiohttp!=4.0.0a0,!=4.0.0a1->fsspec[http]<2026.0,>=2022.5.0->lightning>=2.0->scvi-tools)\n",
      "  Using cached async_timeout-5.0.1-py3-none-any.whl.metadata (5.1 kB)\n",
      "Collecting frozenlist>=1.1.1 (from aiohttp!=4.0.0a0,!=4.0.0a1->fsspec[http]<2026.0,>=2022.5.0->lightning>=2.0->scvi-tools)\n",
      "  Downloading frozenlist-1.5.0-cp310-cp310-manylinux_2_5_x86_64.manylinux1_x86_64.manylinux_2_17_x86_64.manylinux2014_x86_64.whl.metadata (13 kB)\n",
      "Collecting multidict<7.0,>=4.5 (from aiohttp!=4.0.0a0,!=4.0.0a1->fsspec[http]<2026.0,>=2022.5.0->lightning>=2.0->scvi-tools)\n",
      "  Downloading multidict-6.4.3-cp310-cp310-manylinux_2_17_x86_64.manylinux2014_x86_64.whl.metadata (5.3 kB)\n",
      "Collecting propcache>=0.2.0 (from aiohttp!=4.0.0a0,!=4.0.0a1->fsspec[http]<2026.0,>=2022.5.0->lightning>=2.0->scvi-tools)\n",
      "  Downloading propcache-0.3.1-cp310-cp310-manylinux_2_17_x86_64.manylinux2014_x86_64.whl.metadata (10 kB)\n",
      "Collecting yarl<2.0,>=1.17.0 (from aiohttp!=4.0.0a0,!=4.0.0a1->fsspec[http]<2026.0,>=2022.5.0->lightning>=2.0->scvi-tools)\n",
      "  Downloading yarl-1.19.0-cp310-cp310-manylinux_2_17_x86_64.manylinux2014_x86_64.whl.metadata (71 kB)\n",
      "Requirement already satisfied: idna>=2.0 in /home/jaecheon/anaconda3/envs/scenvi/lib/python3.10/site-packages (from yarl<2.0,>=1.17.0->aiohttp!=4.0.0a0,!=4.0.0a1->fsspec[http]<2026.0,>=2022.5.0->lightning>=2.0->scvi-tools) (3.10)\n",
      "Using cached colorcet-3.1.0-py3-none-any.whl (260 kB)\n",
      "Downloading scvi_tools-1.3.0-py3-none-any.whl (503 kB)\n",
      "Downloading flax-0.10.4-py3-none-any.whl (451 kB)\n",
      "Downloading jax-0.4.35-py3-none-any.whl (2.2 MB)\n",
      "\u001b[2K   \u001b[90m━━━━━━━━━━━━━━━━━━━━━━━━━━━━━━━━━━━━━━━━\u001b[0m \u001b[32m2.2/2.2 MB\u001b[0m \u001b[31m28.5 MB/s\u001b[0m eta \u001b[36m0:00:00\u001b[0m\n",
      "\u001b[?25hDownloading jaxlib-0.4.35-cp310-cp310-manylinux2014_x86_64.whl (87.3 MB)\n",
      "\u001b[2K   \u001b[90m━━━━━━━━━━━━━━━━━━━━━━━━━━━━━━━━━━━━━━━━\u001b[0m \u001b[32m87.3/87.3 MB\u001b[0m \u001b[31m9.2 MB/s\u001b[0m eta \u001b[36m0:00:00\u001b[0m00:01\u001b[0m00:01\u001b[0mm\n",
      "\u001b[?25hUsing cached lightning-2.5.1-py3-none-any.whl (818 kB)\n",
      "Downloading mudata-0.3.1-py3-none-any.whl (41 kB)\n",
      "Using cached numpyro-0.18.0-py3-none-any.whl (365 kB)\n",
      "Using cached pyro_ppl-1.9.1-py3-none-any.whl (755 kB)\n",
      "Downloading sparse-0.16.0-py2.py3-none-any.whl (147 kB)\n",
      "Downloading tensorboard-2.19.0-py3-none-any.whl (5.5 MB)\n",
      "\u001b[2K   \u001b[90m━━━━━━━━━━━━━━━━━━━━━━━━━━━━━━━━━━━━━━━━\u001b[0m \u001b[32m5.5/5.5 MB\u001b[0m \u001b[31m8.4 MB/s\u001b[0m eta \u001b[36m0:00:00\u001b[0ma \u001b[36m0:00:01\u001b[0m\n",
      "\u001b[?25hDownloading torch-2.6.0-cp310-cp310-manylinux1_x86_64.whl (766.7 MB)\n",
      "\u001b[2K   \u001b[90m━━━━━━━━━━━━━━━━━━━━━━━━━━━━━━━━━━━━━━━━\u001b[0m \u001b[32m766.7/766.7 MB\u001b[0m \u001b[31m8.3 MB/s\u001b[0m eta \u001b[36m0:00:00\u001b[0m00:01\u001b[0m00:03\u001b[0m\n",
      "\u001b[?25hUsing cached nvidia_cublas_cu12-12.4.5.8-py3-none-manylinux2014_x86_64.whl (363.4 MB)\n",
      "Using cached nvidia_cuda_cupti_cu12-12.4.127-py3-none-manylinux2014_x86_64.whl (13.8 MB)\n",
      "Using cached nvidia_cuda_nvrtc_cu12-12.4.127-py3-none-manylinux2014_x86_64.whl (24.6 MB)\n",
      "Using cached nvidia_cuda_runtime_cu12-12.4.127-py3-none-manylinux2014_x86_64.whl (883 kB)\n",
      "Using cached nvidia_cudnn_cu12-9.1.0.70-py3-none-manylinux2014_x86_64.whl (664.8 MB)\n",
      "Using cached nvidia_cufft_cu12-11.2.1.3-py3-none-manylinux2014_x86_64.whl (211.5 MB)\n",
      "Using cached nvidia_curand_cu12-10.3.5.147-py3-none-manylinux2014_x86_64.whl (56.3 MB)\n",
      "Using cached nvidia_cusolver_cu12-11.6.1.9-py3-none-manylinux2014_x86_64.whl (127.9 MB)\n",
      "Using cached nvidia_cusparse_cu12-12.3.1.170-py3-none-manylinux2014_x86_64.whl (207.5 MB)\n",
      "Using cached nvidia_cusparselt_cu12-0.6.2-py3-none-manylinux2014_x86_64.whl (150.1 MB)\n",
      "Using cached nvidia_nccl_cu12-2.21.5-py3-none-manylinux2014_x86_64.whl (188.7 MB)\n",
      "Using cached nvidia_nvjitlink_cu12-12.4.127-py3-none-manylinux2014_x86_64.whl (21.1 MB)\n",
      "Using cached nvidia_nvtx_cu12-12.4.127-py3-none-manylinux2014_x86_64.whl (99 kB)\n",
      "Using cached sympy-1.13.1-py3-none-any.whl (6.2 MB)\n",
      "Downloading triton-3.2.0-cp310-cp310-manylinux_2_17_x86_64.manylinux2014_x86_64.whl (253.1 MB)\n",
      "\u001b[2K   \u001b[90m━━━━━━━━━━━━━━━━━━━━━━━━━━━━━━━━━━━━━━━━\u001b[0m \u001b[32m253.1/253.1 MB\u001b[0m \u001b[31m8.4 MB/s\u001b[0m eta \u001b[36m0:00:00\u001b[0m00:01\u001b[0m00:01\u001b[0m\n",
      "\u001b[?25hUsing cached torchmetrics-1.7.1-py3-none-any.whl (961 kB)\n",
      "Downloading xarray-2025.3.1-py3-none-any.whl (1.3 MB)\n",
      "\u001b[2K   \u001b[90m━━━━━━━━━━━━━━━━━━━━━━━━━━━━━━━━━━━━━━━━\u001b[0m \u001b[32m1.3/1.3 MB\u001b[0m \u001b[31m5.9 MB/s\u001b[0m eta \u001b[36m0:00:00\u001b[0ma \u001b[36m0:00:01\u001b[0m\n",
      "\u001b[?25hDownloading grpcio-1.71.0-cp310-cp310-manylinux_2_17_x86_64.manylinux2014_x86_64.whl (5.9 MB)\n",
      "\u001b[2K   \u001b[90m━━━━━━━━━━━━━━━━━━━━━━━━━━━━━━━━━━━━━━━━\u001b[0m \u001b[32m5.9/5.9 MB\u001b[0m \u001b[31m6.7 MB/s\u001b[0m eta \u001b[36m0:00:00\u001b[0ma \u001b[36m0:00:01\u001b[0m\n",
      "\u001b[?25hUsing cached lightning_utilities-0.14.3-py3-none-any.whl (28 kB)\n",
      "Downloading markdown-3.8-py3-none-any.whl (106 kB)\n",
      "Using cached pyro_api-0.1.2-py3-none-any.whl (11 kB)\n",
      "Downloading tensorboard_data_server-0.7.2-py3-none-manylinux_2_31_x86_64.whl (6.6 MB)\n",
      "\u001b[2K   \u001b[90m━━━━━━━━━━━━━━━━━━━━━━━━━━━━━━━━━━━━━━━━\u001b[0m \u001b[32m6.6/6.6 MB\u001b[0m \u001b[31m5.4 MB/s\u001b[0m eta \u001b[36m0:00:00\u001b[0m00:01\u001b[0m00:01\u001b[0m\n",
      "\u001b[?25hDownloading werkzeug-3.1.3-py3-none-any.whl (224 kB)\n",
      "Using cached filelock-3.18.0-py3-none-any.whl (16 kB)\n",
      "Using cached multipledispatch-1.0.0-py3-none-any.whl (12 kB)\n",
      "Downloading orbax_checkpoint-0.11.5-py3-none-any.whl (342 kB)\n",
      "Using cached pytorch_lightning-2.5.1-py3-none-any.whl (822 kB)\n",
      "Downloading aiohttp-3.11.16-cp310-cp310-manylinux_2_17_x86_64.manylinux2014_x86_64.whl (1.6 MB)\n",
      "\u001b[2K   \u001b[90m━━━━━━━━━━━━━━━━━━━━━━━━━━━━━━━━━━━━━━━━\u001b[0m \u001b[32m1.6/1.6 MB\u001b[0m \u001b[31m7.6 MB/s\u001b[0m eta \u001b[36m0:00:00\u001b[0m00:01\u001b[0m\n",
      "\u001b[?25hUsing cached mpmath-1.3.0-py3-none-any.whl (536 kB)\n",
      "Using cached aiohappyeyeballs-2.6.1-py3-none-any.whl (15 kB)\n",
      "Using cached aiosignal-1.3.2-py2.py3-none-any.whl (7.6 kB)\n",
      "Using cached async_timeout-5.0.1-py3-none-any.whl (6.2 kB)\n",
      "Downloading frozenlist-1.5.0-cp310-cp310-manylinux_2_5_x86_64.manylinux1_x86_64.manylinux_2_17_x86_64.manylinux2014_x86_64.whl (241 kB)\n",
      "Downloading multidict-6.4.3-cp310-cp310-manylinux_2_17_x86_64.manylinux2014_x86_64.whl (219 kB)\n",
      "Downloading propcache-0.3.1-cp310-cp310-manylinux_2_17_x86_64.manylinux2014_x86_64.whl (206 kB)\n",
      "Downloading yarl-1.19.0-cp310-cp310-manylinux_2_17_x86_64.manylinux2014_x86_64.whl (334 kB)\n",
      "Building wheels for collected packages: umap, docrep\n",
      "  Building wheel for umap (setup.py) ... \u001b[?25ldone\n",
      "\u001b[?25h  Created wheel for umap: filename=umap-0.1.1-py3-none-any.whl size=3577 sha256=32c40b2433193456467e3943f71541970308226ac4fa9ff9606f711cc52abe8b\n",
      "  Stored in directory: /home/jaecheon/.cache/pip/wheels/15/f1/28/53dcf7a309118ed35d810a5f9cb995217800f3f269ab5771cb\n",
      "  Building wheel for docrep (setup.py) ... \u001b[?25ldone\n",
      "\u001b[?25h  Created wheel for docrep: filename=docrep-0.3.2-py3-none-any.whl size=19941 sha256=b47e90a57da210b38669ba67cd30197bf8e27b123259fc902c1bbde3033a892c\n",
      "  Stored in directory: /home/jaecheon/.cache/pip/wheels/c3/64/48/03c38d8d906159eaa210b3c548fdb590eb3e2a4a5745ae2172\n",
      "Successfully built umap docrep\n",
      "Installing collected packages: umap, triton, pyro-api, nvidia-cusparselt-cu12, multipledispatch, mpmath, werkzeug, tensorboard-data-server, sympy, propcache, nvidia-nvtx-cu12, nvidia-nvjitlink-cu12, nvidia-nccl-cu12, nvidia-curand-cu12, nvidia-cufft-cu12, nvidia-cuda-runtime-cu12, nvidia-cuda-nvrtc-cu12, nvidia-cuda-cupti-cu12, nvidia-cublas-cu12, multidict, markdown, lightning-utilities, grpcio, frozenlist, filelock, docrep, colorcet, async-timeout, aiohappyeyeballs, yarl, tensorboard, sparse, nvidia-cusparse-cu12, nvidia-cudnn-cu12, jaxlib, aiosignal, xarray, nvidia-cusolver-cu12, jax, aiohttp, torch, orbax-checkpoint, numpyro, mudata, torchmetrics, pyro-ppl, pytorch-lightning, flax, lightning, scvi-tools\n",
      "  Attempting uninstall: jaxlib\n",
      "    Found existing installation: jaxlib 0.5.3\n",
      "    Uninstalling jaxlib-0.5.3:\n",
      "      Successfully uninstalled jaxlib-0.5.3\n",
      "  Attempting uninstall: jax\n",
      "    Found existing installation: jax 0.5.3\n",
      "    Uninstalling jax-0.5.3:\n",
      "      Successfully uninstalled jax-0.5.3\n",
      "  Attempting uninstall: orbax-checkpoint\n",
      "    Found existing installation: orbax-checkpoint 0.11.12\n",
      "    Uninstalling orbax-checkpoint-0.11.12:\n",
      "      Successfully uninstalled orbax-checkpoint-0.11.12\n",
      "  Attempting uninstall: flax\n",
      "    Found existing installation: flax 0.10.5\n",
      "    Uninstalling flax-0.10.5:\n",
      "      Successfully uninstalled flax-0.10.5\n",
      "Successfully installed aiohappyeyeballs-2.6.1 aiohttp-3.11.16 aiosignal-1.3.2 async-timeout-5.0.1 colorcet-3.1.0 docrep-0.3.2 filelock-3.18.0 flax-0.10.4 frozenlist-1.5.0 grpcio-1.71.0 jax-0.4.35 jaxlib-0.4.35 lightning-2.5.1 lightning-utilities-0.14.3 markdown-3.8 mpmath-1.3.0 mudata-0.3.1 multidict-6.4.3 multipledispatch-1.0.0 numpyro-0.18.0 nvidia-cublas-cu12-12.4.5.8 nvidia-cuda-cupti-cu12-12.4.127 nvidia-cuda-nvrtc-cu12-12.4.127 nvidia-cuda-runtime-cu12-12.4.127 nvidia-cudnn-cu12-9.1.0.70 nvidia-cufft-cu12-11.2.1.3 nvidia-curand-cu12-10.3.5.147 nvidia-cusolver-cu12-11.6.1.9 nvidia-cusparse-cu12-12.3.1.170 nvidia-cusparselt-cu12-0.6.2 nvidia-nccl-cu12-2.21.5 nvidia-nvjitlink-cu12-12.4.127 nvidia-nvtx-cu12-12.4.127 orbax-checkpoint-0.11.5 propcache-0.3.1 pyro-api-0.1.2 pyro-ppl-1.9.1 pytorch-lightning-2.5.1 scvi-tools-1.3.0 sparse-0.16.0 sympy-1.13.1 tensorboard-2.19.0 tensorboard-data-server-0.7.2 torch-2.6.0 torchmetrics-1.7.1 triton-3.2.0 umap-0.1.1 werkzeug-3.1.3 xarray-2025.3.1 yarl-1.19.0\n"
     ]
    }
   ],
   "source": [
    "!pip install colorcet umap scanpy pandas numpy seaborn matplotlib scvi-tools scenvi # for scENVI, scvi\n",
    "# !!{sys.executable} -m pip install pyreadr rpy2 loompy #rds 읽기, 파일변환 등\n",
    "# !!{sys.executable} -m pip install \"spatialdata[extra]\""
   ]
  },
  {
   "cell_type": "code",
   "execution_count": null,
   "id": "6baa9d10-9cb3-4694-9e95-27bb04133438",
   "metadata": {
    "collapsed": true,
    "jupyter": {
     "outputs_hidden": true
    }
   },
   "outputs": [
    {
     "name": "stdout",
     "output_type": "stream",
     "text": [
      "Collecting package metadata (current_repodata.json): | WARNING conda.models.version:get_matcher(531): Using .* with relational operator is superfluous and deprecated and will be removed in a future version of conda. Your spec was 1.7.1.*, but conda is ignoring the .* and treating it as 1.7.1\n",
      "done\n",
      "Solving environment: failed with initial frozen solve. Retrying with flexible solve.\n",
      "Solving environment: failed with repodata from current_repodata.json, will retry with next repodata source.\n",
      "Collecting package metadata (repodata.json): \\ WARNING conda.models.version:get_matcher(531): Using .* with relational operator is superfluous and deprecated and will be removed in a future version of conda. Your spec was 1.8.0.*, but conda is ignoring the .* and treating it as 1.8.0\n",
      "WARNING conda.models.version:get_matcher(531): Using .* with relational operator is superfluous and deprecated and will be removed in a future version of conda. Your spec was 1.6.0.*, but conda is ignoring the .* and treating it as 1.6.0\n",
      "WARNING conda.models.version:get_matcher(531): Using .* with relational operator is superfluous and deprecated and will be removed in a future version of conda. Your spec was 1.9.0.*, but conda is ignoring the .* and treating it as 1.9.0\n",
      "done\n",
      "Solving environment: - "
     ]
    }
   ],
   "source": [
    "# jupyter 내에서 !conda install 쓰면 환경인식문제를 일으킬 수 있음\n",
    "# 특히 base 외에서는 conda로 설치해도 실제 jupyter 커널에 적용되지 않을 수 있음\n",
    "# -y: 설치 중에 yes/no 묻지 않고 자동 설치\n",
    "# !conda install -y -c conda-forge scvi-tools colorcet umap-learn rpy2 scanpy pandas numpy seaborn matplotlib"
   ]
  },
  {
   "cell_type": "markdown",
   "id": "8afdbe12-c4bf-47f6-b61a-cbecf79ce7c2",
   "metadata": {},
   "source": [
    "## 한번에"
   ]
  },
  {
   "cell_type": "code",
   "execution_count": null,
   "id": "743f5544-c53a-45d3-a089-d28edde07300",
   "metadata": {
    "editable": true,
    "slideshow": {
     "slide_type": ""
    },
    "tags": []
   },
   "outputs": [],
   "source": [
    "pip install colorcet umap scanpy pandas numpy seaborn matplotlib scvi-tools scenvi scikit-misc igraph leidenalg mygene harmonypy scanorama louvain loompy\n",
    "pip install --upgrade anndata\n",
    "# integration\n",
    "# harmonypy scanorama\n",
    "# clustering\n",
    "# louvain"
   ]
  },
  {
   "cell_type": "code",
   "execution_count": null,
   "id": "e228f55e-9d4a-42d5-88b9-83777f4a3698",
   "metadata": {
    "editable": true,
    "slideshow": {
     "slide_type": ""
    },
    "tags": []
   },
   "outputs": [],
   "source": []
  },
  {
   "cell_type": "markdown",
   "id": "eb5e2d4b-5557-48c3-9983-f3fcc3274cd1",
   "metadata": {},
   "source": [
    "## jupyter lab"
   ]
  },
  {
   "cell_type": "code",
   "execution_count": 6,
   "id": "38f3c4bb-408c-44f1-9e40-255f3ad8e5ba",
   "metadata": {},
   "outputs": [
    {
     "name": "stdout",
     "output_type": "stream",
     "text": [
      "Requirement already satisfied: lckr-jupyterlab-variableinspector in /home/jaecheon/anaconda3/envs/scenvi/lib/python3.10/site-packages (3.2.4)\n"
     ]
    }
   ],
   "source": [
    "### https://atozcode.tistory.com/80\n",
    "\n",
    "# !pip install jupyterlab-lsp\n",
    "!pip install lckr-jupyterlab-variableinspector\n",
    "# !pip install 'python-lsp-server[all]'\n",
    "\n",
    "!pip install jupyter ipykernel"
   ]
  },
  {
   "cell_type": "markdown",
   "id": "e9a8ac0a-14d5-4893-8ab4-a8e371e66558",
   "metadata": {},
   "source": [
    "## VS code를 위한\n",
    "\n",
    "extension 설치 (python, python for VSCode(deprecated), python extension pack)"
   ]
  },
  {
   "cell_type": "markdown",
   "id": "b0c14361-04c7-4318-98f0-306e4068ddc4",
   "metadata": {
    "editable": true,
    "slideshow": {
     "slide_type": ""
    },
    "tags": []
   },
   "source": [
    "## Jax를 gpu 쓰게 하려면 (scenvi)"
   ]
  },
  {
   "cell_type": "code",
   "execution_count": null,
   "id": "67220fea-2356-4695-875d-7411295bedce",
   "metadata": {},
   "outputs": [],
   "source": [
    "pip install --upgrade jax jaxlib==0.1.71+cuda111 -f https://storage.googleapis.com/jax-releases/jax_releases.html"
   ]
  },
  {
   "cell_type": "markdown",
   "id": "d5619902-1b2a-4eed-b716-878a4197a741",
   "metadata": {},
   "source": [
    "# adavanced"
   ]
  },
  {
   "cell_type": "code",
   "execution_count": 7,
   "id": "29857f34-a172-4204-8eb2-36a0b83277ae",
   "metadata": {},
   "outputs": [
    {
     "name": "stdout",
     "output_type": "stream",
     "text": [
      "Collecting meld\n",
      "  Downloading meld-1.0.2-py3-none-any.whl.metadata (5.6 kB)\n",
      "Requirement already satisfied: numpy>=1.14.0 in /home/jaecheon/anaconda3/envs/scenvi/lib/python3.10/site-packages (from meld) (2.2.4)\n",
      "Requirement already satisfied: scipy>=1.1.0 in /home/jaecheon/anaconda3/envs/scenvi/lib/python3.10/site-packages (from meld) (1.15.2)\n",
      "Collecting graphtools>=1.5.0 (from meld)\n",
      "  Downloading graphtools-1.5.3-py3-none-any.whl.metadata (4.5 kB)\n",
      "Requirement already satisfied: pandas>=0.25 in /home/jaecheon/anaconda3/envs/scenvi/lib/python3.10/site-packages (from meld) (2.2.3)\n",
      "Collecting scprep>=1.0 (from meld)\n",
      "  Downloading scprep-1.2.3-py3-none-any.whl.metadata (7.0 kB)\n",
      "Collecting pygsp (from meld)\n",
      "  Downloading PyGSP-0.5.1-py2.py3-none-any.whl.metadata (6.9 kB)\n",
      "Requirement already satisfied: scikit-learn in /home/jaecheon/anaconda3/envs/scenvi/lib/python3.10/site-packages (from meld) (1.5.2)\n",
      "Collecting future (from graphtools>=1.5.0->meld)\n",
      "  Downloading future-1.0.0-py3-none-any.whl.metadata (4.0 kB)\n",
      "Collecting tasklogger>=1.0 (from graphtools>=1.5.0->meld)\n",
      "  Downloading tasklogger-1.2.0-py3-none-any.whl.metadata (6.0 kB)\n",
      "Collecting Deprecated (from graphtools>=1.5.0->meld)\n",
      "  Downloading Deprecated-1.2.18-py2.py3-none-any.whl.metadata (5.7 kB)\n",
      "Requirement already satisfied: python-dateutil>=2.8.2 in /home/jaecheon/anaconda3/envs/scenvi/lib/python3.10/site-packages (from pandas>=0.25->meld) (2.9.0.post0)\n",
      "Requirement already satisfied: pytz>=2020.1 in /home/jaecheon/anaconda3/envs/scenvi/lib/python3.10/site-packages (from pandas>=0.25->meld) (2025.2)\n",
      "Requirement already satisfied: tzdata>=2022.7 in /home/jaecheon/anaconda3/envs/scenvi/lib/python3.10/site-packages (from pandas>=0.25->meld) (2025.2)\n",
      "Requirement already satisfied: joblib>=1.2.0 in /home/jaecheon/anaconda3/envs/scenvi/lib/python3.10/site-packages (from scikit-learn->meld) (1.4.2)\n",
      "Requirement already satisfied: threadpoolctl>=3.1.0 in /home/jaecheon/anaconda3/envs/scenvi/lib/python3.10/site-packages (from scikit-learn->meld) (3.6.0)\n",
      "Requirement already satisfied: decorator>=4.3.0 in /home/jaecheon/anaconda3/envs/scenvi/lib/python3.10/site-packages (from scprep>=1.0->meld) (5.2.1)\n",
      "Collecting pandas>=0.25 (from meld)\n",
      "  Downloading pandas-2.0.3-cp310-cp310-manylinux_2_17_x86_64.manylinux2014_x86_64.whl.metadata (18 kB)\n",
      "Requirement already satisfied: packaging in /home/jaecheon/anaconda3/envs/scenvi/lib/python3.10/site-packages (from scprep>=1.0->meld) (24.2)\n",
      "Requirement already satisfied: six>=1.5 in /home/jaecheon/anaconda3/envs/scenvi/lib/python3.10/site-packages (from python-dateutil>=2.8.2->pandas>=0.25->meld) (1.17.0)\n",
      "Requirement already satisfied: wrapt<2,>=1.10 in /home/jaecheon/anaconda3/envs/scenvi/lib/python3.10/site-packages (from Deprecated->graphtools>=1.5.0->meld) (1.17.2)\n",
      "Downloading meld-1.0.2-py3-none-any.whl (26 kB)\n",
      "Downloading graphtools-1.5.3-py3-none-any.whl (45 kB)\n",
      "Downloading PyGSP-0.5.1-py2.py3-none-any.whl (1.8 MB)\n",
      "\u001b[2K   \u001b[90m━━━━━━━━━━━━━━━━━━━━━━━━━━━━━━━━━━━━━━━━\u001b[0m \u001b[32m1.8/1.8 MB\u001b[0m \u001b[31m11.9 MB/s\u001b[0m eta \u001b[36m0:00:00\u001b[0m\n",
      "\u001b[?25hDownloading scprep-1.2.3-py3-none-any.whl (94 kB)\n",
      "Downloading pandas-2.0.3-cp310-cp310-manylinux_2_17_x86_64.manylinux2014_x86_64.whl (12.3 MB)\n",
      "\u001b[2K   \u001b[90m━━━━━━━━━━━━━━━━━━━━━━━━━━━━━━━━━━━━━━━━\u001b[0m \u001b[32m12.3/12.3 MB\u001b[0m \u001b[31m10.3 MB/s\u001b[0m eta \u001b[36m0:00:00\u001b[0ma \u001b[36m0:00:01\u001b[0m\n",
      "\u001b[?25hDownloading tasklogger-1.2.0-py3-none-any.whl (14 kB)\n",
      "Downloading Deprecated-1.2.18-py2.py3-none-any.whl (10.0 kB)\n",
      "Downloading future-1.0.0-py3-none-any.whl (491 kB)\n",
      "Installing collected packages: future, Deprecated, tasklogger, pygsp, pandas, scprep, graphtools, meld\n",
      "  Attempting uninstall: pandas\n",
      "    Found existing installation: pandas 2.2.3\n",
      "    Uninstalling pandas-2.2.3:\n",
      "      Successfully uninstalled pandas-2.2.3\n",
      "\u001b[31mERROR: pip's dependency resolver does not currently take into account all the packages that are installed. This behaviour is the source of the following dependency conflicts.\n",
      "squidpy 1.6.5 requires pandas>=2.1.0, but you have pandas 2.0.3 which is incompatible.\n",
      "xarray 2024.11.0 requires pandas>=2.1, but you have pandas 2.0.3 which is incompatible.\u001b[0m\u001b[31m\n",
      "\u001b[0mSuccessfully installed Deprecated-1.2.18 future-1.0.0 graphtools-1.5.3 meld-1.0.2 pandas-2.0.3 pygsp-0.5.1 scprep-1.2.3 tasklogger-1.2.0\n",
      "Note: you may need to restart the kernel to use updated packages.\n"
     ]
    }
   ],
   "source": [
    "pip install pandas==2.1 #meld <-squidpy, xarray require pandas>=2.1 and scprep requires <2.1, statsmodels  requires !=2.1\n",
    "pip install meld"
   ]
  },
  {
   "cell_type": "code",
   "execution_count": 10,
   "id": "c165265c-219a-453b-9c72-1204d91d14e0",
   "metadata": {},
   "outputs": [
    {
     "name": "stdout",
     "output_type": "stream",
     "text": [
      "Collecting package metadata (current_repodata.json): done\n",
      "Solving environment: failed with initial frozen solve. Retrying with flexible solve.\n",
      "Collecting package metadata (repodata.json): done\n",
      "Solving environment: failed with initial frozen solve. Retrying with flexible solve.\n",
      "\n",
      "PackagesNotFoundError: The following packages are not available from current channels:\n",
      "\n",
      "  - pandas==2.1\n",
      "\n",
      "Current channels:\n",
      "\n",
      "  - https://repo.anaconda.com/pkgs/main/linux-64\n",
      "  - https://repo.anaconda.com/pkgs/main/noarch\n",
      "  - https://repo.anaconda.com/pkgs/r/linux-64\n",
      "  - https://repo.anaconda.com/pkgs/r/noarch\n",
      "\n",
      "To search for alternate channels that may provide the conda package you're\n",
      "looking for, navigate to\n",
      "\n",
      "    https://anaconda.org\n",
      "\n",
      "and use the search bar at the top of the page.\n",
      "\n",
      "\n",
      "\n",
      "Note: you may need to restart the kernel to use updated packages.\n"
     ]
    }
   ],
   "source": [
    "conda install pandas==2.1"
   ]
  },
  {
   "cell_type": "markdown",
   "id": "5a6725f6-0267-46d2-830f-ab8f675e9058",
   "metadata": {
    "jp-MarkdownHeadingCollapsed": true
   },
   "source": [
    "# Spatial"
   ]
  },
  {
   "cell_type": "markdown",
   "id": "ec22ed68-abac-466f-ad1f-dbfdd4936894",
   "metadata": {},
   "source": [
    "## imputation"
   ]
  },
  {
   "cell_type": "code",
   "execution_count": 2,
   "id": "16f72cee-836f-4d69-8c0e-61f3ea8debe9",
   "metadata": {
    "collapsed": true,
    "jupyter": {
     "outputs_hidden": true,
     "source_hidden": true
    },
    "scrolled": true
   },
   "outputs": [
    {
     "name": "stdout",
     "output_type": "stream",
     "text": [
      "Collecting scvi-colab\n",
      "  Downloading scvi_colab-0.13.0-py3-none-any.whl.metadata (1.7 kB)\n",
      "Requirement already satisfied: importlib-metadata>=8.0.0 in /home/jaecheon/anaconda3/envs/scenvi/lib/python3.10/site-packages (from scvi-colab) (8.6.1)\n",
      "Requirement already satisfied: rich in /home/jaecheon/anaconda3/envs/scenvi/lib/python3.10/site-packages (from scvi-colab) (14.0.0)\n",
      "Requirement already satisfied: zipp>=3.20 in /home/jaecheon/anaconda3/envs/scenvi/lib/python3.10/site-packages (from importlib-metadata>=8.0.0->scvi-colab) (3.21.0)\n",
      "Requirement already satisfied: markdown-it-py>=2.2.0 in /home/jaecheon/anaconda3/envs/scenvi/lib/python3.10/site-packages (from rich->scvi-colab) (3.0.0)\n",
      "Requirement already satisfied: pygments<3.0.0,>=2.13.0 in /home/jaecheon/anaconda3/envs/scenvi/lib/python3.10/site-packages (from rich->scvi-colab) (2.19.1)\n",
      "Requirement already satisfied: typing-extensions<5.0,>=4.0.0 in /home/jaecheon/anaconda3/envs/scenvi/lib/python3.10/site-packages (from rich->scvi-colab) (4.13.2)\n",
      "Requirement already satisfied: mdurl~=0.1 in /home/jaecheon/anaconda3/envs/scenvi/lib/python3.10/site-packages (from markdown-it-py>=2.2.0->rich->scvi-colab) (0.1.2)\n",
      "Downloading scvi_colab-0.13.0-py3-none-any.whl (4.4 kB)\n",
      "Installing collected packages: scvi-colab\n",
      "Successfully installed scvi-colab-0.13.0\n",
      "Note: you may need to restart the kernel to use updated packages.\n"
     ]
    }
   ],
   "source": [
    "pip install scvi-colab\n",
    "# Tangram\n",
    "pip install tangram-sc\n",
    "# TISSUE\n",
    "pip install tissue-sc\n",
    "# gimVI\n",
    "# https://docs.scvi-tools.org/en/1.0.0/tutorials/notebooks/gimvi_tutorial.html"
   ]
  },
  {
   "cell_type": "markdown",
   "id": "4d3f5750-b20e-4ddd-98de-43c98e03e5ef",
   "metadata": {},
   "source": [
    "## SpaGE\n",
    "https://www.notion.so/drgoze/SpaGE-1dc650f736bf80b7abc0c7c599badcca?pvs=4"
   ]
  },
  {
   "cell_type": "code",
   "execution_count": 3,
   "id": "3d2d9e84-2429-4dee-a701-dbf4b1b12b5c",
   "metadata": {
    "collapsed": true,
    "jupyter": {
     "outputs_hidden": true,
     "source_hidden": true
    }
   },
   "outputs": [
    {
     "name": "stdout",
     "output_type": "stream",
     "text": [
      "Using pip 25.0 from /home/jaecheon/anaconda3/envs/scenvi/lib/python3.10/site-packages/pip (python 3.10)\n",
      "Non-user install because site-packages writeable\n",
      "Created temporary directory: /tmp/pip-build-tracker-rgbw39d0\n",
      "Initialized build tracking at /tmp/pip-build-tracker-rgbw39d0\n",
      "Created build tracker: /tmp/pip-build-tracker-rgbw39d0\n",
      "Entered build tracker: /tmp/pip-build-tracker-rgbw39d0\n",
      "Created temporary directory: /tmp/pip-install-9hkx060r\n",
      "Created temporary directory: /tmp/pip-ephem-wheel-cache-honu752d\n",
      "Obtaining file:///home/jaecheon/git_packages/SpaGE\n",
      "  Added file:///home/jaecheon/git_packages/SpaGE to build tracker '/tmp/pip-build-tracker-rgbw39d0'\n",
      "  Running setup.py (path:/home/jaecheon/git_packages/SpaGE/setup.py) egg_info for package from file:///home/jaecheon/git_packages/SpaGE\n",
      "  Created temporary directory: /tmp/pip-pip-egg-info-ikrr56qc\n",
      "  Running command python setup.py egg_info\n",
      "  running egg_info\n",
      "  creating /tmp/pip-pip-egg-info-ikrr56qc/SpaGE.egg-info\n",
      "  writing /tmp/pip-pip-egg-info-ikrr56qc/SpaGE.egg-info/PKG-INFO\n",
      "  writing dependency_links to /tmp/pip-pip-egg-info-ikrr56qc/SpaGE.egg-info/dependency_links.txt\n",
      "  writing requirements to /tmp/pip-pip-egg-info-ikrr56qc/SpaGE.egg-info/requires.txt\n",
      "  writing top-level names to /tmp/pip-pip-egg-info-ikrr56qc/SpaGE.egg-info/top_level.txt\n",
      "  writing manifest file '/tmp/pip-pip-egg-info-ikrr56qc/SpaGE.egg-info/SOURCES.txt'\n",
      "  reading manifest file '/tmp/pip-pip-egg-info-ikrr56qc/SpaGE.egg-info/SOURCES.txt'\n",
      "  adding license file 'LICENSE'\n",
      "  writing manifest file '/tmp/pip-pip-egg-info-ikrr56qc/SpaGE.egg-info/SOURCES.txt'\n",
      "  Preparing metadata (setup.py) ... \u001b[?25l\u001b[?25hdone\n",
      "  Source in /home/jaecheon/git_packages/SpaGE has version 0.1.0, which satisfies requirement SpaGE==0.1.0 from file:///home/jaecheon/git_packages/SpaGE\n",
      "  Removed SpaGE==0.1.0 from file:///home/jaecheon/git_packages/SpaGE from build tracker '/tmp/pip-build-tracker-rgbw39d0'\n",
      "Requirement already satisfied: numpy in /home/jaecheon/anaconda3/envs/scenvi/lib/python3.10/site-packages (from SpaGE==0.1.0) (2.2.4)\n",
      "Requirement already satisfied: pandas in /home/jaecheon/anaconda3/envs/scenvi/lib/python3.10/site-packages (from SpaGE==0.1.0) (2.2.3)\n",
      "Requirement already satisfied: scipy in /home/jaecheon/anaconda3/envs/scenvi/lib/python3.10/site-packages (from SpaGE==0.1.0) (1.15.2)\n",
      "Requirement already satisfied: scikit-learn in /home/jaecheon/anaconda3/envs/scenvi/lib/python3.10/site-packages (from SpaGE==0.1.0) (1.5.2)\n",
      "Requirement already satisfied: python-dateutil>=2.8.2 in /home/jaecheon/anaconda3/envs/scenvi/lib/python3.10/site-packages (from pandas->SpaGE==0.1.0) (2.9.0.post0)\n",
      "Requirement already satisfied: pytz>=2020.1 in /home/jaecheon/anaconda3/envs/scenvi/lib/python3.10/site-packages (from pandas->SpaGE==0.1.0) (2025.2)\n",
      "Requirement already satisfied: tzdata>=2022.7 in /home/jaecheon/anaconda3/envs/scenvi/lib/python3.10/site-packages (from pandas->SpaGE==0.1.0) (2025.2)\n",
      "Requirement already satisfied: joblib>=1.2.0 in /home/jaecheon/anaconda3/envs/scenvi/lib/python3.10/site-packages (from scikit-learn->SpaGE==0.1.0) (1.4.2)\n",
      "Requirement already satisfied: threadpoolctl>=3.1.0 in /home/jaecheon/anaconda3/envs/scenvi/lib/python3.10/site-packages (from scikit-learn->SpaGE==0.1.0) (3.6.0)\n",
      "Requirement already satisfied: six>=1.5 in /home/jaecheon/anaconda3/envs/scenvi/lib/python3.10/site-packages (from python-dateutil>=2.8.2->pandas->SpaGE==0.1.0) (1.17.0)\n",
      "Created temporary directory: /tmp/pip-unpack-pf1ydmp0\n",
      "Installing collected packages: SpaGE\n",
      "\u001b[33m  DEPRECATION: Legacy editable install of SpaGE==0.1.0 from file:///home/jaecheon/git_packages/SpaGE (setup.py develop) is deprecated. pip 25.1 will enforce this behaviour change. A possible replacement is to add a pyproject.toml or enable --use-pep517, and use setuptools >= 64. If the resulting installation is not behaving as expected, try using --config-settings editable_mode=compat. Please consult the setuptools documentation for more information. Discussion can be found at https://github.com/pypa/pip/issues/11457\u001b[0m\u001b[33m\n",
      "\u001b[0m  Running setup.py develop for SpaGE\n",
      "    Running command python setup.py develop\n",
      "    running develop\n",
      "    /home/jaecheon/anaconda3/envs/scenvi/lib/python3.10/site-packages/setuptools/command/develop.py:41: EasyInstallDeprecationWarning: easy_install command is deprecated.\n",
      "    !!\n",
      "\n",
      "            ********************************************************************************\n",
      "            Please avoid running ``setup.py`` and ``easy_install``.\n",
      "            Instead, use pypa/build, pypa/installer or other\n",
      "            standards-based tools.\n",
      "\n",
      "            See https://github.com/pypa/setuptools/issues/917 for details.\n",
      "            ********************************************************************************\n",
      "\n",
      "    !!\n",
      "      easy_install.initialize_options(self)\n",
      "    /home/jaecheon/anaconda3/envs/scenvi/lib/python3.10/site-packages/setuptools/_distutils/cmd.py:79: SetuptoolsDeprecationWarning: setup.py install is deprecated.\n",
      "    !!\n",
      "\n",
      "            ********************************************************************************\n",
      "            Please avoid running ``setup.py`` directly.\n",
      "            Instead, use pypa/build, pypa/installer or other\n",
      "            standards-based tools.\n",
      "\n",
      "            See https://blog.ganssle.io/articles/2021/10/setup-py-deprecated.html for details.\n",
      "            ********************************************************************************\n",
      "\n",
      "    !!\n",
      "      self.initialize_options()\n",
      "    running egg_info\n",
      "    writing SpaGE/SpaGE.egg-info/PKG-INFO\n",
      "    writing dependency_links to SpaGE/SpaGE.egg-info/dependency_links.txt\n",
      "    writing requirements to SpaGE/SpaGE.egg-info/requires.txt\n",
      "    writing top-level names to SpaGE/SpaGE.egg-info/top_level.txt\n",
      "    reading manifest file 'SpaGE/SpaGE.egg-info/SOURCES.txt'\n",
      "    adding license file 'LICENSE'\n",
      "    writing manifest file 'SpaGE/SpaGE.egg-info/SOURCES.txt'\n",
      "    running build_ext\n",
      "    Creating /home/jaecheon/anaconda3/envs/scenvi/lib/python3.10/site-packages/SpaGE.egg-link (link to SpaGE)\n",
      "    Adding SpaGE 0.1.0 to easy-install.pth file\n",
      "\n",
      "    Installed /home/jaecheon/git_packages/SpaGE/SpaGE\n",
      "Successfully installed SpaGE\n",
      "Remote version of pip: 25.0.1\n",
      "Local version of pip:  25.0\n",
      "Was pip installed by pip? False\n",
      "Removed build tracker: '/tmp/pip-build-tracker-rgbw39d0'\n"
     ]
    }
   ],
   "source": [
    "import os\n",
    "os.chdir(\"/home/jaecheon/git_packages/SpaGE\")\n",
    "!cd /home/jaecheon/git_packages/\n",
    "!git clone https://github.com/tabdelaal/SpaGE.git\n",
    "!cd SpaGE\n",
    "#파이썬 import가 참조할 경로에 SpaGE 패키지 위치 추가.\n",
    "!export PYTHONPATH=$(pwd):$PYTHONPATH\n",
    "!echo $PYTHONPATH\n",
    "# 패키지 디렉터리 인식시키기\n",
    "!cd /home/jaecheon/git_packages/SpaGE\n",
    "!touch SpaGE/__init__.py\n",
    "# setup.py만들어 pip-install 가능하게 하기\n",
    "!cd ~/git_packages/SpaGE\n",
    "!cat > setup.py << 'EOF'\n",
    "from setuptools import setup, find_packages\n",
    "\n",
    "setup(\n",
    "    name='SpaGE',\n",
    "    version='0.1.0',\n",
    "    # inner SpaGE 폴더 안의 패키지를 찾아서, 최상위 'SpaGE' 네임스페이스에 매핑\n",
    "    packages=find_packages(where='SpaGE'),\n",
    "    package_dir={'': 'SpaGE'},\n",
    "    install_requires=[\n",
    "        'numpy',\n",
    "        'pandas',\n",
    "        'scipy',\n",
    "        'scikit-learn',\n",
    "    ],\n",
    ")\n",
    "EOF\n",
    "\n",
    "#Editable 모드로 설치\n",
    "!pip install -e . -vvv"
   ]
  },
  {
   "cell_type": "code",
   "execution_count": 5,
   "id": "3ca8328c-080e-4bb6-ad3e-6cf76a2ef34a",
   "metadata": {
    "collapsed": true,
    "jupyter": {
     "outputs_hidden": true
    }
   },
   "outputs": [
    {
     "name": "stdout",
     "output_type": "stream",
     "text": [
      "Collecting loompy\n",
      "  Using cached loompy-3.0.8.tar.gz (49 kB)\n",
      "  Preparing metadata (setup.py) ... \u001b[?25ldone\n",
      "\u001b[?25hRequirement already satisfied: h5py in /home/jaecheon/anaconda3/envs/scenvi/lib/python3.10/site-packages (from loompy) (3.13.0)\n",
      "Requirement already satisfied: numpy in /home/jaecheon/anaconda3/envs/scenvi/lib/python3.10/site-packages (from loompy) (2.2.4)\n",
      "Requirement already satisfied: scipy in /home/jaecheon/anaconda3/envs/scenvi/lib/python3.10/site-packages (from loompy) (1.15.2)\n",
      "Requirement already satisfied: setuptools in /home/jaecheon/anaconda3/envs/scenvi/lib/python3.10/site-packages (from loompy) (75.8.0)\n",
      "Requirement already satisfied: numba in /home/jaecheon/anaconda3/envs/scenvi/lib/python3.10/site-packages (from loompy) (0.61.2)\n",
      "Requirement already satisfied: click in /home/jaecheon/anaconda3/envs/scenvi/lib/python3.10/site-packages (from loompy) (8.1.8)\n",
      "Collecting numpy-groupies (from loompy)\n",
      "  Using cached numpy_groupies-0.11.2-py3-none-any.whl.metadata (18 kB)\n",
      "Requirement already satisfied: llvmlite<0.45,>=0.44.0dev0 in /home/jaecheon/anaconda3/envs/scenvi/lib/python3.10/site-packages (from numba->loompy) (0.44.0)\n",
      "Using cached numpy_groupies-0.11.2-py3-none-any.whl (40 kB)\n",
      "Building wheels for collected packages: loompy\n",
      "  Building wheel for loompy (setup.py) ... \u001b[?25ldone\n",
      "\u001b[?25h  Created wheel for loompy: filename=loompy-3.0.8-py3-none-any.whl size=54071 sha256=e3ddabeb6517814381aa6bf046f4c45f3639c2c0c35e7c1877eb5afedf2a7bba\n",
      "  Stored in directory: /home/jaecheon/.cache/pip/wheels/85/bd/f4/25b77f84a3422e43793b60935a51cdff79072b7682d1dd6d79\n",
      "Successfully built loompy\n",
      "Installing collected packages: numpy-groupies, loompy\n",
      "Successfully installed loompy-3.0.8 numpy-groupies-0.11.2\n"
     ]
    }
   ],
   "source": [
    "!pip install loompy"
   ]
  },
  {
   "cell_type": "markdown",
   "id": "9d19eb51-b47e-4c0b-964f-6182e1631a9c",
   "metadata": {},
   "source": [
    "# Customs"
   ]
  },
  {
   "cell_type": "code",
   "execution_count": 6,
   "id": "6a26cf3a-cb78-4139-a765-46dc7ae2e58b",
   "metadata": {},
   "outputs": [],
   "source": [
    "import sys\n",
    "# 예: /home/ko/project/utils 안에 tools.py가 있을 때\n",
    "sys.path.append(\"/home/jaecheon/pyscripts\")"
   ]
  },
  {
   "cell_type": "markdown",
   "id": "13aea423-b9ed-44c4-921d-6061e9b40bf9",
   "metadata": {},
   "source": [
    "# 기타"
   ]
  },
  {
   "cell_type": "markdown",
   "id": "9e15cd8f-ec3b-492c-8c65-17bd76a2b3c6",
   "metadata": {},
   "source": [
    "## umap methods='rapids'"
   ]
  },
  {
   "cell_type": "code",
   "execution_count": null,
   "id": "eea62f8c-38e6-4edb-82e5-b417d3c9a714",
   "metadata": {},
   "outputs": [],
   "source": [
    "conda install -c rapidsai cuml"
   ]
  },
  {
   "cell_type": "markdown",
   "id": "d1cfe3ff-5d6e-4c60-a1a7-90f99149a012",
   "metadata": {},
   "source": []
  },
  {
   "cell_type": "markdown",
   "id": "d0db7089-13f6-4803-a6d7-772e3c627d77",
   "metadata": {},
   "source": [
    "# ㅇㅇ"
   ]
  },
  {
   "cell_type": "markdown",
   "id": "0d2439ba-80a8-4323-8706-74333c786c2a",
   "metadata": {},
   "source": [
    "# ㅇㅇㅇ"
   ]
  },
  {
   "cell_type": "markdown",
   "id": "a4ade432-8d39-4bc5-a23e-a2b87bf65976",
   "metadata": {},
   "source": [
    "# ㅇㅇㅇㅇ"
   ]
  }
 ],
 "metadata": {
  "kernelspec": {
   "display_name": "Python 3 (ipykernel)",
   "language": "python",
   "name": "python3"
  },
  "language_info": {
   "codemirror_mode": {
    "name": "ipython",
    "version": 3
   },
   "file_extension": ".py",
   "mimetype": "text/x-python",
   "name": "python",
   "nbconvert_exporter": "python",
   "pygments_lexer": "ipython3",
   "version": "3.10.4"
  }
 },
 "nbformat": 4,
 "nbformat_minor": 5
}
